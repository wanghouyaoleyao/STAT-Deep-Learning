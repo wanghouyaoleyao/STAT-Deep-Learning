{
  "nbformat": 4,
  "nbformat_minor": 0,
  "metadata": {
    "colab": {
      "name": "HW3.ipynb",
      "provenance": [],
      "collapsed_sections": []
    },
    "kernelspec": {
      "name": "python3",
      "display_name": "Python 3"
    },
    "accelerator": "GPU"
  },
  "cells": [
    {
      "cell_type": "markdown",
      "metadata": {
        "id": "DKTRkfzB2meZ"
      },
      "source": [
        "## Predict stock price using LSTM model. "
      ]
    },
    {
      "cell_type": "markdown",
      "metadata": {
        "id": "jcnlSCMGU5_f"
      },
      "source": [
        "load the data and inspect them"
      ]
    },
    {
      "cell_type": "code",
      "metadata": {
        "id": "t5aWmKGmFCVH",
        "outputId": "f7a5fd1a-52d4-4b2f-9925-17948d9ba34e",
        "colab": {
          "base_uri": "https://localhost:8080/",
          "height": 219
        }
      },
      "source": [
        "import math\n",
        "import matplotlib.pyplot as plt\n",
        "import keras\n",
        "import pandas as pd\n",
        "import numpy as np\n",
        "from keras.models import Sequential\n",
        "from keras.layers import Dense\n",
        "from keras.layers import LSTM\n",
        "from keras.layers import Dropout\n",
        "from keras.layers import *\n",
        "from sklearn.preprocessing import MinMaxScaler\n",
        "from sklearn.metrics import mean_squared_error\n",
        "from sklearn.metrics import mean_absolute_error\n",
        "from sklearn.model_selection import train_test_split\n",
        "from keras.callbacks import EarlyStopping\n",
        "df=pd.read_csv(\"TSLA.csv\")\n",
        "print('Number of rows and columns:', df.shape)\n",
        "df.head(5)"
      ],
      "execution_count": 65,
      "outputs": [
        {
          "output_type": "stream",
          "text": [
            "Number of rows and columns: (1328, 7)\n"
          ],
          "name": "stdout"
        },
        {
          "output_type": "execute_result",
          "data": {
            "text/html": [
              "<div>\n",
              "<style scoped>\n",
              "    .dataframe tbody tr th:only-of-type {\n",
              "        vertical-align: middle;\n",
              "    }\n",
              "\n",
              "    .dataframe tbody tr th {\n",
              "        vertical-align: top;\n",
              "    }\n",
              "\n",
              "    .dataframe thead th {\n",
              "        text-align: right;\n",
              "    }\n",
              "</style>\n",
              "<table border=\"1\" class=\"dataframe\">\n",
              "  <thead>\n",
              "    <tr style=\"text-align: right;\">\n",
              "      <th></th>\n",
              "      <th>Date</th>\n",
              "      <th>Open</th>\n",
              "      <th>High</th>\n",
              "      <th>Low</th>\n",
              "      <th>Close</th>\n",
              "      <th>Adj Close</th>\n",
              "      <th>Volume</th>\n",
              "    </tr>\n",
              "  </thead>\n",
              "  <tbody>\n",
              "    <tr>\n",
              "      <th>0</th>\n",
              "      <td>2015-07-09</td>\n",
              "      <td>51.816002</td>\n",
              "      <td>52.590000</td>\n",
              "      <td>51.358002</td>\n",
              "      <td>51.584000</td>\n",
              "      <td>51.584000</td>\n",
              "      <td>16670500</td>\n",
              "    </tr>\n",
              "    <tr>\n",
              "      <th>1</th>\n",
              "      <td>2015-07-10</td>\n",
              "      <td>52.444000</td>\n",
              "      <td>52.599998</td>\n",
              "      <td>51.563999</td>\n",
              "      <td>51.830002</td>\n",
              "      <td>51.830002</td>\n",
              "      <td>13054500</td>\n",
              "    </tr>\n",
              "    <tr>\n",
              "      <th>2</th>\n",
              "      <td>2015-07-13</td>\n",
              "      <td>52.450001</td>\n",
              "      <td>52.509998</td>\n",
              "      <td>51.209999</td>\n",
              "      <td>52.431999</td>\n",
              "      <td>52.431999</td>\n",
              "      <td>14801500</td>\n",
              "    </tr>\n",
              "    <tr>\n",
              "      <th>3</th>\n",
              "      <td>2015-07-14</td>\n",
              "      <td>52.419998</td>\n",
              "      <td>53.198002</td>\n",
              "      <td>52.102001</td>\n",
              "      <td>53.130001</td>\n",
              "      <td>53.130001</td>\n",
              "      <td>9538000</td>\n",
              "    </tr>\n",
              "    <tr>\n",
              "      <th>4</th>\n",
              "      <td>2015-07-15</td>\n",
              "      <td>53.348000</td>\n",
              "      <td>53.498001</td>\n",
              "      <td>52.416000</td>\n",
              "      <td>52.627998</td>\n",
              "      <td>52.627998</td>\n",
              "      <td>10108000</td>\n",
              "    </tr>\n",
              "  </tbody>\n",
              "</table>\n",
              "</div>"
            ],
            "text/plain": [
              "         Date       Open       High        Low      Close  Adj Close    Volume\n",
              "0  2015-07-09  51.816002  52.590000  51.358002  51.584000  51.584000  16670500\n",
              "1  2015-07-10  52.444000  52.599998  51.563999  51.830002  51.830002  13054500\n",
              "2  2015-07-13  52.450001  52.509998  51.209999  52.431999  52.431999  14801500\n",
              "3  2015-07-14  52.419998  53.198002  52.102001  53.130001  53.130001   9538000\n",
              "4  2015-07-15  53.348000  53.498001  52.416000  52.627998  52.627998  10108000"
            ]
          },
          "metadata": {
            "tags": []
          },
          "execution_count": 65
        }
      ]
    },
    {
      "cell_type": "markdown",
      "metadata": {
        "id": "NXWJI0qyppnL"
      },
      "source": [
        "split the data into training and test sets "
      ]
    },
    {
      "cell_type": "code",
      "metadata": {
        "id": "ZNh9WBcYFCX3"
      },
      "source": [
        "training_set = df.iloc[:800, 1:2].values\n",
        "test_set = df.iloc[800:, 1:2].values"
      ],
      "execution_count": 66,
      "outputs": []
    },
    {
      "cell_type": "markdown",
      "metadata": {
        "id": "ohBW2I2HVC7R"
      },
      "source": [
        "## A standard model"
      ]
    },
    {
      "cell_type": "markdown",
      "metadata": {
        "id": "LkhOol4lCjWb"
      },
      "source": [
        "## Lag: 1, Hidden Layers: 4, Dropout Rate: 0.2"
      ]
    },
    {
      "cell_type": "markdown",
      "metadata": {
        "id": "rttQIuIq-ubf"
      },
      "source": [
        "1 day"
      ]
    },
    {
      "cell_type": "code",
      "metadata": {
        "id": "qq0NzbUbFCc6",
        "outputId": "6b569e86-4784-4748-c804-658f67bfe7d5",
        "colab": {
          "base_uri": "https://localhost:8080/",
          "height": 35
        }
      },
      "source": [
        "# Feature Scaling\n",
        "sc = MinMaxScaler(feature_range = (0, 1))\n",
        "training_set_scaled = sc.fit_transform(training_set)\n",
        "# Creating a data structure with 60 time-steps and 1 output\n",
        "X_train = []\n",
        "y_train = []\n",
        "for i in range(60, 800):\n",
        "    X_train.append(training_set_scaled[i-60:i, 0])\n",
        "    y_train.append(training_set_scaled[i, 0])\n",
        "X_train, y_train = np.array(X_train), np.array(y_train)\n",
        "X_train = np.reshape(X_train, (X_train.shape[0], X_train.shape[1], 1))\n",
        "X_train.shape"
      ],
      "execution_count": 67,
      "outputs": [
        {
          "output_type": "execute_result",
          "data": {
            "text/plain": [
              "(740, 60, 1)"
            ]
          },
          "metadata": {
            "tags": []
          },
          "execution_count": 67
        }
      ]
    },
    {
      "cell_type": "markdown",
      "metadata": {
        "id": "qwctIYNa9FLB"
      },
      "source": [
        "Build LSTM mode, with 50 neurons and 4 layers, droupout rate = 0.2"
      ]
    },
    {
      "cell_type": "code",
      "metadata": {
        "id": "2ZRla4Xu9JkA",
        "outputId": "573f09e3-c73f-4096-b59a-1203bff6cd3c",
        "colab": {
          "base_uri": "https://localhost:8080/",
          "height": 1000
        }
      },
      "source": [
        "model = Sequential()\n",
        "#Adding the first LSTM layer and some Dropout regularisation\n",
        "model.add(LSTM(units = 50, return_sequences = True, input_shape = (X_train.shape[1], 1)))\n",
        "model.add(Dropout(0.2))\n",
        "# Adding a second LSTM layer and some Dropout regularisation\n",
        "model.add(LSTM(units = 50, return_sequences = True))\n",
        "model.add(Dropout(0.2))\n",
        "# Adding a third LSTM layer and some Dropout regularisation\n",
        "model.add(LSTM(units = 50, return_sequences = True))\n",
        "model.add(Dropout(0.2))\n",
        "# Adding a fourth LSTM layer and some Dropout regularisation\n",
        "model.add(LSTM(units = 50))\n",
        "model.add(Dropout(0.2))\n",
        "# Adding the output layer\n",
        "model.add(Dense(units = 1))\n",
        "\n",
        "# Compiling the RNN\n",
        "model.compile(optimizer = 'adam', loss = 'mean_squared_error')\n",
        "\n",
        "# Fitting the RNN to the Training set\n",
        "model.fit(X_train, y_train, epochs = 100, batch_size = 32)"
      ],
      "execution_count": 68,
      "outputs": [
        {
          "output_type": "stream",
          "text": [
            "Epoch 1/100\n",
            "24/24 [==============================] - 0s 17ms/step - loss: 0.0669\n",
            "Epoch 2/100\n",
            "24/24 [==============================] - 0s 14ms/step - loss: 0.0166\n",
            "Epoch 3/100\n",
            "24/24 [==============================] - 0s 14ms/step - loss: 0.0128\n",
            "Epoch 4/100\n",
            "24/24 [==============================] - 0s 14ms/step - loss: 0.0117\n",
            "Epoch 5/100\n",
            "24/24 [==============================] - 0s 14ms/step - loss: 0.0113\n",
            "Epoch 6/100\n",
            "24/24 [==============================] - 0s 14ms/step - loss: 0.0116\n",
            "Epoch 7/100\n",
            "24/24 [==============================] - 0s 14ms/step - loss: 0.0110\n",
            "Epoch 8/100\n",
            "24/24 [==============================] - 0s 14ms/step - loss: 0.0108\n",
            "Epoch 9/100\n",
            "24/24 [==============================] - 0s 14ms/step - loss: 0.0103\n",
            "Epoch 10/100\n",
            "24/24 [==============================] - 0s 14ms/step - loss: 0.0103\n",
            "Epoch 11/100\n",
            "24/24 [==============================] - 0s 14ms/step - loss: 0.0092\n",
            "Epoch 12/100\n",
            "24/24 [==============================] - 0s 14ms/step - loss: 0.0098\n",
            "Epoch 13/100\n",
            "24/24 [==============================] - 0s 14ms/step - loss: 0.0087\n",
            "Epoch 14/100\n",
            "24/24 [==============================] - 0s 14ms/step - loss: 0.0097\n",
            "Epoch 15/100\n",
            "24/24 [==============================] - 0s 14ms/step - loss: 0.0083\n",
            "Epoch 16/100\n",
            "24/24 [==============================] - 0s 14ms/step - loss: 0.0081\n",
            "Epoch 17/100\n",
            "24/24 [==============================] - 0s 14ms/step - loss: 0.0075\n",
            "Epoch 18/100\n",
            "24/24 [==============================] - 0s 14ms/step - loss: 0.0070\n",
            "Epoch 19/100\n",
            "24/24 [==============================] - 0s 14ms/step - loss: 0.0079\n",
            "Epoch 20/100\n",
            "24/24 [==============================] - 0s 14ms/step - loss: 0.0098\n",
            "Epoch 21/100\n",
            "24/24 [==============================] - 0s 14ms/step - loss: 0.0087\n",
            "Epoch 22/100\n",
            "24/24 [==============================] - 0s 14ms/step - loss: 0.0066\n",
            "Epoch 23/100\n",
            "24/24 [==============================] - 0s 14ms/step - loss: 0.0066\n",
            "Epoch 24/100\n",
            "24/24 [==============================] - 0s 14ms/step - loss: 0.0067\n",
            "Epoch 25/100\n",
            "24/24 [==============================] - 0s 14ms/step - loss: 0.0070\n",
            "Epoch 26/100\n",
            "24/24 [==============================] - 0s 14ms/step - loss: 0.0067\n",
            "Epoch 27/100\n",
            "24/24 [==============================] - 0s 14ms/step - loss: 0.0065\n",
            "Epoch 28/100\n",
            "24/24 [==============================] - 0s 14ms/step - loss: 0.0064\n",
            "Epoch 29/100\n",
            "24/24 [==============================] - 0s 14ms/step - loss: 0.0064\n",
            "Epoch 30/100\n",
            "24/24 [==============================] - 0s 14ms/step - loss: 0.0060\n",
            "Epoch 31/100\n",
            "24/24 [==============================] - 0s 14ms/step - loss: 0.0065\n",
            "Epoch 32/100\n",
            "24/24 [==============================] - 0s 14ms/step - loss: 0.0057\n",
            "Epoch 33/100\n",
            "24/24 [==============================] - 0s 14ms/step - loss: 0.0069\n",
            "Epoch 34/100\n",
            "24/24 [==============================] - 0s 15ms/step - loss: 0.0063\n",
            "Epoch 35/100\n",
            "24/24 [==============================] - 0s 14ms/step - loss: 0.0054\n",
            "Epoch 36/100\n",
            "24/24 [==============================] - 0s 14ms/step - loss: 0.0052\n",
            "Epoch 37/100\n",
            "24/24 [==============================] - 0s 15ms/step - loss: 0.0051\n",
            "Epoch 38/100\n",
            "24/24 [==============================] - 0s 14ms/step - loss: 0.0047\n",
            "Epoch 39/100\n",
            "24/24 [==============================] - 0s 14ms/step - loss: 0.0054\n",
            "Epoch 40/100\n",
            "24/24 [==============================] - 0s 14ms/step - loss: 0.0045\n",
            "Epoch 41/100\n",
            "24/24 [==============================] - 0s 15ms/step - loss: 0.0049\n",
            "Epoch 42/100\n",
            "24/24 [==============================] - 0s 14ms/step - loss: 0.0045\n",
            "Epoch 43/100\n",
            "24/24 [==============================] - 0s 14ms/step - loss: 0.0054\n",
            "Epoch 44/100\n",
            "24/24 [==============================] - 0s 14ms/step - loss: 0.0047\n",
            "Epoch 45/100\n",
            "24/24 [==============================] - 0s 14ms/step - loss: 0.0042\n",
            "Epoch 46/100\n",
            "24/24 [==============================] - 0s 14ms/step - loss: 0.0046\n",
            "Epoch 47/100\n",
            "24/24 [==============================] - 0s 14ms/step - loss: 0.0049\n",
            "Epoch 48/100\n",
            "24/24 [==============================] - 0s 14ms/step - loss: 0.0046\n",
            "Epoch 49/100\n",
            "24/24 [==============================] - 0s 14ms/step - loss: 0.0048\n",
            "Epoch 50/100\n",
            "24/24 [==============================] - 0s 14ms/step - loss: 0.0043\n",
            "Epoch 51/100\n",
            "24/24 [==============================] - 0s 14ms/step - loss: 0.0040\n",
            "Epoch 52/100\n",
            "24/24 [==============================] - 0s 15ms/step - loss: 0.0044\n",
            "Epoch 53/100\n",
            "24/24 [==============================] - 0s 15ms/step - loss: 0.0042\n",
            "Epoch 54/100\n",
            "24/24 [==============================] - 0s 14ms/step - loss: 0.0047\n",
            "Epoch 55/100\n",
            "24/24 [==============================] - 0s 14ms/step - loss: 0.0042\n",
            "Epoch 56/100\n",
            "24/24 [==============================] - 0s 14ms/step - loss: 0.0041\n",
            "Epoch 57/100\n",
            "24/24 [==============================] - 0s 15ms/step - loss: 0.0036\n",
            "Epoch 58/100\n",
            "24/24 [==============================] - 0s 14ms/step - loss: 0.0038\n",
            "Epoch 59/100\n",
            "24/24 [==============================] - 0s 14ms/step - loss: 0.0039\n",
            "Epoch 60/100\n",
            "24/24 [==============================] - 0s 15ms/step - loss: 0.0041\n",
            "Epoch 61/100\n",
            "24/24 [==============================] - 0s 13ms/step - loss: 0.0035\n",
            "Epoch 62/100\n",
            "24/24 [==============================] - 0s 14ms/step - loss: 0.0038\n",
            "Epoch 63/100\n",
            "24/24 [==============================] - 0s 14ms/step - loss: 0.0044\n",
            "Epoch 64/100\n",
            "24/24 [==============================] - 0s 14ms/step - loss: 0.0041\n",
            "Epoch 65/100\n",
            "24/24 [==============================] - 0s 15ms/step - loss: 0.0033\n",
            "Epoch 66/100\n",
            "24/24 [==============================] - 0s 14ms/step - loss: 0.0036\n",
            "Epoch 67/100\n",
            "24/24 [==============================] - 0s 14ms/step - loss: 0.0034\n",
            "Epoch 68/100\n",
            "24/24 [==============================] - 0s 14ms/step - loss: 0.0036\n",
            "Epoch 69/100\n",
            "24/24 [==============================] - 0s 14ms/step - loss: 0.0036\n",
            "Epoch 70/100\n",
            "24/24 [==============================] - 0s 14ms/step - loss: 0.0036\n",
            "Epoch 71/100\n",
            "24/24 [==============================] - 0s 14ms/step - loss: 0.0040\n",
            "Epoch 72/100\n",
            "24/24 [==============================] - 0s 14ms/step - loss: 0.0034\n",
            "Epoch 73/100\n",
            "24/24 [==============================] - 0s 14ms/step - loss: 0.0034\n",
            "Epoch 74/100\n",
            "24/24 [==============================] - 0s 14ms/step - loss: 0.0037\n",
            "Epoch 75/100\n",
            "24/24 [==============================] - 0s 14ms/step - loss: 0.0036\n",
            "Epoch 76/100\n",
            "24/24 [==============================] - 0s 14ms/step - loss: 0.0031\n",
            "Epoch 77/100\n",
            "24/24 [==============================] - 0s 15ms/step - loss: 0.0029\n",
            "Epoch 78/100\n",
            "24/24 [==============================] - 0s 14ms/step - loss: 0.0035\n",
            "Epoch 79/100\n",
            "24/24 [==============================] - 0s 14ms/step - loss: 0.0031\n",
            "Epoch 80/100\n",
            "24/24 [==============================] - 0s 15ms/step - loss: 0.0033\n",
            "Epoch 81/100\n",
            "24/24 [==============================] - 0s 15ms/step - loss: 0.0040\n",
            "Epoch 82/100\n",
            "24/24 [==============================] - 0s 14ms/step - loss: 0.0042\n",
            "Epoch 83/100\n",
            "24/24 [==============================] - 0s 14ms/step - loss: 0.0032\n",
            "Epoch 84/100\n",
            "24/24 [==============================] - 0s 14ms/step - loss: 0.0033\n",
            "Epoch 85/100\n",
            "24/24 [==============================] - 0s 14ms/step - loss: 0.0034\n",
            "Epoch 86/100\n",
            "24/24 [==============================] - 0s 14ms/step - loss: 0.0041\n",
            "Epoch 87/100\n",
            "24/24 [==============================] - 0s 14ms/step - loss: 0.0032\n",
            "Epoch 88/100\n",
            "24/24 [==============================] - 0s 15ms/step - loss: 0.0034\n",
            "Epoch 89/100\n",
            "24/24 [==============================] - 0s 14ms/step - loss: 0.0032\n",
            "Epoch 90/100\n",
            "24/24 [==============================] - 0s 14ms/step - loss: 0.0029\n",
            "Epoch 91/100\n",
            "24/24 [==============================] - 0s 14ms/step - loss: 0.0031\n",
            "Epoch 92/100\n",
            "24/24 [==============================] - 0s 14ms/step - loss: 0.0030\n",
            "Epoch 93/100\n",
            "24/24 [==============================] - 0s 14ms/step - loss: 0.0031\n",
            "Epoch 94/100\n",
            "24/24 [==============================] - 0s 14ms/step - loss: 0.0029\n",
            "Epoch 95/100\n",
            "24/24 [==============================] - 0s 15ms/step - loss: 0.0030\n",
            "Epoch 96/100\n",
            "24/24 [==============================] - 0s 14ms/step - loss: 0.0032\n",
            "Epoch 97/100\n",
            "24/24 [==============================] - 0s 14ms/step - loss: 0.0026\n",
            "Epoch 98/100\n",
            "24/24 [==============================] - 0s 14ms/step - loss: 0.0028\n",
            "Epoch 99/100\n",
            "24/24 [==============================] - 0s 14ms/step - loss: 0.0030\n",
            "Epoch 100/100\n",
            "24/24 [==============================] - 0s 15ms/step - loss: 0.0027\n"
          ],
          "name": "stdout"
        },
        {
          "output_type": "execute_result",
          "data": {
            "text/plain": [
              "<tensorflow.python.keras.callbacks.History at 0x7ff3ac34e668>"
            ]
          },
          "metadata": {
            "tags": []
          },
          "execution_count": 68
        }
      ]
    },
    {
      "cell_type": "code",
      "metadata": {
        "id": "EqT5lwWc_wG5",
        "outputId": "0be03dc1-7ae1-4fc4-b90e-2724ad4cf307",
        "colab": {
          "base_uri": "https://localhost:8080/",
          "height": 52
        }
      },
      "source": [
        "# Getting the predicted stock price\n",
        "dataset_train = df.iloc[:800, 1:2]\n",
        "dataset_test = df.iloc[800:, 1:2]\n",
        "print(dataset_test.shape)\n",
        "dataset_total = pd.concat((dataset_train, dataset_test), axis = 0)\n",
        "inputs = dataset_total[len(dataset_total) - len(dataset_test) - 60:].values\n",
        "inputs = inputs.reshape(-1,1)\n",
        "inputs = sc.transform(inputs)\n",
        "X_test = []\n",
        "for i in range(60, 588):\n",
        "    X_test.append(inputs[i-60:i, 0])\n",
        "X_test = np.array(X_test)\n",
        "X_test = np.reshape(X_test, (X_test.shape[0], X_test.shape[1], 1))\n",
        "print(X_test.shape)"
      ],
      "execution_count": 69,
      "outputs": [
        {
          "output_type": "stream",
          "text": [
            "(528, 1)\n",
            "(528, 60, 1)\n"
          ],
          "name": "stdout"
        }
      ]
    },
    {
      "cell_type": "markdown",
      "metadata": {
        "id": "8EXFbRQ7MvCR"
      },
      "source": [
        "Make predictions using the test set"
      ]
    },
    {
      "cell_type": "code",
      "metadata": {
        "id": "Tp2Q_vCxOFV9"
      },
      "source": [
        "predicted_stock_price = model.predict(X_test)\n",
        "predicted_stock_price = sc.inverse_transform(predicted_stock_price)"
      ],
      "execution_count": 70,
      "outputs": []
    },
    {
      "cell_type": "markdown",
      "metadata": {
        "id": "2-NiT64s_7LP"
      },
      "source": [
        "Visualize the results"
      ]
    },
    {
      "cell_type": "code",
      "metadata": {
        "id": "3QcpP63rMxX4",
        "outputId": "710ed237-54d8-432e-e71f-e0fb5cfb8728",
        "colab": {
          "base_uri": "https://localhost:8080/",
          "height": 513
        }
      },
      "source": [
        "# Visualising the results\n",
        "fig = plt.figure(figsize=(12,8))\n",
        "plt.plot(df.loc[800:, 'Date'],dataset_test.values, color = 'red', label = 'Real TESLA Stock Price')\n",
        "plt.plot(df.loc[800:, 'Date'],predicted_stock_price, color = 'blue', label = 'Predicted TESLA Stock Price')\n",
        "plt.xticks(np.arange(0,528,50))\n",
        "plt.title('TESLA Stock Price Prediction')\n",
        "plt.xlabel('Time')\n",
        "plt.ylabel('TESLA Stock Price')\n",
        "plt.legend()\n",
        "plt.show()"
      ],
      "execution_count": 71,
      "outputs": [
        {
          "output_type": "display_data",
          "data": {
            "image/png": "[encoded data removed]",
            "text/plain": [
              "<Figure size 864x576 with 1 Axes>"
            ]
          },
          "metadata": {
            "tags": [],
            "needs_background": "light"
          }
        }
      ]
    },
    {
      "cell_type": "markdown",
      "metadata": {
        "id": "dp-J1O2sHumz"
      },
      "source": [
        "## Lag: 7, Hidden Layers: 4, Dropout Rate: 0.2"
      ]
    },
    {
      "cell_type": "markdown",
      "metadata": {
        "id": "FlPqszWsHum3"
      },
      "source": [
        "7 day"
      ]
    },
    {
      "cell_type": "code",
      "metadata": {
        "id": "wAfoa6wuHum4",
        "outputId": "2161e31e-113b-480c-f020-3a16db634b3d",
        "colab": {
          "base_uri": "https://localhost:8080/",
          "height": 35
        }
      },
      "source": [
        "# Feature Scaling\n",
        "sc = MinMaxScaler(feature_range = (0, 1))\n",
        "training_set_scaled = sc.fit_transform(training_set)\n",
        "# Creating a data structure with 60 time-steps and 1 output\n",
        "X_train = []\n",
        "y_train = []\n",
        "for i in range(60, 800, 7):\n",
        "    X_train.append(training_set_scaled[i-60:i, 0])\n",
        "    y_train.append(training_set_scaled[i, 0])\n",
        "X_train, y_train = np.array(X_train), np.array(y_train)\n",
        "X_train = np.reshape(X_train, (X_train.shape[0], X_train.shape[1], 1))\n",
        "X_train.shape"
      ],
      "execution_count": 72,
      "outputs": [
        {
          "output_type": "execute_result",
          "data": {
            "text/plain": [
              "(106, 60, 1)"
            ]
          },
          "metadata": {
            "tags": []
          },
          "execution_count": 72
        }
      ]
    },
    {
      "cell_type": "markdown",
      "metadata": {
        "id": "avKjl_jQHum8"
      },
      "source": [
        "Build LSTM mode, with 50 neurons and 4 layers, droupout rate = 0.2"
      ]
    },
    {
      "cell_type": "code",
      "metadata": {
        "id": "pdYRxEtLHum9",
        "outputId": "b9eaeb23-a0ce-4898-b820-2cf2ffb6b79d",
        "colab": {
          "base_uri": "https://localhost:8080/",
          "height": 1000
        }
      },
      "source": [
        "model = Sequential()\n",
        "#Adding the first LSTM layer and some Dropout regularisation\n",
        "model.add(LSTM(units = 50, return_sequences = True, input_shape = (X_train.shape[1], 1)))\n",
        "model.add(Dropout(0.2))\n",
        "# Adding a second LSTM layer and some Dropout regularisation\n",
        "model.add(LSTM(units = 50, return_sequences = True))\n",
        "model.add(Dropout(0.2))\n",
        "# Adding a third LSTM layer and some Dropout regularisation\n",
        "model.add(LSTM(units = 50, return_sequences = True))\n",
        "model.add(Dropout(0.2))\n",
        "# Adding a fourth LSTM layer and some Dropout regularisation\n",
        "model.add(LSTM(units = 50))\n",
        "model.add(Dropout(0.2))\n",
        "# Adding the output layer\n",
        "model.add(Dense(units = 1))\n",
        "\n",
        "# Compiling the RNN\n",
        "model.compile(optimizer = 'adam', loss = 'mean_squared_error')\n",
        "\n",
        "# Fitting the RNN to the Training set\n",
        "model.fit(X_train, y_train, epochs = 100, batch_size = 32)"
      ],
      "execution_count": 73,
      "outputs": [
        {
          "output_type": "stream",
          "text": [
            "Epoch 1/100\n",
            "4/4 [==============================] - 0s 14ms/step - loss: 0.2964\n",
            "Epoch 2/100\n",
            "4/4 [==============================] - 0s 14ms/step - loss: 0.0624\n",
            "Epoch 3/100\n",
            "4/4 [==============================] - 0s 13ms/step - loss: 0.0339\n",
            "Epoch 4/100\n",
            "4/4 [==============================] - 0s 14ms/step - loss: 0.0339\n",
            "Epoch 5/100\n",
            "4/4 [==============================] - 0s 12ms/step - loss: 0.0260\n",
            "Epoch 6/100\n",
            "4/4 [==============================] - 0s 11ms/step - loss: 0.0211\n",
            "Epoch 7/100\n",
            "4/4 [==============================] - 0s 11ms/step - loss: 0.0189\n",
            "Epoch 8/100\n",
            "4/4 [==============================] - 0s 14ms/step - loss: 0.0173\n",
            "Epoch 9/100\n",
            "4/4 [==============================] - 0s 11ms/step - loss: 0.0180\n",
            "Epoch 10/100\n",
            "4/4 [==============================] - 0s 12ms/step - loss: 0.0156\n",
            "Epoch 11/100\n",
            "4/4 [==============================] - 0s 11ms/step - loss: 0.0150\n",
            "Epoch 12/100\n",
            "4/4 [==============================] - 0s 11ms/step - loss: 0.0150\n",
            "Epoch 13/100\n",
            "4/4 [==============================] - 0s 11ms/step - loss: 0.0108\n",
            "Epoch 14/100\n",
            "4/4 [==============================] - 0s 10ms/step - loss: 0.0126\n",
            "Epoch 15/100\n",
            "4/4 [==============================] - 0s 11ms/step - loss: 0.0150\n",
            "Epoch 16/100\n",
            "4/4 [==============================] - 0s 11ms/step - loss: 0.0139\n",
            "Epoch 17/100\n",
            "4/4 [==============================] - 0s 11ms/step - loss: 0.0114\n",
            "Epoch 18/100\n",
            "4/4 [==============================] - 0s 10ms/step - loss: 0.0117\n",
            "Epoch 19/100\n",
            "4/4 [==============================] - 0s 11ms/step - loss: 0.0124\n",
            "Epoch 20/100\n",
            "4/4 [==============================] - 0s 11ms/step - loss: 0.0113\n",
            "Epoch 21/100\n",
            "4/4 [==============================] - 0s 11ms/step - loss: 0.0120\n",
            "Epoch 22/100\n",
            "4/4 [==============================] - 0s 11ms/step - loss: 0.0108\n",
            "Epoch 23/100\n",
            "4/4 [==============================] - 0s 11ms/step - loss: 0.0111\n",
            "Epoch 24/100\n",
            "4/4 [==============================] - 0s 11ms/step - loss: 0.0102\n",
            "Epoch 25/100\n",
            "4/4 [==============================] - 0s 11ms/step - loss: 0.0102\n",
            "Epoch 26/100\n",
            "4/4 [==============================] - 0s 11ms/step - loss: 0.0130\n",
            "Epoch 27/100\n",
            "4/4 [==============================] - 0s 11ms/step - loss: 0.0104\n",
            "Epoch 28/100\n",
            "4/4 [==============================] - 0s 11ms/step - loss: 0.0118\n",
            "Epoch 29/100\n",
            "4/4 [==============================] - 0s 11ms/step - loss: 0.0109\n",
            "Epoch 30/100\n",
            "4/4 [==============================] - 0s 11ms/step - loss: 0.0103\n",
            "Epoch 31/100\n",
            "4/4 [==============================] - 0s 12ms/step - loss: 0.0094\n",
            "Epoch 32/100\n",
            "4/4 [==============================] - 0s 11ms/step - loss: 0.0122\n",
            "Epoch 33/100\n",
            "4/4 [==============================] - 0s 13ms/step - loss: 0.0115\n",
            "Epoch 34/100\n",
            "4/4 [==============================] - 0s 11ms/step - loss: 0.0102\n",
            "Epoch 35/100\n",
            "4/4 [==============================] - 0s 11ms/step - loss: 0.0090\n",
            "Epoch 36/100\n",
            "4/4 [==============================] - 0s 11ms/step - loss: 0.0117\n",
            "Epoch 37/100\n",
            "4/4 [==============================] - 0s 11ms/step - loss: 0.0114\n",
            "Epoch 38/100\n",
            "4/4 [==============================] - 0s 11ms/step - loss: 0.0108\n",
            "Epoch 39/100\n",
            "4/4 [==============================] - 0s 13ms/step - loss: 0.0108\n",
            "Epoch 40/100\n",
            "4/4 [==============================] - 0s 11ms/step - loss: 0.0126\n",
            "Epoch 41/100\n",
            "4/4 [==============================] - 0s 11ms/step - loss: 0.0075\n",
            "Epoch 42/100\n",
            "4/4 [==============================] - 0s 11ms/step - loss: 0.0094\n",
            "Epoch 43/100\n",
            "4/4 [==============================] - 0s 12ms/step - loss: 0.0115\n",
            "Epoch 44/100\n",
            "4/4 [==============================] - 0s 12ms/step - loss: 0.0083\n",
            "Epoch 45/100\n",
            "4/4 [==============================] - 0s 13ms/step - loss: 0.0107\n",
            "Epoch 46/100\n",
            "4/4 [==============================] - 0s 11ms/step - loss: 0.0083\n",
            "Epoch 47/100\n",
            "4/4 [==============================] - 0s 11ms/step - loss: 0.0089\n",
            "Epoch 48/100\n",
            "4/4 [==============================] - 0s 11ms/step - loss: 0.0074\n",
            "Epoch 49/100\n",
            "4/4 [==============================] - 0s 10ms/step - loss: 0.0114\n",
            "Epoch 50/100\n",
            "4/4 [==============================] - 0s 11ms/step - loss: 0.0093\n",
            "Epoch 51/100\n",
            "4/4 [==============================] - 0s 11ms/step - loss: 0.0099\n",
            "Epoch 52/100\n",
            "4/4 [==============================] - 0s 12ms/step - loss: 0.0098\n",
            "Epoch 53/100\n",
            "4/4 [==============================] - 0s 11ms/step - loss: 0.0115\n",
            "Epoch 54/100\n",
            "4/4 [==============================] - 0s 13ms/step - loss: 0.0112\n",
            "Epoch 55/100\n",
            "4/4 [==============================] - 0s 11ms/step - loss: 0.0105\n",
            "Epoch 56/100\n",
            "4/4 [==============================] - 0s 11ms/step - loss: 0.0088\n",
            "Epoch 57/100\n",
            "4/4 [==============================] - 0s 11ms/step - loss: 0.0100\n",
            "Epoch 58/100\n",
            "4/4 [==============================] - 0s 11ms/step - loss: 0.0095\n",
            "Epoch 59/100\n",
            "4/4 [==============================] - 0s 11ms/step - loss: 0.0093\n",
            "Epoch 60/100\n",
            "4/4 [==============================] - 0s 12ms/step - loss: 0.0081\n",
            "Epoch 61/100\n",
            "4/4 [==============================] - 0s 11ms/step - loss: 0.0101\n",
            "Epoch 62/100\n",
            "4/4 [==============================] - 0s 11ms/step - loss: 0.0089\n",
            "Epoch 63/100\n",
            "4/4 [==============================] - 0s 11ms/step - loss: 0.0110\n",
            "Epoch 64/100\n",
            "4/4 [==============================] - 0s 11ms/step - loss: 0.0102\n",
            "Epoch 65/100\n",
            "4/4 [==============================] - 0s 11ms/step - loss: 0.0102\n",
            "Epoch 66/100\n",
            "4/4 [==============================] - 0s 11ms/step - loss: 0.0115\n",
            "Epoch 67/100\n",
            "4/4 [==============================] - 0s 11ms/step - loss: 0.0080\n",
            "Epoch 68/100\n",
            "4/4 [==============================] - 0s 12ms/step - loss: 0.0080\n",
            "Epoch 69/100\n",
            "4/4 [==============================] - 0s 12ms/step - loss: 0.0111\n",
            "Epoch 70/100\n",
            "4/4 [==============================] - 0s 12ms/step - loss: 0.0106\n",
            "Epoch 71/100\n",
            "4/4 [==============================] - 0s 10ms/step - loss: 0.0082\n",
            "Epoch 72/100\n",
            "4/4 [==============================] - 0s 10ms/step - loss: 0.0100\n",
            "Epoch 73/100\n",
            "4/4 [==============================] - 0s 12ms/step - loss: 0.0075\n",
            "Epoch 74/100\n",
            "4/4 [==============================] - 0s 11ms/step - loss: 0.0108\n",
            "Epoch 75/100\n",
            "4/4 [==============================] - 0s 11ms/step - loss: 0.0086\n",
            "Epoch 76/100\n",
            "4/4 [==============================] - 0s 10ms/step - loss: 0.0069\n",
            "Epoch 77/100\n",
            "4/4 [==============================] - 0s 11ms/step - loss: 0.0096\n",
            "Epoch 78/100\n",
            "4/4 [==============================] - 0s 11ms/step - loss: 0.0068\n",
            "Epoch 79/100\n",
            "4/4 [==============================] - 0s 11ms/step - loss: 0.0073\n",
            "Epoch 80/100\n",
            "4/4 [==============================] - 0s 10ms/step - loss: 0.0078\n",
            "Epoch 81/100\n",
            "4/4 [==============================] - 0s 11ms/step - loss: 0.0086\n",
            "Epoch 82/100\n",
            "4/4 [==============================] - 0s 11ms/step - loss: 0.0105\n",
            "Epoch 83/100\n",
            "4/4 [==============================] - 0s 11ms/step - loss: 0.0091\n",
            "Epoch 84/100\n",
            "4/4 [==============================] - 0s 12ms/step - loss: 0.0085\n",
            "Epoch 85/100\n",
            "4/4 [==============================] - 0s 10ms/step - loss: 0.0097\n",
            "Epoch 86/100\n",
            "4/4 [==============================] - 0s 12ms/step - loss: 0.0077\n",
            "Epoch 87/100\n",
            "4/4 [==============================] - 0s 12ms/step - loss: 0.0077\n",
            "Epoch 88/100\n",
            "4/4 [==============================] - 0s 11ms/step - loss: 0.0083\n",
            "Epoch 89/100\n",
            "4/4 [==============================] - 0s 11ms/step - loss: 0.0072\n",
            "Epoch 90/100\n",
            "4/4 [==============================] - 0s 11ms/step - loss: 0.0074\n",
            "Epoch 91/100\n",
            "4/4 [==============================] - 0s 11ms/step - loss: 0.0083\n",
            "Epoch 92/100\n",
            "4/4 [==============================] - 0s 11ms/step - loss: 0.0074\n",
            "Epoch 93/100\n",
            "4/4 [==============================] - 0s 11ms/step - loss: 0.0072\n",
            "Epoch 94/100\n",
            "4/4 [==============================] - 0s 11ms/step - loss: 0.0077\n",
            "Epoch 95/100\n",
            "4/4 [==============================] - 0s 11ms/step - loss: 0.0075\n",
            "Epoch 96/100\n",
            "4/4 [==============================] - 0s 12ms/step - loss: 0.0074\n",
            "Epoch 97/100\n",
            "4/4 [==============================] - 0s 11ms/step - loss: 0.0073\n",
            "Epoch 98/100\n",
            "4/4 [==============================] - 0s 15ms/step - loss: 0.0058\n",
            "Epoch 99/100\n",
            "4/4 [==============================] - 0s 11ms/step - loss: 0.0065\n",
            "Epoch 100/100\n",
            "4/4 [==============================] - 0s 10ms/step - loss: 0.0056\n"
          ],
          "name": "stdout"
        },
        {
          "output_type": "execute_result",
          "data": {
            "text/plain": [
              "<tensorflow.python.keras.callbacks.History at 0x7ff3a432b550>"
            ]
          },
          "metadata": {
            "tags": []
          },
          "execution_count": 73
        }
      ]
    },
    {
      "cell_type": "code",
      "metadata": {
        "id": "8qN2hvuEHunC",
        "outputId": "211969d5-fd2a-4f4f-9102-b1d15a92525f",
        "colab": {
          "base_uri": "https://localhost:8080/",
          "height": 52
        }
      },
      "source": [
        "# Getting the predicted stock price\n",
        "dataset_train = df.iloc[:800, 1:2]\n",
        "dataset_test = df.iloc[800:, 1:2]\n",
        "print(dataset_test.shape)\n",
        "dataset_total = pd.concat((dataset_train, dataset_test), axis = 0)\n",
        "inputs = dataset_total[len(dataset_total) - len(dataset_test) - 60:].values\n",
        "inputs = inputs.reshape(-1,1)\n",
        "inputs = sc.transform(inputs)\n",
        "X_test = []\n",
        "for i in range(60, 588):\n",
        "    X_test.append(inputs[i-60:i, 0])\n",
        "X_test = np.array(X_test)\n",
        "X_test = np.reshape(X_test, (X_test.shape[0], X_test.shape[1], 1))\n",
        "print(X_test.shape)"
      ],
      "execution_count": 74,
      "outputs": [
        {
          "output_type": "stream",
          "text": [
            "(528, 1)\n",
            "(528, 60, 1)\n"
          ],
          "name": "stdout"
        }
      ]
    },
    {
      "cell_type": "markdown",
      "metadata": {
        "id": "mI_X_PPpHunE"
      },
      "source": [
        "Make predictions using the test set"
      ]
    },
    {
      "cell_type": "code",
      "metadata": {
        "id": "t87EvM8WHunG"
      },
      "source": [
        "predicted_stock_price = model.predict(X_test)\n",
        "predicted_stock_price = sc.inverse_transform(predicted_stock_price)"
      ],
      "execution_count": 75,
      "outputs": []
    },
    {
      "cell_type": "markdown",
      "metadata": {
        "id": "odNjiryMHunJ"
      },
      "source": [
        "Visualize the results"
      ]
    },
    {
      "cell_type": "code",
      "metadata": {
        "id": "Xtyu4pXdHunK",
        "outputId": "9fc2ac5c-2b04-4c8b-f0f9-410875ca23be",
        "colab": {
          "base_uri": "https://localhost:8080/",
          "height": 513
        }
      },
      "source": [
        "# Visualising the results\n",
        "fig = plt.figure(figsize=(12,8))\n",
        "plt.plot(df.loc[800:, 'Date'],dataset_test.values, color = 'red', label = 'Real TESLA Stock Price')\n",
        "plt.plot(df.loc[800:, 'Date'],predicted_stock_price, color = 'blue', label = 'Predicted TESLA Stock Price')\n",
        "plt.xticks(np.arange(0,528,50))\n",
        "plt.title('TESLA Stock Price Prediction')\n",
        "plt.xlabel('Time')\n",
        "plt.ylabel('TESLA Stock Price')\n",
        "plt.legend()\n",
        "plt.show()"
      ],
      "execution_count": 76,
      "outputs": [
        {
          "output_type": "display_data",
          "data": {
            "image/png": "[encoded data removed]",
            "text/plain": [
              "<Figure size 864x576 with 1 Axes>"
            ]
          },
          "metadata": {
            "tags": [],
            "needs_background": "light"
          }
        }
      ]
    },
    {
      "cell_type": "markdown",
      "metadata": {
        "id": "uJQllZPwJu1j"
      },
      "source": [
        "## Lag: 14, Hidden Layers: 4, Dropout Rate: 0.2"
      ]
    },
    {
      "cell_type": "markdown",
      "metadata": {
        "id": "81hKTZcZJu1k"
      },
      "source": [
        "14 day"
      ]
    },
    {
      "cell_type": "code",
      "metadata": {
        "id": "mBoWZdkWJu1m",
        "outputId": "47dc8cfa-e2e0-4453-f159-62630acf5345",
        "colab": {
          "base_uri": "https://localhost:8080/",
          "height": 35
        }
      },
      "source": [
        "# Feature Scaling\n",
        "sc = MinMaxScaler(feature_range = (0, 1))\n",
        "training_set_scaled = sc.fit_transform(training_set)\n",
        "# Creating a data structure with 60 time-steps and 1 output\n",
        "X_train = []\n",
        "y_train = []\n",
        "for i in range(60, 800,14):\n",
        "    X_train.append(training_set_scaled[i-60:i, 0])\n",
        "    y_train.append(training_set_scaled[i, 0])\n",
        "X_train, y_train = np.array(X_train), np.array(y_train)\n",
        "X_train = np.reshape(X_train, (X_train.shape[0], X_train.shape[1], 1))\n",
        "X_train.shape"
      ],
      "execution_count": 78,
      "outputs": [
        {
          "output_type": "execute_result",
          "data": {
            "text/plain": [
              "(53, 60, 1)"
            ]
          },
          "metadata": {
            "tags": []
          },
          "execution_count": 78
        }
      ]
    },
    {
      "cell_type": "markdown",
      "metadata": {
        "id": "JQ0k1GecJu1q"
      },
      "source": [
        "Build LSTM mode, with 50 neurons and 4 layers, droupout rate = 0.2"
      ]
    },
    {
      "cell_type": "code",
      "metadata": {
        "id": "t--s7dS2Ju1q",
        "outputId": "4bb7b9e2-3c16-42b9-94b9-0800c6eb939c",
        "colab": {
          "base_uri": "https://localhost:8080/",
          "height": 1000
        }
      },
      "source": [
        "model = Sequential()\n",
        "#Adding the first LSTM layer and some Dropout regularisation\n",
        "model.add(LSTM(units = 50, return_sequences = True, input_shape = (X_train.shape[1], 1)))\n",
        "model.add(Dropout(0.2))\n",
        "# Adding a second LSTM layer and some Dropout regularisation\n",
        "model.add(LSTM(units = 50, return_sequences = True))\n",
        "model.add(Dropout(0.2))\n",
        "# Adding a third LSTM layer and some Dropout regularisation\n",
        "model.add(LSTM(units = 50, return_sequences = True))\n",
        "model.add(Dropout(0.2))\n",
        "# Adding a fourth LSTM layer and some Dropout regularisation\n",
        "model.add(LSTM(units = 50))\n",
        "model.add(Dropout(0.2))\n",
        "# Adding the output layer\n",
        "model.add(Dense(units = 1))\n",
        "\n",
        "# Compiling the RNN\n",
        "model.compile(optimizer = 'adam', loss = 'mean_squared_error')\n",
        "\n",
        "# Fitting the RNN to the Training set\n",
        "model.fit(X_train, y_train, epochs = 100, batch_size = 32)"
      ],
      "execution_count": 79,
      "outputs": [
        {
          "output_type": "stream",
          "text": [
            "Epoch 1/100\n",
            "2/2 [==============================] - 0s 11ms/step - loss: 0.3266\n",
            "Epoch 2/100\n",
            "2/2 [==============================] - 0s 11ms/step - loss: 0.1845\n",
            "Epoch 3/100\n",
            "2/2 [==============================] - 0s 12ms/step - loss: 0.0546\n",
            "Epoch 4/100\n",
            "2/2 [==============================] - 0s 12ms/step - loss: 0.0556\n",
            "Epoch 5/100\n",
            "2/2 [==============================] - 0s 11ms/step - loss: 0.0427\n",
            "Epoch 6/100\n",
            "2/2 [==============================] - 0s 10ms/step - loss: 0.0252\n",
            "Epoch 7/100\n",
            "2/2 [==============================] - 0s 10ms/step - loss: 0.0301\n",
            "Epoch 8/100\n",
            "2/2 [==============================] - 0s 8ms/step - loss: 0.0277\n",
            "Epoch 9/100\n",
            "2/2 [==============================] - 0s 9ms/step - loss: 0.0140\n",
            "Epoch 10/100\n",
            "2/2 [==============================] - 0s 8ms/step - loss: 0.0158\n",
            "Epoch 11/100\n",
            "2/2 [==============================] - 0s 8ms/step - loss: 0.0193\n",
            "Epoch 12/100\n",
            "2/2 [==============================] - 0s 8ms/step - loss: 0.0201\n",
            "Epoch 13/100\n",
            "2/2 [==============================] - 0s 9ms/step - loss: 0.0130\n",
            "Epoch 14/100\n",
            "2/2 [==============================] - 0s 8ms/step - loss: 0.0158\n",
            "Epoch 15/100\n",
            "2/2 [==============================] - 0s 8ms/step - loss: 0.0191\n",
            "Epoch 16/100\n",
            "2/2 [==============================] - 0s 10ms/step - loss: 0.0142\n",
            "Epoch 17/100\n",
            "2/2 [==============================] - 0s 8ms/step - loss: 0.0153\n",
            "Epoch 18/100\n",
            "2/2 [==============================] - 0s 8ms/step - loss: 0.0126\n",
            "Epoch 19/100\n",
            "2/2 [==============================] - 0s 8ms/step - loss: 0.0102\n",
            "Epoch 20/100\n",
            "2/2 [==============================] - 0s 8ms/step - loss: 0.0120\n",
            "Epoch 21/100\n",
            "2/2 [==============================] - 0s 8ms/step - loss: 0.0073\n",
            "Epoch 22/100\n",
            "2/2 [==============================] - 0s 8ms/step - loss: 0.0114\n",
            "Epoch 23/100\n",
            "2/2 [==============================] - 0s 8ms/step - loss: 0.0121\n",
            "Epoch 24/100\n",
            "2/2 [==============================] - 0s 8ms/step - loss: 0.0119\n",
            "Epoch 25/100\n",
            "2/2 [==============================] - 0s 8ms/step - loss: 0.0119\n",
            "Epoch 26/100\n",
            "2/2 [==============================] - 0s 10ms/step - loss: 0.0099\n",
            "Epoch 27/100\n",
            "2/2 [==============================] - 0s 8ms/step - loss: 0.0102\n",
            "Epoch 28/100\n",
            "2/2 [==============================] - 0s 8ms/step - loss: 0.0084\n",
            "Epoch 29/100\n",
            "2/2 [==============================] - 0s 8ms/step - loss: 0.0133\n",
            "Epoch 30/100\n",
            "2/2 [==============================] - 0s 8ms/step - loss: 0.0142\n",
            "Epoch 31/100\n",
            "2/2 [==============================] - 0s 9ms/step - loss: 0.0108\n",
            "Epoch 32/100\n",
            "2/2 [==============================] - 0s 8ms/step - loss: 0.0136\n",
            "Epoch 33/100\n",
            "2/2 [==============================] - 0s 11ms/step - loss: 0.0103\n",
            "Epoch 34/100\n",
            "2/2 [==============================] - 0s 8ms/step - loss: 0.0124\n",
            "Epoch 35/100\n",
            "2/2 [==============================] - 0s 8ms/step - loss: 0.0102\n",
            "Epoch 36/100\n",
            "2/2 [==============================] - 0s 9ms/step - loss: 0.0106\n",
            "Epoch 37/100\n",
            "2/2 [==============================] - 0s 9ms/step - loss: 0.0085\n",
            "Epoch 38/100\n",
            "2/2 [==============================] - 0s 9ms/step - loss: 0.0114\n",
            "Epoch 39/100\n",
            "2/2 [==============================] - 0s 9ms/step - loss: 0.0091\n",
            "Epoch 40/100\n",
            "2/2 [==============================] - 0s 9ms/step - loss: 0.0111\n",
            "Epoch 41/100\n",
            "2/2 [==============================] - 0s 8ms/step - loss: 0.0090\n",
            "Epoch 42/100\n",
            "2/2 [==============================] - 0s 8ms/step - loss: 0.0116\n",
            "Epoch 43/100\n",
            "2/2 [==============================] - 0s 8ms/step - loss: 0.0126\n",
            "Epoch 44/100\n",
            "2/2 [==============================] - 0s 8ms/step - loss: 0.0098\n",
            "Epoch 45/100\n",
            "2/2 [==============================] - 0s 10ms/step - loss: 0.0130\n",
            "Epoch 46/100\n",
            "2/2 [==============================] - 0s 8ms/step - loss: 0.0126\n",
            "Epoch 47/100\n",
            "2/2 [==============================] - 0s 8ms/step - loss: 0.0108\n",
            "Epoch 48/100\n",
            "2/2 [==============================] - 0s 8ms/step - loss: 0.0094\n",
            "Epoch 49/100\n",
            "2/2 [==============================] - 0s 8ms/step - loss: 0.0111\n",
            "Epoch 50/100\n",
            "2/2 [==============================] - 0s 8ms/step - loss: 0.0103\n",
            "Epoch 51/100\n",
            "2/2 [==============================] - 0s 8ms/step - loss: 0.0093\n",
            "Epoch 52/100\n",
            "2/2 [==============================] - 0s 8ms/step - loss: 0.0097\n",
            "Epoch 53/100\n",
            "2/2 [==============================] - 0s 9ms/step - loss: 0.0132\n",
            "Epoch 54/100\n",
            "2/2 [==============================] - 0s 8ms/step - loss: 0.0145\n",
            "Epoch 55/100\n",
            "2/2 [==============================] - 0s 8ms/step - loss: 0.0106\n",
            "Epoch 56/100\n",
            "2/2 [==============================] - 0s 9ms/step - loss: 0.0083\n",
            "Epoch 57/100\n",
            "2/2 [==============================] - 0s 8ms/step - loss: 0.0084\n",
            "Epoch 58/100\n",
            "2/2 [==============================] - 0s 8ms/step - loss: 0.0076\n",
            "Epoch 59/100\n",
            "2/2 [==============================] - 0s 8ms/step - loss: 0.0107\n",
            "Epoch 60/100\n",
            "2/2 [==============================] - 0s 9ms/step - loss: 0.0095\n",
            "Epoch 61/100\n",
            "2/2 [==============================] - 0s 9ms/step - loss: 0.0123\n",
            "Epoch 62/100\n",
            "2/2 [==============================] - 0s 9ms/step - loss: 0.0075\n",
            "Epoch 63/100\n",
            "2/2 [==============================] - 0s 8ms/step - loss: 0.0094\n",
            "Epoch 64/100\n",
            "2/2 [==============================] - 0s 9ms/step - loss: 0.0084\n",
            "Epoch 65/100\n",
            "2/2 [==============================] - 0s 9ms/step - loss: 0.0087\n",
            "Epoch 66/100\n",
            "2/2 [==============================] - 0s 9ms/step - loss: 0.0084\n",
            "Epoch 67/100\n",
            "2/2 [==============================] - 0s 8ms/step - loss: 0.0076\n",
            "Epoch 68/100\n",
            "2/2 [==============================] - 0s 8ms/step - loss: 0.0104\n",
            "Epoch 69/100\n",
            "2/2 [==============================] - 0s 10ms/step - loss: 0.0131\n",
            "Epoch 70/100\n",
            "2/2 [==============================] - 0s 9ms/step - loss: 0.0106\n",
            "Epoch 71/100\n",
            "2/2 [==============================] - 0s 8ms/step - loss: 0.0100\n",
            "Epoch 72/100\n",
            "2/2 [==============================] - 0s 8ms/step - loss: 0.0104\n",
            "Epoch 73/100\n",
            "2/2 [==============================] - 0s 8ms/step - loss: 0.0082\n",
            "Epoch 74/100\n",
            "2/2 [==============================] - 0s 8ms/step - loss: 0.0075\n",
            "Epoch 75/100\n",
            "2/2 [==============================] - 0s 8ms/step - loss: 0.0110\n",
            "Epoch 76/100\n",
            "2/2 [==============================] - 0s 8ms/step - loss: 0.0097\n",
            "Epoch 77/100\n",
            "2/2 [==============================] - 0s 8ms/step - loss: 0.0078\n",
            "Epoch 78/100\n",
            "2/2 [==============================] - 0s 9ms/step - loss: 0.0088\n",
            "Epoch 79/100\n",
            "2/2 [==============================] - 0s 9ms/step - loss: 0.0058\n",
            "Epoch 80/100\n",
            "2/2 [==============================] - 0s 8ms/step - loss: 0.0094\n",
            "Epoch 81/100\n",
            "2/2 [==============================] - 0s 8ms/step - loss: 0.0085\n",
            "Epoch 82/100\n",
            "2/2 [==============================] - 0s 8ms/step - loss: 0.0090\n",
            "Epoch 83/100\n",
            "2/2 [==============================] - 0s 8ms/step - loss: 0.0107\n",
            "Epoch 84/100\n",
            "2/2 [==============================] - 0s 8ms/step - loss: 0.0103\n",
            "Epoch 85/100\n",
            "2/2 [==============================] - 0s 9ms/step - loss: 0.0108\n",
            "Epoch 86/100\n",
            "2/2 [==============================] - 0s 9ms/step - loss: 0.0090\n",
            "Epoch 87/100\n",
            "2/2 [==============================] - 0s 9ms/step - loss: 0.0086\n",
            "Epoch 88/100\n",
            "2/2 [==============================] - 0s 8ms/step - loss: 0.0090\n",
            "Epoch 89/100\n",
            "2/2 [==============================] - 0s 8ms/step - loss: 0.0121\n",
            "Epoch 90/100\n",
            "2/2 [==============================] - 0s 10ms/step - loss: 0.0110\n",
            "Epoch 91/100\n",
            "2/2 [==============================] - 0s 9ms/step - loss: 0.0077\n",
            "Epoch 92/100\n",
            "2/2 [==============================] - 0s 9ms/step - loss: 0.0086\n",
            "Epoch 93/100\n",
            "2/2 [==============================] - 0s 9ms/step - loss: 0.0088\n",
            "Epoch 94/100\n",
            "2/2 [==============================] - 0s 9ms/step - loss: 0.0077\n",
            "Epoch 95/100\n",
            "2/2 [==============================] - 0s 9ms/step - loss: 0.0077\n",
            "Epoch 96/100\n",
            "2/2 [==============================] - 0s 9ms/step - loss: 0.0064\n",
            "Epoch 97/100\n",
            "2/2 [==============================] - 0s 9ms/step - loss: 0.0077\n",
            "Epoch 98/100\n",
            "2/2 [==============================] - 0s 9ms/step - loss: 0.0081\n",
            "Epoch 99/100\n",
            "2/2 [==============================] - 0s 9ms/step - loss: 0.0072\n",
            "Epoch 100/100\n",
            "2/2 [==============================] - 0s 8ms/step - loss: 0.0107\n"
          ],
          "name": "stdout"
        },
        {
          "output_type": "execute_result",
          "data": {
            "text/plain": [
              "<tensorflow.python.keras.callbacks.History at 0x7ff3a2042fd0>"
            ]
          },
          "metadata": {
            "tags": []
          },
          "execution_count": 79
        }
      ]
    },
    {
      "cell_type": "code",
      "metadata": {
        "id": "Wvvt4ZSsJu1v",
        "outputId": "d139055c-88ac-4f31-c6ff-fc2a15d704e6",
        "colab": {
          "base_uri": "https://localhost:8080/",
          "height": 52
        }
      },
      "source": [
        "# Getting the predicted stock price\n",
        "dataset_train = df.iloc[:800, 1:2]\n",
        "dataset_test = df.iloc[800:, 1:2]\n",
        "print(dataset_test.shape)\n",
        "dataset_total = pd.concat((dataset_train, dataset_test), axis = 0)\n",
        "inputs = dataset_total[len(dataset_total) - len(dataset_test) - 60:].values\n",
        "inputs = inputs.reshape(-1,1)\n",
        "inputs = sc.transform(inputs)\n",
        "X_test = []\n",
        "for i in range(60, 588):\n",
        "    X_test.append(inputs[i-60:i, 0])\n",
        "X_test = np.array(X_test)\n",
        "X_test = np.reshape(X_test, (X_test.shape[0], X_test.shape[1], 1))\n",
        "print(X_test.shape)"
      ],
      "execution_count": 80,
      "outputs": [
        {
          "output_type": "stream",
          "text": [
            "(528, 1)\n",
            "(528, 60, 1)\n"
          ],
          "name": "stdout"
        }
      ]
    },
    {
      "cell_type": "markdown",
      "metadata": {
        "id": "t7CGU9xLJu1z"
      },
      "source": [
        "Make predictions using the test set"
      ]
    },
    {
      "cell_type": "code",
      "metadata": {
        "id": "pr-8OnUqJu1z"
      },
      "source": [
        "predicted_stock_price = model.predict(X_test)\n",
        "predicted_stock_price = sc.inverse_transform(predicted_stock_price)"
      ],
      "execution_count": 81,
      "outputs": []
    },
    {
      "cell_type": "markdown",
      "metadata": {
        "id": "zRTREV33Ju12"
      },
      "source": [
        "Visualize the results"
      ]
    },
    {
      "cell_type": "code",
      "metadata": {
        "id": "SAg8BR0mJu15",
        "outputId": "cf952045-0aba-44b1-bd4b-c82e2c52696e",
        "colab": {
          "base_uri": "https://localhost:8080/",
          "height": 513
        }
      },
      "source": [
        "# Visualising the results\n",
        "fig = plt.figure(figsize=(12,8))\n",
        "plt.plot(df.loc[800:, 'Date'],dataset_test.values, color = 'red', label = 'Real TESLA Stock Price')\n",
        "plt.plot(df.loc[800:, 'Date'],predicted_stock_price, color = 'blue', label = 'Predicted TESLA Stock Price')\n",
        "plt.xticks(np.arange(0,528,50))\n",
        "plt.title('TESLA Stock Price Prediction')\n",
        "plt.xlabel('Time')\n",
        "plt.ylabel('TESLA Stock Price')\n",
        "plt.legend()\n",
        "plt.show()"
      ],
      "execution_count": 82,
      "outputs": [
        {
          "output_type": "display_data",
          "data": {
            "image/png": "[encoded data removed]",
            "text/plain": [
              "<Figure size 864x576 with 1 Axes>"
            ]
          },
          "metadata": {
            "tags": [],
            "needs_background": "light"
          }
        }
      ]
    },
    {
      "cell_type": "markdown",
      "metadata": {
        "id": "BHaHeDuHVM8s"
      },
      "source": [
        "## Comparison 1: 4 vs 6 hidden layer"
      ]
    },
    {
      "cell_type": "markdown",
      "metadata": {
        "id": "unI05gDpNNpC"
      },
      "source": [
        "## Lag: 1, Hidden Layers: 6, Dropout Rate: 0.2"
      ]
    },
    {
      "cell_type": "markdown",
      "metadata": {
        "id": "gvEdtPRiNNpN"
      },
      "source": [
        "1 day"
      ]
    },
    {
      "cell_type": "code",
      "metadata": {
        "id": "gvoW66JRNNpP",
        "outputId": "581d053a-d366-406a-b14a-fd8d8c155cca",
        "colab": {
          "base_uri": "https://localhost:8080/",
          "height": 35
        }
      },
      "source": [
        "# Feature Scaling\n",
        "sc = MinMaxScaler(feature_range = (0, 1))\n",
        "training_set_scaled = sc.fit_transform(training_set)\n",
        "# Creating a data structure with 60 time-steps and 1 output\n",
        "X_train = []\n",
        "y_train = []\n",
        "for i in range(60, 800):\n",
        "    X_train.append(training_set_scaled[i-60:i, 0])\n",
        "    y_train.append(training_set_scaled[i, 0])\n",
        "X_train, y_train = np.array(X_train), np.array(y_train)\n",
        "X_train = np.reshape(X_train, (X_train.shape[0], X_train.shape[1], 1))\n",
        "X_train.shape"
      ],
      "execution_count": 83,
      "outputs": [
        {
          "output_type": "execute_result",
          "data": {
            "text/plain": [
              "(740, 60, 1)"
            ]
          },
          "metadata": {
            "tags": []
          },
          "execution_count": 83
        }
      ]
    },
    {
      "cell_type": "markdown",
      "metadata": {
        "id": "cg1VP1wsNNpY"
      },
      "source": [
        "Build LSTM mode, with 50 neurons and 6 layers, droupout rate = 0.2"
      ]
    },
    {
      "cell_type": "code",
      "metadata": {
        "id": "Nb2LQngbNNpZ",
        "outputId": "d1037315-3361-4e81-8c3b-91562440f3f5",
        "colab": {
          "base_uri": "https://localhost:8080/",
          "height": 1000
        }
      },
      "source": [
        "model = Sequential()\n",
        "#Adding the first LSTM layer and some Dropout regularisation\n",
        "model.add(LSTM(units = 50, return_sequences = True, input_shape = (X_train.shape[1], 1)))\n",
        "model.add(Dropout(0.2))\n",
        "# Adding a second LSTM layer and some Dropout regularisation\n",
        "model.add(LSTM(units = 50, return_sequences = True))\n",
        "model.add(Dropout(0.2))\n",
        "# Adding a third LSTM layer and some Dropout regularisation\n",
        "model.add(LSTM(units = 50, return_sequences = True))\n",
        "model.add(Dropout(0.2))\n",
        "# Adding a fourth LSTM layer and some Dropout regularisation\n",
        "model.add(LSTM(units = 50, return_sequences = True))\n",
        "model.add(Dropout(0.2))\n",
        "# Adding a fifth LSTM layer and some Dropout regularisation\n",
        "model.add(LSTM(units = 50, return_sequences = True))\n",
        "model.add(Dropout(0.2))\n",
        "# Adding a sixth LSTM layer and some Dropout regularisation\n",
        "model.add(LSTM(units = 50))\n",
        "model.add(Dropout(0.2))\n",
        "# Adding the output layer\n",
        "model.add(Dense(units = 1))\n",
        "\n",
        "# Compiling the RNN\n",
        "model.compile(optimizer = 'adam', loss = 'mean_squared_error')\n",
        "\n",
        "# Fitting the RNN to the Training set\n",
        "model.fit(X_train, y_train, epochs = 100, batch_size = 32)"
      ],
      "execution_count": 84,
      "outputs": [
        {
          "output_type": "stream",
          "text": [
            "Epoch 1/100\n",
            "24/24 [==============================] - 1s 22ms/step - loss: 0.0686\n",
            "Epoch 2/100\n",
            "24/24 [==============================] - 0s 19ms/step - loss: 0.0196\n",
            "Epoch 3/100\n",
            "24/24 [==============================] - 0s 20ms/step - loss: 0.0168\n",
            "Epoch 4/100\n",
            "24/24 [==============================] - 0s 20ms/step - loss: 0.0196\n",
            "Epoch 5/100\n",
            "24/24 [==============================] - 0s 19ms/step - loss: 0.0155\n",
            "Epoch 6/100\n",
            "24/24 [==============================] - 0s 19ms/step - loss: 0.0151\n",
            "Epoch 7/100\n",
            "24/24 [==============================] - 0s 20ms/step - loss: 0.0158\n",
            "Epoch 8/100\n",
            "24/24 [==============================] - 0s 20ms/step - loss: 0.0138\n",
            "Epoch 9/100\n",
            "24/24 [==============================] - 0s 20ms/step - loss: 0.0137\n",
            "Epoch 10/100\n",
            "24/24 [==============================] - 0s 19ms/step - loss: 0.0139\n",
            "Epoch 11/100\n",
            "24/24 [==============================] - 0s 20ms/step - loss: 0.0128\n",
            "Epoch 12/100\n",
            "24/24 [==============================] - 0s 20ms/step - loss: 0.0125\n",
            "Epoch 13/100\n",
            "24/24 [==============================] - 0s 20ms/step - loss: 0.0116\n",
            "Epoch 14/100\n",
            "24/24 [==============================] - 0s 20ms/step - loss: 0.0110\n",
            "Epoch 15/100\n",
            "24/24 [==============================] - 0s 20ms/step - loss: 0.0090\n",
            "Epoch 16/100\n",
            "24/24 [==============================] - 0s 20ms/step - loss: 0.0087\n",
            "Epoch 17/100\n",
            "24/24 [==============================] - 0s 20ms/step - loss: 0.0098\n",
            "Epoch 18/100\n",
            "24/24 [==============================] - 0s 20ms/step - loss: 0.0093\n",
            "Epoch 19/100\n",
            "24/24 [==============================] - 0s 19ms/step - loss: 0.0086\n",
            "Epoch 20/100\n",
            "24/24 [==============================] - 0s 20ms/step - loss: 0.0073\n",
            "Epoch 21/100\n",
            "24/24 [==============================] - 0s 20ms/step - loss: 0.0076\n",
            "Epoch 22/100\n",
            "24/24 [==============================] - 0s 19ms/step - loss: 0.0082\n",
            "Epoch 23/100\n",
            "24/24 [==============================] - 0s 19ms/step - loss: 0.0082\n",
            "Epoch 24/100\n",
            "24/24 [==============================] - 0s 19ms/step - loss: 0.0083\n",
            "Epoch 25/100\n",
            "24/24 [==============================] - 0s 20ms/step - loss: 0.0082\n",
            "Epoch 26/100\n",
            "24/24 [==============================] - 0s 20ms/step - loss: 0.0076\n",
            "Epoch 27/100\n",
            "24/24 [==============================] - 0s 20ms/step - loss: 0.0083\n",
            "Epoch 28/100\n",
            "24/24 [==============================] - 0s 20ms/step - loss: 0.0080\n",
            "Epoch 29/100\n",
            "24/24 [==============================] - 0s 20ms/step - loss: 0.0069\n",
            "Epoch 30/100\n",
            "24/24 [==============================] - 0s 20ms/step - loss: 0.0075\n",
            "Epoch 31/100\n",
            "24/24 [==============================] - 0s 19ms/step - loss: 0.0068\n",
            "Epoch 32/100\n",
            "24/24 [==============================] - 0s 20ms/step - loss: 0.0070\n",
            "Epoch 33/100\n",
            "24/24 [==============================] - 0s 20ms/step - loss: 0.0063\n",
            "Epoch 34/100\n",
            "24/24 [==============================] - 0s 20ms/step - loss: 0.0076\n",
            "Epoch 35/100\n",
            "24/24 [==============================] - 0s 20ms/step - loss: 0.0070\n",
            "Epoch 36/100\n",
            "24/24 [==============================] - 0s 19ms/step - loss: 0.0061\n",
            "Epoch 37/100\n",
            "24/24 [==============================] - 0s 20ms/step - loss: 0.0058\n",
            "Epoch 38/100\n",
            "24/24 [==============================] - 0s 20ms/step - loss: 0.0063\n",
            "Epoch 39/100\n",
            "24/24 [==============================] - 0s 19ms/step - loss: 0.0073\n",
            "Epoch 40/100\n",
            "24/24 [==============================] - 0s 20ms/step - loss: 0.0059\n",
            "Epoch 41/100\n",
            "24/24 [==============================] - 0s 20ms/step - loss: 0.0061\n",
            "Epoch 42/100\n",
            "24/24 [==============================] - 0s 20ms/step - loss: 0.0055\n",
            "Epoch 43/100\n",
            "24/24 [==============================] - 0s 19ms/step - loss: 0.0055\n",
            "Epoch 44/100\n",
            "24/24 [==============================] - 0s 20ms/step - loss: 0.0061\n",
            "Epoch 45/100\n",
            "24/24 [==============================] - 0s 20ms/step - loss: 0.0053\n",
            "Epoch 46/100\n",
            "24/24 [==============================] - 0s 20ms/step - loss: 0.0053\n",
            "Epoch 47/100\n",
            "24/24 [==============================] - 0s 20ms/step - loss: 0.0055\n",
            "Epoch 48/100\n",
            "24/24 [==============================] - 0s 20ms/step - loss: 0.0065\n",
            "Epoch 49/100\n",
            "24/24 [==============================] - 0s 20ms/step - loss: 0.0056\n",
            "Epoch 50/100\n",
            "24/24 [==============================] - 0s 20ms/step - loss: 0.0050\n",
            "Epoch 51/100\n",
            "24/24 [==============================] - 0s 20ms/step - loss: 0.0050\n",
            "Epoch 52/100\n",
            "24/24 [==============================] - 0s 19ms/step - loss: 0.0045\n",
            "Epoch 53/100\n",
            "24/24 [==============================] - 0s 20ms/step - loss: 0.0051\n",
            "Epoch 54/100\n",
            "24/24 [==============================] - 0s 19ms/step - loss: 0.0046\n",
            "Epoch 55/100\n",
            "24/24 [==============================] - 0s 20ms/step - loss: 0.0059\n",
            "Epoch 56/100\n",
            "24/24 [==============================] - 0s 20ms/step - loss: 0.0046\n",
            "Epoch 57/100\n",
            "24/24 [==============================] - 0s 19ms/step - loss: 0.0043\n",
            "Epoch 58/100\n",
            "24/24 [==============================] - 0s 20ms/step - loss: 0.0045\n",
            "Epoch 59/100\n",
            "24/24 [==============================] - 0s 20ms/step - loss: 0.0053\n",
            "Epoch 60/100\n",
            "24/24 [==============================] - 0s 21ms/step - loss: 0.0053\n",
            "Epoch 61/100\n",
            "24/24 [==============================] - 0s 20ms/step - loss: 0.0048\n",
            "Epoch 62/100\n",
            "24/24 [==============================] - 0s 20ms/step - loss: 0.0041\n",
            "Epoch 63/100\n",
            "24/24 [==============================] - 0s 20ms/step - loss: 0.0045\n",
            "Epoch 64/100\n",
            "24/24 [==============================] - 0s 20ms/step - loss: 0.0046\n",
            "Epoch 65/100\n",
            "24/24 [==============================] - 0s 20ms/step - loss: 0.0045\n",
            "Epoch 66/100\n",
            "24/24 [==============================] - 0s 20ms/step - loss: 0.0045\n",
            "Epoch 67/100\n",
            "24/24 [==============================] - 0s 20ms/step - loss: 0.0044\n",
            "Epoch 68/100\n",
            "24/24 [==============================] - 0s 20ms/step - loss: 0.0038\n",
            "Epoch 69/100\n",
            "24/24 [==============================] - 0s 20ms/step - loss: 0.0042\n",
            "Epoch 70/100\n",
            "24/24 [==============================] - 0s 20ms/step - loss: 0.0050\n",
            "Epoch 71/100\n",
            "24/24 [==============================] - 0s 20ms/step - loss: 0.0041\n",
            "Epoch 72/100\n",
            "24/24 [==============================] - 0s 20ms/step - loss: 0.0042\n",
            "Epoch 73/100\n",
            "24/24 [==============================] - 0s 20ms/step - loss: 0.0039\n",
            "Epoch 74/100\n",
            "24/24 [==============================] - 0s 20ms/step - loss: 0.0038\n",
            "Epoch 75/100\n",
            "24/24 [==============================] - 0s 20ms/step - loss: 0.0038\n",
            "Epoch 76/100\n",
            "24/24 [==============================] - 0s 20ms/step - loss: 0.0039\n",
            "Epoch 77/100\n",
            "24/24 [==============================] - 0s 20ms/step - loss: 0.0041\n",
            "Epoch 78/100\n",
            "24/24 [==============================] - 0s 20ms/step - loss: 0.0042\n",
            "Epoch 79/100\n",
            "24/24 [==============================] - 0s 20ms/step - loss: 0.0042\n",
            "Epoch 80/100\n",
            "24/24 [==============================] - 0s 20ms/step - loss: 0.0036\n",
            "Epoch 81/100\n",
            "24/24 [==============================] - 0s 20ms/step - loss: 0.0043\n",
            "Epoch 82/100\n",
            "24/24 [==============================] - 0s 20ms/step - loss: 0.0031\n",
            "Epoch 83/100\n",
            "24/24 [==============================] - 0s 20ms/step - loss: 0.0035\n",
            "Epoch 84/100\n",
            "24/24 [==============================] - 0s 20ms/step - loss: 0.0041\n",
            "Epoch 85/100\n",
            "24/24 [==============================] - 0s 20ms/step - loss: 0.0037\n",
            "Epoch 86/100\n",
            "24/24 [==============================] - 0s 20ms/step - loss: 0.0043\n",
            "Epoch 87/100\n",
            "24/24 [==============================] - 0s 20ms/step - loss: 0.0036\n",
            "Epoch 88/100\n",
            "24/24 [==============================] - 1s 21ms/step - loss: 0.0034\n",
            "Epoch 89/100\n",
            "24/24 [==============================] - 0s 20ms/step - loss: 0.0032\n",
            "Epoch 90/100\n",
            "24/24 [==============================] - 0s 21ms/step - loss: 0.0039\n",
            "Epoch 91/100\n",
            "24/24 [==============================] - 0s 19ms/step - loss: 0.0033\n",
            "Epoch 92/100\n",
            "24/24 [==============================] - 0s 20ms/step - loss: 0.0038\n",
            "Epoch 93/100\n",
            "24/24 [==============================] - 0s 20ms/step - loss: 0.0039\n",
            "Epoch 94/100\n",
            "24/24 [==============================] - 0s 20ms/step - loss: 0.0036\n",
            "Epoch 95/100\n",
            "24/24 [==============================] - 0s 20ms/step - loss: 0.0030\n",
            "Epoch 96/100\n",
            "24/24 [==============================] - 0s 20ms/step - loss: 0.0030\n",
            "Epoch 97/100\n",
            "24/24 [==============================] - 0s 20ms/step - loss: 0.0035\n",
            "Epoch 98/100\n",
            "24/24 [==============================] - 0s 20ms/step - loss: 0.0035\n",
            "Epoch 99/100\n",
            "24/24 [==============================] - 0s 20ms/step - loss: 0.0039\n",
            "Epoch 100/100\n",
            "24/24 [==============================] - 0s 20ms/step - loss: 0.0035\n"
          ],
          "name": "stdout"
        },
        {
          "output_type": "execute_result",
          "data": {
            "text/plain": [
              "<tensorflow.python.keras.callbacks.History at 0x7ff39fafd518>"
            ]
          },
          "metadata": {
            "tags": []
          },
          "execution_count": 84
        }
      ]
    },
    {
      "cell_type": "code",
      "metadata": {
        "id": "ZMTYk7JgNNpe",
        "outputId": "d9042fdd-6cb6-46f9-f0e5-7259bd258dbf",
        "colab": {
          "base_uri": "https://localhost:8080/",
          "height": 52
        }
      },
      "source": [
        "# Getting the predicted stock price\n",
        "dataset_train = df.iloc[:800, 1:2]\n",
        "dataset_test = df.iloc[800:, 1:2]\n",
        "print(dataset_test.shape)\n",
        "dataset_total = pd.concat((dataset_train, dataset_test), axis = 0)\n",
        "inputs = dataset_total[len(dataset_total) - len(dataset_test) - 60:].values\n",
        "inputs = inputs.reshape(-1,1)\n",
        "inputs = sc.transform(inputs)\n",
        "X_test = []\n",
        "for i in range(60, 588):\n",
        "    X_test.append(inputs[i-60:i, 0])\n",
        "X_test = np.array(X_test)\n",
        "X_test = np.reshape(X_test, (X_test.shape[0], X_test.shape[1], 1))\n",
        "print(X_test.shape)"
      ],
      "execution_count": 85,
      "outputs": [
        {
          "output_type": "stream",
          "text": [
            "(528, 1)\n",
            "(528, 60, 1)\n"
          ],
          "name": "stdout"
        }
      ]
    },
    {
      "cell_type": "markdown",
      "metadata": {
        "id": "b5TJX8TNNNpk"
      },
      "source": [
        "Make predictions using the test set"
      ]
    },
    {
      "cell_type": "code",
      "metadata": {
        "id": "yboFY-pbNNpk"
      },
      "source": [
        "predicted_stock_price = model.predict(X_test)\n",
        "predicted_stock_price = sc.inverse_transform(predicted_stock_price)"
      ],
      "execution_count": 86,
      "outputs": []
    },
    {
      "cell_type": "markdown",
      "metadata": {
        "id": "zIejAjeiNNpo"
      },
      "source": [
        "Visualize the results"
      ]
    },
    {
      "cell_type": "code",
      "metadata": {
        "id": "JbEC_ioBNNpo",
        "outputId": "b81c4381-ba4a-4225-82ef-090ab5c35ac8",
        "colab": {
          "base_uri": "https://localhost:8080/",
          "height": 513
        }
      },
      "source": [
        "# Visualising the results\n",
        "fig = plt.figure(figsize=(12,8))\n",
        "plt.plot(df.loc[800:, 'Date'],dataset_test.values, color = 'red', label = 'Real TESLA Stock Price')\n",
        "plt.plot(df.loc[800:, 'Date'],predicted_stock_price, color = 'blue', label = 'Predicted TESLA Stock Price')\n",
        "plt.xticks(np.arange(0,528,50))\n",
        "plt.title('TESLA Stock Price Prediction')\n",
        "plt.xlabel('Time')\n",
        "plt.ylabel('TESLA Stock Price')\n",
        "plt.legend()\n",
        "plt.show()"
      ],
      "execution_count": 87,
      "outputs": [
        {
          "output_type": "display_data",
          "data": {
            "image/png": "[encoded data removed]",
            "text/plain": [
              "<Figure size 864x576 with 1 Axes>"
            ]
          },
          "metadata": {
            "tags": [],
            "needs_background": "light"
          }
        }
      ]
    },
    {
      "cell_type": "markdown",
      "metadata": {
        "id": "pQP63ej9O1vd"
      },
      "source": [
        "## Lag: 7, Hidden Layers: 6, Dropout Rate: 0.2"
      ]
    },
    {
      "cell_type": "markdown",
      "metadata": {
        "id": "edf6NVV4O1ve"
      },
      "source": [
        "7 day"
      ]
    },
    {
      "cell_type": "code",
      "metadata": {
        "id": "fYcm7kFsO1vf",
        "outputId": "76e13108-6cb3-4722-f033-92f4d099d43d",
        "colab": {
          "base_uri": "https://localhost:8080/",
          "height": 35
        }
      },
      "source": [
        "# Feature Scaling\n",
        "sc = MinMaxScaler(feature_range = (0, 1))\n",
        "training_set_scaled = sc.fit_transform(training_set)\n",
        "# Creating a data structure with 60 time-steps and 1 output\n",
        "X_train = []\n",
        "y_train = []\n",
        "for i in range(60, 800, 7):\n",
        "    X_train.append(training_set_scaled[i-60:i, 0])\n",
        "    y_train.append(training_set_scaled[i, 0])\n",
        "X_train, y_train = np.array(X_train), np.array(y_train)\n",
        "X_train = np.reshape(X_train, (X_train.shape[0], X_train.shape[1], 1))\n",
        "X_train.shape"
      ],
      "execution_count": 88,
      "outputs": [
        {
          "output_type": "execute_result",
          "data": {
            "text/plain": [
              "(106, 60, 1)"
            ]
          },
          "metadata": {
            "tags": []
          },
          "execution_count": 88
        }
      ]
    },
    {
      "cell_type": "markdown",
      "metadata": {
        "id": "kgo_leroO1vj"
      },
      "source": [
        "Build LSTM mode, with 50 neurons and 6 layers, droupout rate = 0.2"
      ]
    },
    {
      "cell_type": "code",
      "metadata": {
        "id": "VNZrJmyDO1vk",
        "outputId": "a23ca0e4-7512-40e9-fd6b-a66082d0d3d3",
        "colab": {
          "base_uri": "https://localhost:8080/",
          "height": 1000
        }
      },
      "source": [
        "model = Sequential()\n",
        "#Adding the first LSTM layer and some Dropout regularisation\n",
        "model.add(LSTM(units = 50, return_sequences = True, input_shape = (X_train.shape[1], 1)))\n",
        "model.add(Dropout(0.2))\n",
        "# Adding a second LSTM layer and some Dropout regularisation\n",
        "model.add(LSTM(units = 50, return_sequences = True))\n",
        "model.add(Dropout(0.2))\n",
        "# Adding a third LSTM layer and some Dropout regularisation\n",
        "model.add(LSTM(units = 50, return_sequences = True))\n",
        "model.add(Dropout(0.2))\n",
        "# Adding a fourth LSTM layer and some Dropout regularisation\n",
        "model.add(LSTM(units = 50, return_sequences = True))\n",
        "model.add(Dropout(0.2))\n",
        "# Adding a fifth LSTM layer and some Dropout regularisation\n",
        "model.add(LSTM(units = 50, return_sequences = True))\n",
        "model.add(Dropout(0.2))\n",
        "# Adding a sixth LSTM layer and some Dropout regularisation\n",
        "model.add(LSTM(units = 50))\n",
        "model.add(Dropout(0.2))\n",
        "# Adding the output layer\n",
        "model.add(Dense(units = 1))\n",
        "\n",
        "# Compiling the RNN\n",
        "model.compile(optimizer = 'adam', loss = 'mean_squared_error')\n",
        "\n",
        "# Fitting the RNN to the Training set\n",
        "model.fit(X_train, y_train, epochs = 100, batch_size = 32)"
      ],
      "execution_count": 89,
      "outputs": [
        {
          "output_type": "stream",
          "text": [
            "Epoch 1/100\n",
            "4/4 [==============================] - 0s 21ms/step - loss: 0.2713\n",
            "Epoch 2/100\n",
            "4/4 [==============================] - 0s 21ms/step - loss: 0.0609\n",
            "Epoch 3/100\n",
            "4/4 [==============================] - 0s 18ms/step - loss: 0.0301\n",
            "Epoch 4/100\n",
            "4/4 [==============================] - 0s 16ms/step - loss: 0.0420\n",
            "Epoch 5/100\n",
            "4/4 [==============================] - 0s 16ms/step - loss: 0.0351\n",
            "Epoch 6/100\n",
            "4/4 [==============================] - 0s 15ms/step - loss: 0.0225\n",
            "Epoch 7/100\n",
            "4/4 [==============================] - 0s 15ms/step - loss: 0.0211\n",
            "Epoch 8/100\n",
            "4/4 [==============================] - 0s 16ms/step - loss: 0.0164\n",
            "Epoch 9/100\n",
            "4/4 [==============================] - 0s 16ms/step - loss: 0.0172\n",
            "Epoch 10/100\n",
            "4/4 [==============================] - 0s 16ms/step - loss: 0.0156\n",
            "Epoch 11/100\n",
            "4/4 [==============================] - 0s 15ms/step - loss: 0.0149\n",
            "Epoch 12/100\n",
            "4/4 [==============================] - 0s 18ms/step - loss: 0.0150\n",
            "Epoch 13/100\n",
            "4/4 [==============================] - 0s 15ms/step - loss: 0.0142\n",
            "Epoch 14/100\n",
            "4/4 [==============================] - 0s 15ms/step - loss: 0.0125\n",
            "Epoch 15/100\n",
            "4/4 [==============================] - 0s 15ms/step - loss: 0.0167\n",
            "Epoch 16/100\n",
            "4/4 [==============================] - 0s 16ms/step - loss: 0.0141\n",
            "Epoch 17/100\n",
            "4/4 [==============================] - 0s 16ms/step - loss: 0.0121\n",
            "Epoch 18/100\n",
            "4/4 [==============================] - 0s 15ms/step - loss: 0.0128\n",
            "Epoch 19/100\n",
            "4/4 [==============================] - 0s 15ms/step - loss: 0.0146\n",
            "Epoch 20/100\n",
            "4/4 [==============================] - 0s 15ms/step - loss: 0.0135\n",
            "Epoch 21/100\n",
            "4/4 [==============================] - 0s 15ms/step - loss: 0.0158\n",
            "Epoch 22/100\n",
            "4/4 [==============================] - 0s 15ms/step - loss: 0.0125\n",
            "Epoch 23/100\n",
            "4/4 [==============================] - 0s 17ms/step - loss: 0.0148\n",
            "Epoch 24/100\n",
            "4/4 [==============================] - 0s 16ms/step - loss: 0.0150\n",
            "Epoch 25/100\n",
            "4/4 [==============================] - 0s 15ms/step - loss: 0.0136\n",
            "Epoch 26/100\n",
            "4/4 [==============================] - 0s 18ms/step - loss: 0.0147\n",
            "Epoch 27/100\n",
            "4/4 [==============================] - 0s 17ms/step - loss: 0.0155\n",
            "Epoch 28/100\n",
            "4/4 [==============================] - 0s 18ms/step - loss: 0.0144\n",
            "Epoch 29/100\n",
            "4/4 [==============================] - 0s 15ms/step - loss: 0.0149\n",
            "Epoch 30/100\n",
            "4/4 [==============================] - 0s 15ms/step - loss: 0.0154\n",
            "Epoch 31/100\n",
            "4/4 [==============================] - 0s 15ms/step - loss: 0.0136\n",
            "Epoch 32/100\n",
            "4/4 [==============================] - 0s 15ms/step - loss: 0.0137\n",
            "Epoch 33/100\n",
            "4/4 [==============================] - 0s 16ms/step - loss: 0.0137\n",
            "Epoch 34/100\n",
            "4/4 [==============================] - 0s 15ms/step - loss: 0.0130\n",
            "Epoch 35/100\n",
            "4/4 [==============================] - 0s 16ms/step - loss: 0.0113\n",
            "Epoch 36/100\n",
            "4/4 [==============================] - 0s 16ms/step - loss: 0.0134\n",
            "Epoch 37/100\n",
            "4/4 [==============================] - 0s 15ms/step - loss: 0.0140\n",
            "Epoch 38/100\n",
            "4/4 [==============================] - 0s 16ms/step - loss: 0.0157\n",
            "Epoch 39/100\n",
            "4/4 [==============================] - 0s 15ms/step - loss: 0.0137\n",
            "Epoch 40/100\n",
            "4/4 [==============================] - 0s 15ms/step - loss: 0.0125\n",
            "Epoch 41/100\n",
            "4/4 [==============================] - 0s 16ms/step - loss: 0.0131\n",
            "Epoch 42/100\n",
            "4/4 [==============================] - 0s 15ms/step - loss: 0.0132\n",
            "Epoch 43/100\n",
            "4/4 [==============================] - 0s 15ms/step - loss: 0.0105\n",
            "Epoch 44/100\n",
            "4/4 [==============================] - 0s 18ms/step - loss: 0.0116\n",
            "Epoch 45/100\n",
            "4/4 [==============================] - 0s 17ms/step - loss: 0.0129\n",
            "Epoch 46/100\n",
            "4/4 [==============================] - 0s 15ms/step - loss: 0.0137\n",
            "Epoch 47/100\n",
            "4/4 [==============================] - 0s 15ms/step - loss: 0.0111\n",
            "Epoch 48/100\n",
            "4/4 [==============================] - 0s 16ms/step - loss: 0.0117\n",
            "Epoch 49/100\n",
            "4/4 [==============================] - 0s 16ms/step - loss: 0.0140\n",
            "Epoch 50/100\n",
            "4/4 [==============================] - 0s 15ms/step - loss: 0.0129\n",
            "Epoch 51/100\n",
            "4/4 [==============================] - 0s 15ms/step - loss: 0.0139\n",
            "Epoch 52/100\n",
            "4/4 [==============================] - 0s 16ms/step - loss: 0.0113\n",
            "Epoch 53/100\n",
            "4/4 [==============================] - 0s 15ms/step - loss: 0.0173\n",
            "Epoch 54/100\n",
            "4/4 [==============================] - 0s 15ms/step - loss: 0.0116\n",
            "Epoch 55/100\n",
            "4/4 [==============================] - 0s 16ms/step - loss: 0.0148\n",
            "Epoch 56/100\n",
            "4/4 [==============================] - 0s 16ms/step - loss: 0.0141\n",
            "Epoch 57/100\n",
            "4/4 [==============================] - 0s 16ms/step - loss: 0.0165\n",
            "Epoch 58/100\n",
            "4/4 [==============================] - 0s 15ms/step - loss: 0.0132\n",
            "Epoch 59/100\n",
            "4/4 [==============================] - 0s 17ms/step - loss: 0.0123\n",
            "Epoch 60/100\n",
            "4/4 [==============================] - 0s 16ms/step - loss: 0.0103\n",
            "Epoch 61/100\n",
            "4/4 [==============================] - 0s 17ms/step - loss: 0.0115\n",
            "Epoch 62/100\n",
            "4/4 [==============================] - 0s 16ms/step - loss: 0.0121\n",
            "Epoch 63/100\n",
            "4/4 [==============================] - 0s 15ms/step - loss: 0.0093\n",
            "Epoch 64/100\n",
            "4/4 [==============================] - 0s 15ms/step - loss: 0.0108\n",
            "Epoch 65/100\n",
            "4/4 [==============================] - 0s 16ms/step - loss: 0.0118\n",
            "Epoch 66/100\n",
            "4/4 [==============================] - 0s 16ms/step - loss: 0.0113\n",
            "Epoch 67/100\n",
            "4/4 [==============================] - 0s 15ms/step - loss: 0.0140\n",
            "Epoch 68/100\n",
            "4/4 [==============================] - 0s 16ms/step - loss: 0.0141\n",
            "Epoch 69/100\n",
            "4/4 [==============================] - 0s 15ms/step - loss: 0.0179\n",
            "Epoch 70/100\n",
            "4/4 [==============================] - 0s 15ms/step - loss: 0.0138\n",
            "Epoch 71/100\n",
            "4/4 [==============================] - 0s 18ms/step - loss: 0.0110\n",
            "Epoch 72/100\n",
            "4/4 [==============================] - 0s 17ms/step - loss: 0.0132\n",
            "Epoch 73/100\n",
            "4/4 [==============================] - 0s 15ms/step - loss: 0.0131\n",
            "Epoch 74/100\n",
            "4/4 [==============================] - 0s 17ms/step - loss: 0.0098\n",
            "Epoch 75/100\n",
            "4/4 [==============================] - 0s 16ms/step - loss: 0.0124\n",
            "Epoch 76/100\n",
            "4/4 [==============================] - 0s 15ms/step - loss: 0.0125\n",
            "Epoch 77/100\n",
            "4/4 [==============================] - 0s 15ms/step - loss: 0.0101\n",
            "Epoch 78/100\n",
            "4/4 [==============================] - 0s 15ms/step - loss: 0.0108\n",
            "Epoch 79/100\n",
            "4/4 [==============================] - 0s 15ms/step - loss: 0.0139\n",
            "Epoch 80/100\n",
            "4/4 [==============================] - 0s 16ms/step - loss: 0.0135\n",
            "Epoch 81/100\n",
            "4/4 [==============================] - 0s 17ms/step - loss: 0.0131\n",
            "Epoch 82/100\n",
            "4/4 [==============================] - 0s 16ms/step - loss: 0.0096\n",
            "Epoch 83/100\n",
            "4/4 [==============================] - 0s 17ms/step - loss: 0.0118\n",
            "Epoch 84/100\n",
            "4/4 [==============================] - 0s 16ms/step - loss: 0.0099\n",
            "Epoch 85/100\n",
            "4/4 [==============================] - 0s 17ms/step - loss: 0.0095\n",
            "Epoch 86/100\n",
            "4/4 [==============================] - 0s 16ms/step - loss: 0.0107\n",
            "Epoch 87/100\n",
            "4/4 [==============================] - 0s 16ms/step - loss: 0.0112\n",
            "Epoch 88/100\n",
            "4/4 [==============================] - 0s 16ms/step - loss: 0.0114\n",
            "Epoch 89/100\n",
            "4/4 [==============================] - 0s 16ms/step - loss: 0.0104\n",
            "Epoch 90/100\n",
            "4/4 [==============================] - 0s 15ms/step - loss: 0.0096\n",
            "Epoch 91/100\n",
            "4/4 [==============================] - 0s 16ms/step - loss: 0.0092\n",
            "Epoch 92/100\n",
            "4/4 [==============================] - 0s 16ms/step - loss: 0.0086\n",
            "Epoch 93/100\n",
            "4/4 [==============================] - 0s 16ms/step - loss: 0.0094\n",
            "Epoch 94/100\n",
            "4/4 [==============================] - 0s 16ms/step - loss: 0.0108\n",
            "Epoch 95/100\n",
            "4/4 [==============================] - 0s 15ms/step - loss: 0.0072\n",
            "Epoch 96/100\n",
            "4/4 [==============================] - 0s 15ms/step - loss: 0.0078\n",
            "Epoch 97/100\n",
            "4/4 [==============================] - 0s 18ms/step - loss: 0.0077\n",
            "Epoch 98/100\n",
            "4/4 [==============================] - 0s 15ms/step - loss: 0.0082\n",
            "Epoch 99/100\n",
            "4/4 [==============================] - 0s 15ms/step - loss: 0.0106\n",
            "Epoch 100/100\n",
            "4/4 [==============================] - 0s 15ms/step - loss: 0.0092\n"
          ],
          "name": "stdout"
        },
        {
          "output_type": "execute_result",
          "data": {
            "text/plain": [
              "<tensorflow.python.keras.callbacks.History at 0x7ff39d0011d0>"
            ]
          },
          "metadata": {
            "tags": []
          },
          "execution_count": 89
        }
      ]
    },
    {
      "cell_type": "code",
      "metadata": {
        "id": "SG-rxxngO1vp",
        "outputId": "749d848b-23cb-4fe4-967d-c9030aac9e0d",
        "colab": {
          "base_uri": "https://localhost:8080/",
          "height": 52
        }
      },
      "source": [
        "# Getting the predicted stock price\n",
        "dataset_train = df.iloc[:800, 1:2]\n",
        "dataset_test = df.iloc[800:, 1:2]\n",
        "print(dataset_test.shape)\n",
        "dataset_total = pd.concat((dataset_train, dataset_test), axis = 0)\n",
        "inputs = dataset_total[len(dataset_total) - len(dataset_test) - 60:].values\n",
        "inputs = inputs.reshape(-1,1)\n",
        "inputs = sc.transform(inputs)\n",
        "X_test = []\n",
        "for i in range(60, 588):\n",
        "    X_test.append(inputs[i-60:i, 0])\n",
        "X_test = np.array(X_test)\n",
        "X_test = np.reshape(X_test, (X_test.shape[0], X_test.shape[1], 1))\n",
        "print(X_test.shape)"
      ],
      "execution_count": 90,
      "outputs": [
        {
          "output_type": "stream",
          "text": [
            "(528, 1)\n",
            "(528, 60, 1)\n"
          ],
          "name": "stdout"
        }
      ]
    },
    {
      "cell_type": "markdown",
      "metadata": {
        "id": "e-RpYPiLO1vs"
      },
      "source": [
        "Make predictions using the test set"
      ]
    },
    {
      "cell_type": "code",
      "metadata": {
        "id": "aqmIl8K1O1vt"
      },
      "source": [
        "predicted_stock_price = model.predict(X_test)\n",
        "predicted_stock_price = sc.inverse_transform(predicted_stock_price)"
      ],
      "execution_count": 91,
      "outputs": []
    },
    {
      "cell_type": "markdown",
      "metadata": {
        "id": "VxsBOSqhO1vw"
      },
      "source": [
        "Visualize the results"
      ]
    },
    {
      "cell_type": "code",
      "metadata": {
        "id": "w2gfUpZ0O1vw",
        "outputId": "fe261872-caa8-4031-e644-9530215114dd",
        "colab": {
          "base_uri": "https://localhost:8080/",
          "height": 513
        }
      },
      "source": [
        "# Visualising the results\n",
        "fig = plt.figure(figsize=(12,8))\n",
        "plt.plot(df.loc[800:, 'Date'],dataset_test.values, color = 'red', label = 'Real TESLA Stock Price')\n",
        "plt.plot(df.loc[800:, 'Date'],predicted_stock_price, color = 'blue', label = 'Predicted TESLA Stock Price')\n",
        "plt.xticks(np.arange(0,528,50))\n",
        "plt.title('TESLA Stock Price Prediction')\n",
        "plt.xlabel('Time')\n",
        "plt.ylabel('TESLA Stock Price')\n",
        "plt.legend()\n",
        "plt.show()"
      ],
      "execution_count": 92,
      "outputs": [
        {
          "output_type": "display_data",
          "data": {
            "image/png": "[encoded data removed]",
            "text/plain": [
              "<Figure size 864x576 with 1 Axes>"
            ]
          },
          "metadata": {
            "tags": [],
            "needs_background": "light"
          }
        }
      ]
    },
    {
      "cell_type": "markdown",
      "metadata": {
        "id": "q557cHrQPDXY"
      },
      "source": [
        "## Lag: 14, Hidden Layers: 6, Dropout Rate: 0.2"
      ]
    },
    {
      "cell_type": "markdown",
      "metadata": {
        "id": "MF0nFJKLPDXa"
      },
      "source": [
        "14 day"
      ]
    },
    {
      "cell_type": "code",
      "metadata": {
        "id": "0HV_wkG_PDXc",
        "outputId": "47a55798-6683-45ca-88e9-dfd30c105ebc",
        "colab": {
          "base_uri": "https://localhost:8080/",
          "height": 35
        }
      },
      "source": [
        "# Feature Scaling\n",
        "sc = MinMaxScaler(feature_range = (0, 1))\n",
        "training_set_scaled = sc.fit_transform(training_set)\n",
        "# Creating a data structure with 60 time-steps and 1 output\n",
        "X_train = []\n",
        "y_train = []\n",
        "for i in range(60, 800, 14):\n",
        "    X_train.append(training_set_scaled[i-60:i, 0])\n",
        "    y_train.append(training_set_scaled[i, 0])\n",
        "X_train, y_train = np.array(X_train), np.array(y_train)\n",
        "X_train = np.reshape(X_train, (X_train.shape[0], X_train.shape[1], 1))\n",
        "X_train.shape"
      ],
      "execution_count": 94,
      "outputs": [
        {
          "output_type": "execute_result",
          "data": {
            "text/plain": [
              "(53, 60, 1)"
            ]
          },
          "metadata": {
            "tags": []
          },
          "execution_count": 94
        }
      ]
    },
    {
      "cell_type": "markdown",
      "metadata": {
        "id": "ErBzeVxdPDXn"
      },
      "source": [
        "Build LSTM mode, with 50 neurons and 6 layers, droupout rate = 0.2"
      ]
    },
    {
      "cell_type": "code",
      "metadata": {
        "id": "R5jBXLu6PDXp",
        "outputId": "dc4d356c-0f6e-486c-dd5f-a1306a43594f",
        "colab": {
          "base_uri": "https://localhost:8080/",
          "height": 1000
        }
      },
      "source": [
        "model = Sequential()\n",
        "#Adding the first LSTM layer and some Dropout regularisation\n",
        "model.add(LSTM(units = 50, return_sequences = True, input_shape = (X_train.shape[1], 1)))\n",
        "model.add(Dropout(0.2))\n",
        "# Adding a second LSTM layer and some Dropout regularisation\n",
        "model.add(LSTM(units = 50, return_sequences = True))\n",
        "model.add(Dropout(0.2))\n",
        "# Adding a third LSTM layer and some Dropout regularisation\n",
        "model.add(LSTM(units = 50, return_sequences = True))\n",
        "model.add(Dropout(0.2))\n",
        "# Adding a fourth LSTM layer and some Dropout regularisation\n",
        "model.add(LSTM(units = 50, return_sequences = True))\n",
        "model.add(Dropout(0.2))\n",
        "# Adding a fifth LSTM layer and some Dropout regularisation\n",
        "model.add(LSTM(units = 50, return_sequences = True))\n",
        "model.add(Dropout(0.2))\n",
        "# Adding a sixth LSTM layer and some Dropout regularisation\n",
        "model.add(LSTM(units = 50))\n",
        "model.add(Dropout(0.2))\n",
        "# Adding the output layer\n",
        "model.add(Dense(units = 1))\n",
        "\n",
        "# Compiling the RNN\n",
        "model.compile(optimizer = 'adam', loss = 'mean_squared_error')\n",
        "\n",
        "# Fitting the RNN to the Training set\n",
        "model.fit(X_train, y_train, epochs = 100, batch_size = 32)"
      ],
      "execution_count": 95,
      "outputs": [
        {
          "output_type": "stream",
          "text": [
            "Epoch 1/100\n",
            "2/2 [==============================] - 0s 15ms/step - loss: 0.2775\n",
            "Epoch 2/100\n",
            "2/2 [==============================] - 0s 17ms/step - loss: 0.0954\n",
            "Epoch 3/100\n",
            "2/2 [==============================] - 0s 17ms/step - loss: 0.0870\n",
            "Epoch 4/100\n",
            "2/2 [==============================] - 0s 14ms/step - loss: 0.0343\n",
            "Epoch 5/100\n",
            "2/2 [==============================] - 0s 11ms/step - loss: 0.0364\n",
            "Epoch 6/100\n",
            "2/2 [==============================] - 0s 11ms/step - loss: 0.0500\n",
            "Epoch 7/100\n",
            "2/2 [==============================] - 0s 11ms/step - loss: 0.0330\n",
            "Epoch 8/100\n",
            "2/2 [==============================] - 0s 11ms/step - loss: 0.0316\n",
            "Epoch 9/100\n",
            "2/2 [==============================] - 0s 13ms/step - loss: 0.0307\n",
            "Epoch 10/100\n",
            "2/2 [==============================] - 0s 13ms/step - loss: 0.0320\n",
            "Epoch 11/100\n",
            "2/2 [==============================] - 0s 12ms/step - loss: 0.0217\n",
            "Epoch 12/100\n",
            "2/2 [==============================] - 0s 12ms/step - loss: 0.0244\n",
            "Epoch 13/100\n",
            "2/2 [==============================] - 0s 11ms/step - loss: 0.0302\n",
            "Epoch 14/100\n",
            "2/2 [==============================] - 0s 11ms/step - loss: 0.0223\n",
            "Epoch 15/100\n",
            "2/2 [==============================] - 0s 12ms/step - loss: 0.0183\n",
            "Epoch 16/100\n",
            "2/2 [==============================] - 0s 12ms/step - loss: 0.0208\n",
            "Epoch 17/100\n",
            "2/2 [==============================] - 0s 11ms/step - loss: 0.0132\n",
            "Epoch 18/100\n",
            "2/2 [==============================] - 0s 13ms/step - loss: 0.0160\n",
            "Epoch 19/100\n",
            "2/2 [==============================] - 0s 11ms/step - loss: 0.0193\n",
            "Epoch 20/100\n",
            "2/2 [==============================] - 0s 11ms/step - loss: 0.0163\n",
            "Epoch 21/100\n",
            "2/2 [==============================] - 0s 11ms/step - loss: 0.0151\n",
            "Epoch 22/100\n",
            "2/2 [==============================] - 0s 12ms/step - loss: 0.0136\n",
            "Epoch 23/100\n",
            "2/2 [==============================] - 0s 11ms/step - loss: 0.0137\n",
            "Epoch 24/100\n",
            "2/2 [==============================] - 0s 12ms/step - loss: 0.0165\n",
            "Epoch 25/100\n",
            "2/2 [==============================] - 0s 11ms/step - loss: 0.0142\n",
            "Epoch 26/100\n",
            "2/2 [==============================] - 0s 11ms/step - loss: 0.0157\n",
            "Epoch 27/100\n",
            "2/2 [==============================] - 0s 11ms/step - loss: 0.0172\n",
            "Epoch 28/100\n",
            "2/2 [==============================] - 0s 13ms/step - loss: 0.0152\n",
            "Epoch 29/100\n",
            "2/2 [==============================] - 0s 12ms/step - loss: 0.0151\n",
            "Epoch 30/100\n",
            "2/2 [==============================] - 0s 12ms/step - loss: 0.0202\n",
            "Epoch 31/100\n",
            "2/2 [==============================] - 0s 13ms/step - loss: 0.0107\n",
            "Epoch 32/100\n",
            "2/2 [==============================] - 0s 12ms/step - loss: 0.0129\n",
            "Epoch 33/100\n",
            "2/2 [==============================] - 0s 11ms/step - loss: 0.0139\n",
            "Epoch 34/100\n",
            "2/2 [==============================] - 0s 11ms/step - loss: 0.0136\n",
            "Epoch 35/100\n",
            "2/2 [==============================] - 0s 11ms/step - loss: 0.0139\n",
            "Epoch 36/100\n",
            "2/2 [==============================] - 0s 11ms/step - loss: 0.0146\n",
            "Epoch 37/100\n",
            "2/2 [==============================] - 0s 11ms/step - loss: 0.0145\n",
            "Epoch 38/100\n",
            "2/2 [==============================] - 0s 11ms/step - loss: 0.0116\n",
            "Epoch 39/100\n",
            "2/2 [==============================] - 0s 14ms/step - loss: 0.0109\n",
            "Epoch 40/100\n",
            "2/2 [==============================] - 0s 11ms/step - loss: 0.0156\n",
            "Epoch 41/100\n",
            "2/2 [==============================] - 0s 11ms/step - loss: 0.0152\n",
            "Epoch 42/100\n",
            "2/2 [==============================] - 0s 11ms/step - loss: 0.0134\n",
            "Epoch 43/100\n",
            "2/2 [==============================] - 0s 11ms/step - loss: 0.0103\n",
            "Epoch 44/100\n",
            "2/2 [==============================] - 0s 11ms/step - loss: 0.0121\n",
            "Epoch 45/100\n",
            "2/2 [==============================] - 0s 11ms/step - loss: 0.0124\n",
            "Epoch 46/100\n",
            "2/2 [==============================] - 0s 11ms/step - loss: 0.0108\n",
            "Epoch 47/100\n",
            "2/2 [==============================] - 0s 11ms/step - loss: 0.0119\n",
            "Epoch 48/100\n",
            "2/2 [==============================] - 0s 11ms/step - loss: 0.0125\n",
            "Epoch 49/100\n",
            "2/2 [==============================] - 0s 11ms/step - loss: 0.0075\n",
            "Epoch 50/100\n",
            "2/2 [==============================] - 0s 11ms/step - loss: 0.0119\n",
            "Epoch 51/100\n",
            "2/2 [==============================] - 0s 11ms/step - loss: 0.0121\n",
            "Epoch 52/100\n",
            "2/2 [==============================] - 0s 11ms/step - loss: 0.0130\n",
            "Epoch 53/100\n",
            "2/2 [==============================] - 0s 10ms/step - loss: 0.0141\n",
            "Epoch 54/100\n",
            "2/2 [==============================] - 0s 11ms/step - loss: 0.0102\n",
            "Epoch 55/100\n",
            "2/2 [==============================] - 0s 15ms/step - loss: 0.0135\n",
            "Epoch 56/100\n",
            "2/2 [==============================] - 0s 11ms/step - loss: 0.0122\n",
            "Epoch 57/100\n",
            "2/2 [==============================] - 0s 11ms/step - loss: 0.0141\n",
            "Epoch 58/100\n",
            "2/2 [==============================] - 0s 12ms/step - loss: 0.0128\n",
            "Epoch 59/100\n",
            "2/2 [==============================] - 0s 11ms/step - loss: 0.0123\n",
            "Epoch 60/100\n",
            "2/2 [==============================] - 0s 14ms/step - loss: 0.0083\n",
            "Epoch 61/100\n",
            "2/2 [==============================] - 0s 11ms/step - loss: 0.0176\n",
            "Epoch 62/100\n",
            "2/2 [==============================] - 0s 11ms/step - loss: 0.0140\n",
            "Epoch 63/100\n",
            "2/2 [==============================] - 0s 11ms/step - loss: 0.0159\n",
            "Epoch 64/100\n",
            "2/2 [==============================] - 0s 11ms/step - loss: 0.0148\n",
            "Epoch 65/100\n",
            "2/2 [==============================] - 0s 11ms/step - loss: 0.0136\n",
            "Epoch 66/100\n",
            "2/2 [==============================] - 0s 11ms/step - loss: 0.0146\n",
            "Epoch 67/100\n",
            "2/2 [==============================] - 0s 11ms/step - loss: 0.0133\n",
            "Epoch 68/100\n",
            "2/2 [==============================] - 0s 12ms/step - loss: 0.0154\n",
            "Epoch 69/100\n",
            "2/2 [==============================] - 0s 11ms/step - loss: 0.0144\n",
            "Epoch 70/100\n",
            "2/2 [==============================] - 0s 13ms/step - loss: 0.0129\n",
            "Epoch 71/100\n",
            "2/2 [==============================] - 0s 12ms/step - loss: 0.0135\n",
            "Epoch 72/100\n",
            "2/2 [==============================] - 0s 11ms/step - loss: 0.0177\n",
            "Epoch 73/100\n",
            "2/2 [==============================] - 0s 12ms/step - loss: 0.0139\n",
            "Epoch 74/100\n",
            "2/2 [==============================] - 0s 11ms/step - loss: 0.0168\n",
            "Epoch 75/100\n",
            "2/2 [==============================] - 0s 11ms/step - loss: 0.0130\n",
            "Epoch 76/100\n",
            "2/2 [==============================] - 0s 13ms/step - loss: 0.0134\n",
            "Epoch 77/100\n",
            "2/2 [==============================] - 0s 12ms/step - loss: 0.0143\n",
            "Epoch 78/100\n",
            "2/2 [==============================] - 0s 11ms/step - loss: 0.0104\n",
            "Epoch 79/100\n",
            "2/2 [==============================] - 0s 11ms/step - loss: 0.0128\n",
            "Epoch 80/100\n",
            "2/2 [==============================] - 0s 11ms/step - loss: 0.0128\n",
            "Epoch 81/100\n",
            "2/2 [==============================] - 0s 13ms/step - loss: 0.0097\n",
            "Epoch 82/100\n",
            "2/2 [==============================] - 0s 12ms/step - loss: 0.0145\n",
            "Epoch 83/100\n",
            "2/2 [==============================] - 0s 11ms/step - loss: 0.0114\n",
            "Epoch 84/100\n",
            "2/2 [==============================] - 0s 11ms/step - loss: 0.0119\n",
            "Epoch 85/100\n",
            "2/2 [==============================] - 0s 11ms/step - loss: 0.0161\n",
            "Epoch 86/100\n",
            "2/2 [==============================] - 0s 12ms/step - loss: 0.0093\n",
            "Epoch 87/100\n",
            "2/2 [==============================] - 0s 12ms/step - loss: 0.0123\n",
            "Epoch 88/100\n",
            "2/2 [==============================] - 0s 11ms/step - loss: 0.0090\n",
            "Epoch 89/100\n",
            "2/2 [==============================] - 0s 11ms/step - loss: 0.0137\n",
            "Epoch 90/100\n",
            "2/2 [==============================] - 0s 11ms/step - loss: 0.0123\n",
            "Epoch 91/100\n",
            "2/2 [==============================] - 0s 11ms/step - loss: 0.0140\n",
            "Epoch 92/100\n",
            "2/2 [==============================] - 0s 11ms/step - loss: 0.0141\n",
            "Epoch 93/100\n",
            "2/2 [==============================] - 0s 12ms/step - loss: 0.0095\n",
            "Epoch 94/100\n",
            "2/2 [==============================] - 0s 11ms/step - loss: 0.0115\n",
            "Epoch 95/100\n",
            "2/2 [==============================] - 0s 11ms/step - loss: 0.0130\n",
            "Epoch 96/100\n",
            "2/2 [==============================] - 0s 11ms/step - loss: 0.0135\n",
            "Epoch 97/100\n",
            "2/2 [==============================] - 0s 11ms/step - loss: 0.0107\n",
            "Epoch 98/100\n",
            "2/2 [==============================] - 0s 14ms/step - loss: 0.0098\n",
            "Epoch 99/100\n",
            "2/2 [==============================] - 0s 12ms/step - loss: 0.0107\n",
            "Epoch 100/100\n",
            "2/2 [==============================] - 0s 13ms/step - loss: 0.0098\n"
          ],
          "name": "stdout"
        },
        {
          "output_type": "execute_result",
          "data": {
            "text/plain": [
              "<tensorflow.python.keras.callbacks.History at 0x7ff39a47af60>"
            ]
          },
          "metadata": {
            "tags": []
          },
          "execution_count": 95
        }
      ]
    },
    {
      "cell_type": "code",
      "metadata": {
        "id": "R09CiH88PDXx",
        "outputId": "91459183-2857-4d93-848c-fb341af2d6c1",
        "colab": {
          "base_uri": "https://localhost:8080/",
          "height": 52
        }
      },
      "source": [
        "# Getting the predicted stock price\n",
        "dataset_train = df.iloc[:800, 1:2]\n",
        "dataset_test = df.iloc[800:, 1:2]\n",
        "print(dataset_test.shape)\n",
        "dataset_total = pd.concat((dataset_train, dataset_test), axis = 0)\n",
        "inputs = dataset_total[len(dataset_total) - len(dataset_test) - 60:].values\n",
        "inputs = inputs.reshape(-1,1)\n",
        "inputs = sc.transform(inputs)\n",
        "X_test = []\n",
        "for i in range(60, 588):\n",
        "    X_test.append(inputs[i-60:i, 0])\n",
        "X_test = np.array(X_test)\n",
        "X_test = np.reshape(X_test, (X_test.shape[0], X_test.shape[1], 1))\n",
        "print(X_test.shape)"
      ],
      "execution_count": 96,
      "outputs": [
        {
          "output_type": "stream",
          "text": [
            "(528, 1)\n",
            "(528, 60, 1)\n"
          ],
          "name": "stdout"
        }
      ]
    },
    {
      "cell_type": "markdown",
      "metadata": {
        "id": "GPGycK8dPDX3"
      },
      "source": [
        "Make predictions using the test set"
      ]
    },
    {
      "cell_type": "code",
      "metadata": {
        "id": "UeTSSpl4PDX4"
      },
      "source": [
        "predicted_stock_price = model.predict(X_test)\n",
        "predicted_stock_price = sc.inverse_transform(predicted_stock_price)"
      ],
      "execution_count": 97,
      "outputs": []
    },
    {
      "cell_type": "markdown",
      "metadata": {
        "id": "DBfhkataPDYA"
      },
      "source": [
        "Visualize the results"
      ]
    },
    {
      "cell_type": "code",
      "metadata": {
        "id": "Kfj02BqrPDYB",
        "outputId": "768eefae-ef46-4467-b7b6-dc5a42fffe5c",
        "colab": {
          "base_uri": "https://localhost:8080/",
          "height": 513
        }
      },
      "source": [
        "# Visualising the results\n",
        "fig = plt.figure(figsize=(12,8))\n",
        "plt.plot(df.loc[800:, 'Date'],dataset_test.values, color = 'red', label = 'Real TESLA Stock Price')\n",
        "plt.plot(df.loc[800:, 'Date'],predicted_stock_price, color = 'blue', label = 'Predicted TESLA Stock Price')\n",
        "plt.xticks(np.arange(0,528,50))\n",
        "plt.title('TESLA Stock Price Prediction')\n",
        "plt.xlabel('Time')\n",
        "plt.ylabel('TESLA Stock Price')\n",
        "plt.legend()\n",
        "plt.show()"
      ],
      "execution_count": 98,
      "outputs": [
        {
          "output_type": "display_data",
          "data": {
            "image/png": "[encoded data removed]",
            "text/plain": [
              "<Figure size 864x576 with 1 Axes>"
            ]
          },
          "metadata": {
            "tags": [],
            "needs_background": "light"
          }
        }
      ]
    },
    {
      "cell_type": "markdown",
      "metadata": {
        "id": "1Kym8dBsXwAx"
      },
      "source": [
        "## Comparison 2: 0.2 vs 0.5 dropout rate"
      ]
    },
    {
      "cell_type": "markdown",
      "metadata": {
        "id": "D_4rHzvHYDfx"
      },
      "source": [
        "## Lag: 1, Hidden Layers: 4, Dropout Rate: 0.5"
      ]
    },
    {
      "cell_type": "markdown",
      "metadata": {
        "id": "NCnO1FuaYDf1"
      },
      "source": [
        "1 day"
      ]
    },
    {
      "cell_type": "code",
      "metadata": {
        "id": "QUtvEjsrYDgH",
        "outputId": "e62a1c87-c62e-4846-f7c2-fb41fe9f7816",
        "colab": {
          "base_uri": "https://localhost:8080/",
          "height": 35
        }
      },
      "source": [
        "# Feature Scaling\n",
        "sc = MinMaxScaler(feature_range = (0, 1))\n",
        "training_set_scaled = sc.fit_transform(training_set)\n",
        "# Creating a data structure with 60 time-steps and 1 output\n",
        "X_train = []\n",
        "y_train = []\n",
        "for i in range(60, 800):\n",
        "    X_train.append(training_set_scaled[i-60:i, 0])\n",
        "    y_train.append(training_set_scaled[i, 0])\n",
        "X_train, y_train = np.array(X_train), np.array(y_train)\n",
        "X_train = np.reshape(X_train, (X_train.shape[0], X_train.shape[1], 1))\n",
        "X_train.shape"
      ],
      "execution_count": 99,
      "outputs": [
        {
          "output_type": "execute_result",
          "data": {
            "text/plain": [
              "(740, 60, 1)"
            ]
          },
          "metadata": {
            "tags": []
          },
          "execution_count": 99
        }
      ]
    },
    {
      "cell_type": "markdown",
      "metadata": {
        "id": "gJ-AmyVrYDgO"
      },
      "source": [
        "Build LSTM mode, with 50 neurons and 4 layers, droupout rate = 0.5"
      ]
    },
    {
      "cell_type": "code",
      "metadata": {
        "id": "ko6T8uSOYDgP",
        "outputId": "b12ebaac-70fa-4c3f-97f7-ae2c4679ce4c",
        "colab": {
          "base_uri": "https://localhost:8080/",
          "height": 1000
        }
      },
      "source": [
        "model = Sequential()\n",
        "#Adding the first LSTM layer and some Dropout regularisation\n",
        "model.add(LSTM(units = 50, return_sequences = True, input_shape = (X_train.shape[1], 1)))\n",
        "model.add(Dropout(0.5))\n",
        "# Adding a second LSTM layer and some Dropout regularisation\n",
        "model.add(LSTM(units = 50, return_sequences = True))\n",
        "model.add(Dropout(0.5))\n",
        "# Adding a third LSTM layer and some Dropout regularisation\n",
        "model.add(LSTM(units = 50, return_sequences = True))\n",
        "model.add(Dropout(0.5))\n",
        "# Adding a fourth LSTM layer and some Dropout regularisation\n",
        "model.add(LSTM(units = 50))\n",
        "model.add(Dropout(0.5))\n",
        "# Adding the output layer\n",
        "model.add(Dense(units = 1))\n",
        "\n",
        "# Compiling the RNN\n",
        "model.compile(optimizer = 'adam', loss = 'mean_squared_error')\n",
        "\n",
        "# Fitting the RNN to the Training set\n",
        "model.fit(X_train, y_train, epochs = 100, batch_size = 32)"
      ],
      "execution_count": 100,
      "outputs": [
        {
          "output_type": "stream",
          "text": [
            "Epoch 1/100\n",
            "24/24 [==============================] - 0s 17ms/step - loss: 0.0655\n",
            "Epoch 2/100\n",
            "24/24 [==============================] - 0s 14ms/step - loss: 0.0248\n",
            "Epoch 3/100\n",
            "24/24 [==============================] - 0s 14ms/step - loss: 0.0214\n",
            "Epoch 4/100\n",
            "24/24 [==============================] - 0s 14ms/step - loss: 0.0220\n",
            "Epoch 5/100\n",
            "24/24 [==============================] - 0s 14ms/step - loss: 0.0209\n",
            "Epoch 6/100\n",
            "24/24 [==============================] - 0s 14ms/step - loss: 0.0213\n",
            "Epoch 7/100\n",
            "24/24 [==============================] - 0s 14ms/step - loss: 0.0189\n",
            "Epoch 8/100\n",
            "24/24 [==============================] - 0s 14ms/step - loss: 0.0181\n",
            "Epoch 9/100\n",
            "24/24 [==============================] - 0s 14ms/step - loss: 0.0162\n",
            "Epoch 10/100\n",
            "24/24 [==============================] - 0s 13ms/step - loss: 0.0179\n",
            "Epoch 11/100\n",
            "24/24 [==============================] - 0s 13ms/step - loss: 0.0159\n",
            "Epoch 12/100\n",
            "24/24 [==============================] - 0s 14ms/step - loss: 0.0145\n",
            "Epoch 13/100\n",
            "24/24 [==============================] - 0s 14ms/step - loss: 0.0162\n",
            "Epoch 14/100\n",
            "24/24 [==============================] - 0s 13ms/step - loss: 0.0135\n",
            "Epoch 15/100\n",
            "24/24 [==============================] - 0s 14ms/step - loss: 0.0144\n",
            "Epoch 16/100\n",
            "24/24 [==============================] - 0s 14ms/step - loss: 0.0131\n",
            "Epoch 17/100\n",
            "24/24 [==============================] - 0s 13ms/step - loss: 0.0145\n",
            "Epoch 18/100\n",
            "24/24 [==============================] - 0s 14ms/step - loss: 0.0121\n",
            "Epoch 19/100\n",
            "24/24 [==============================] - 0s 14ms/step - loss: 0.0135\n",
            "Epoch 20/100\n",
            "24/24 [==============================] - 0s 14ms/step - loss: 0.0123\n",
            "Epoch 21/100\n",
            "24/24 [==============================] - 0s 14ms/step - loss: 0.0134\n",
            "Epoch 22/100\n",
            "24/24 [==============================] - 0s 13ms/step - loss: 0.0121\n",
            "Epoch 23/100\n",
            "24/24 [==============================] - 0s 13ms/step - loss: 0.0111\n",
            "Epoch 24/100\n",
            "24/24 [==============================] - 0s 14ms/step - loss: 0.0103\n",
            "Epoch 25/100\n",
            "24/24 [==============================] - 0s 14ms/step - loss: 0.0119\n",
            "Epoch 26/100\n",
            "24/24 [==============================] - 0s 14ms/step - loss: 0.0113\n",
            "Epoch 27/100\n",
            "24/24 [==============================] - 0s 13ms/step - loss: 0.0103\n",
            "Epoch 28/100\n",
            "24/24 [==============================] - 0s 14ms/step - loss: 0.0105\n",
            "Epoch 29/100\n",
            "24/24 [==============================] - 0s 14ms/step - loss: 0.0104\n",
            "Epoch 30/100\n",
            "24/24 [==============================] - 0s 15ms/step - loss: 0.0098\n",
            "Epoch 31/100\n",
            "24/24 [==============================] - 0s 15ms/step - loss: 0.0098\n",
            "Epoch 32/100\n",
            "24/24 [==============================] - 0s 15ms/step - loss: 0.0103\n",
            "Epoch 33/100\n",
            "24/24 [==============================] - 0s 14ms/step - loss: 0.0103\n",
            "Epoch 34/100\n",
            "24/24 [==============================] - 0s 15ms/step - loss: 0.0100\n",
            "Epoch 35/100\n",
            "24/24 [==============================] - 0s 15ms/step - loss: 0.0119\n",
            "Epoch 36/100\n",
            "24/24 [==============================] - 0s 14ms/step - loss: 0.0106\n",
            "Epoch 37/100\n",
            "24/24 [==============================] - 0s 15ms/step - loss: 0.0104\n",
            "Epoch 38/100\n",
            "24/24 [==============================] - 0s 15ms/step - loss: 0.0094\n",
            "Epoch 39/100\n",
            "24/24 [==============================] - 0s 14ms/step - loss: 0.0089\n",
            "Epoch 40/100\n",
            "24/24 [==============================] - 0s 14ms/step - loss: 0.0093\n",
            "Epoch 41/100\n",
            "24/24 [==============================] - 0s 15ms/step - loss: 0.0091\n",
            "Epoch 42/100\n",
            "24/24 [==============================] - 0s 14ms/step - loss: 0.0079\n",
            "Epoch 43/100\n",
            "24/24 [==============================] - 0s 15ms/step - loss: 0.0090\n",
            "Epoch 44/100\n",
            "24/24 [==============================] - 0s 15ms/step - loss: 0.0089\n",
            "Epoch 45/100\n",
            "24/24 [==============================] - 0s 14ms/step - loss: 0.0079\n",
            "Epoch 46/100\n",
            "24/24 [==============================] - 0s 15ms/step - loss: 0.0081\n",
            "Epoch 47/100\n",
            "24/24 [==============================] - 0s 15ms/step - loss: 0.0080\n",
            "Epoch 48/100\n",
            "24/24 [==============================] - 0s 14ms/step - loss: 0.0082\n",
            "Epoch 49/100\n",
            "24/24 [==============================] - 0s 15ms/step - loss: 0.0085\n",
            "Epoch 50/100\n",
            "24/24 [==============================] - 0s 15ms/step - loss: 0.0082\n",
            "Epoch 51/100\n",
            "24/24 [==============================] - 0s 15ms/step - loss: 0.0073\n",
            "Epoch 52/100\n",
            "24/24 [==============================] - 0s 15ms/step - loss: 0.0071\n",
            "Epoch 53/100\n",
            "24/24 [==============================] - 0s 15ms/step - loss: 0.0073\n",
            "Epoch 54/100\n",
            "24/24 [==============================] - 0s 14ms/step - loss: 0.0077\n",
            "Epoch 55/100\n",
            "24/24 [==============================] - 0s 14ms/step - loss: 0.0077\n",
            "Epoch 56/100\n",
            "24/24 [==============================] - 0s 15ms/step - loss: 0.0087\n",
            "Epoch 57/100\n",
            "24/24 [==============================] - 0s 14ms/step - loss: 0.0070\n",
            "Epoch 58/100\n",
            "24/24 [==============================] - 0s 15ms/step - loss: 0.0070\n",
            "Epoch 59/100\n",
            "24/24 [==============================] - 0s 14ms/step - loss: 0.0078\n",
            "Epoch 60/100\n",
            "24/24 [==============================] - 0s 14ms/step - loss: 0.0064\n",
            "Epoch 61/100\n",
            "24/24 [==============================] - 0s 14ms/step - loss: 0.0068\n",
            "Epoch 62/100\n",
            "24/24 [==============================] - 0s 14ms/step - loss: 0.0064\n",
            "Epoch 63/100\n",
            "24/24 [==============================] - 0s 14ms/step - loss: 0.0062\n",
            "Epoch 64/100\n",
            "24/24 [==============================] - 0s 14ms/step - loss: 0.0055\n",
            "Epoch 65/100\n",
            "24/24 [==============================] - 0s 14ms/step - loss: 0.0060\n",
            "Epoch 66/100\n",
            "24/24 [==============================] - 0s 14ms/step - loss: 0.0080\n",
            "Epoch 67/100\n",
            "24/24 [==============================] - 0s 14ms/step - loss: 0.0071\n",
            "Epoch 68/100\n",
            "24/24 [==============================] - 0s 14ms/step - loss: 0.0062\n",
            "Epoch 69/100\n",
            "24/24 [==============================] - 0s 13ms/step - loss: 0.0058\n",
            "Epoch 70/100\n",
            "24/24 [==============================] - 0s 14ms/step - loss: 0.0062\n",
            "Epoch 71/100\n",
            "24/24 [==============================] - 0s 14ms/step - loss: 0.0061\n",
            "Epoch 72/100\n",
            "24/24 [==============================] - 0s 14ms/step - loss: 0.0058\n",
            "Epoch 73/100\n",
            "24/24 [==============================] - 0s 13ms/step - loss: 0.0056\n",
            "Epoch 74/100\n",
            "24/24 [==============================] - 0s 14ms/step - loss: 0.0060\n",
            "Epoch 75/100\n",
            "24/24 [==============================] - 0s 14ms/step - loss: 0.0055\n",
            "Epoch 76/100\n",
            "24/24 [==============================] - 0s 14ms/step - loss: 0.0056\n",
            "Epoch 77/100\n",
            "24/24 [==============================] - 0s 14ms/step - loss: 0.0056\n",
            "Epoch 78/100\n",
            "24/24 [==============================] - 0s 14ms/step - loss: 0.0056\n",
            "Epoch 79/100\n",
            "24/24 [==============================] - 0s 14ms/step - loss: 0.0050\n",
            "Epoch 80/100\n",
            "24/24 [==============================] - 0s 14ms/step - loss: 0.0053\n",
            "Epoch 81/100\n",
            "24/24 [==============================] - 0s 13ms/step - loss: 0.0054\n",
            "Epoch 82/100\n",
            "24/24 [==============================] - 0s 14ms/step - loss: 0.0060\n",
            "Epoch 83/100\n",
            "24/24 [==============================] - 0s 15ms/step - loss: 0.0049\n",
            "Epoch 84/100\n",
            "24/24 [==============================] - 0s 14ms/step - loss: 0.0050\n",
            "Epoch 85/100\n",
            "24/24 [==============================] - 0s 14ms/step - loss: 0.0052\n",
            "Epoch 86/100\n",
            "24/24 [==============================] - 0s 14ms/step - loss: 0.0051\n",
            "Epoch 87/100\n",
            "24/24 [==============================] - 0s 14ms/step - loss: 0.0047\n",
            "Epoch 88/100\n",
            "24/24 [==============================] - 0s 14ms/step - loss: 0.0047\n",
            "Epoch 89/100\n",
            "24/24 [==============================] - 0s 14ms/step - loss: 0.0042\n",
            "Epoch 90/100\n",
            "24/24 [==============================] - 0s 14ms/step - loss: 0.0048\n",
            "Epoch 91/100\n",
            "24/24 [==============================] - 0s 14ms/step - loss: 0.0051\n",
            "Epoch 92/100\n",
            "24/24 [==============================] - 0s 14ms/step - loss: 0.0051\n",
            "Epoch 93/100\n",
            "24/24 [==============================] - 0s 14ms/step - loss: 0.0049\n",
            "Epoch 94/100\n",
            "24/24 [==============================] - 0s 14ms/step - loss: 0.0046\n",
            "Epoch 95/100\n",
            "24/24 [==============================] - 0s 14ms/step - loss: 0.0046\n",
            "Epoch 96/100\n",
            "24/24 [==============================] - 0s 14ms/step - loss: 0.0048\n",
            "Epoch 97/100\n",
            "24/24 [==============================] - 0s 14ms/step - loss: 0.0044\n",
            "Epoch 98/100\n",
            "24/24 [==============================] - 0s 14ms/step - loss: 0.0043\n",
            "Epoch 99/100\n",
            "24/24 [==============================] - 0s 14ms/step - loss: 0.0047\n",
            "Epoch 100/100\n",
            "24/24 [==============================] - 0s 14ms/step - loss: 0.0042\n"
          ],
          "name": "stdout"
        },
        {
          "output_type": "execute_result",
          "data": {
            "text/plain": [
              "<tensorflow.python.keras.callbacks.History at 0x7ff395943f28>"
            ]
          },
          "metadata": {
            "tags": []
          },
          "execution_count": 100
        }
      ]
    },
    {
      "cell_type": "code",
      "metadata": {
        "id": "DIY_DUzSYDgU",
        "outputId": "66693744-983a-4bc4-b7f5-c00fb39f7e40",
        "colab": {
          "base_uri": "https://localhost:8080/",
          "height": 52
        }
      },
      "source": [
        "# Getting the predicted stock price\n",
        "dataset_train = df.iloc[:800, 1:2]\n",
        "dataset_test = df.iloc[800:, 1:2]\n",
        "print(dataset_test.shape)\n",
        "dataset_total = pd.concat((dataset_train, dataset_test), axis = 0)\n",
        "inputs = dataset_total[len(dataset_total) - len(dataset_test) - 60:].values\n",
        "inputs = inputs.reshape(-1,1)\n",
        "inputs = sc.transform(inputs)\n",
        "X_test = []\n",
        "for i in range(60, 588):\n",
        "    X_test.append(inputs[i-60:i, 0])\n",
        "X_test = np.array(X_test)\n",
        "X_test = np.reshape(X_test, (X_test.shape[0], X_test.shape[1], 1))\n",
        "print(X_test.shape)"
      ],
      "execution_count": 101,
      "outputs": [
        {
          "output_type": "stream",
          "text": [
            "(528, 1)\n",
            "(528, 60, 1)\n"
          ],
          "name": "stdout"
        }
      ]
    },
    {
      "cell_type": "markdown",
      "metadata": {
        "id": "eGUxArBCYDgY"
      },
      "source": [
        "Make predictions using the test set"
      ]
    },
    {
      "cell_type": "code",
      "metadata": {
        "id": "aaqgtuXxYDgZ"
      },
      "source": [
        "predicted_stock_price = model.predict(X_test)\n",
        "predicted_stock_price = sc.inverse_transform(predicted_stock_price)"
      ],
      "execution_count": 102,
      "outputs": []
    },
    {
      "cell_type": "markdown",
      "metadata": {
        "id": "bMNlxXMpYDgc"
      },
      "source": [
        "Visualize the results"
      ]
    },
    {
      "cell_type": "code",
      "metadata": {
        "id": "1fiXTTx6YDgc",
        "outputId": "0a9c107a-00e8-4ba5-de84-643c615f6e78",
        "colab": {
          "base_uri": "https://localhost:8080/",
          "height": 513
        }
      },
      "source": [
        "# Visualising the results\n",
        "fig = plt.figure(figsize=(12,8))\n",
        "plt.plot(df.loc[800:, 'Date'],dataset_test.values, color = 'red', label = 'Real TESLA Stock Price')\n",
        "plt.plot(df.loc[800:, 'Date'],predicted_stock_price, color = 'blue', label = 'Predicted TESLA Stock Price')\n",
        "plt.xticks(np.arange(0,528,50))\n",
        "plt.title('TESLA Stock Price Prediction')\n",
        "plt.xlabel('Time')\n",
        "plt.ylabel('TESLA Stock Price')\n",
        "plt.legend()\n",
        "plt.show()"
      ],
      "execution_count": 103,
      "outputs": [
        {
          "output_type": "display_data",
          "data": {
            "image/png": "[encoded data removed]",
            "text/plain": [
              "<Figure size 864x576 with 1 Axes>"
            ]
          },
          "metadata": {
            "tags": [],
            "needs_background": "light"
          }
        }
      ]
    },
    {
      "cell_type": "markdown",
      "metadata": {
        "id": "P6EnwuZ9Y0Zu"
      },
      "source": [
        "## Lag: 7, Hidden Layers: 4, Dropout Rate: 0.5"
      ]
    },
    {
      "cell_type": "markdown",
      "metadata": {
        "id": "20EflEOOY0Zw"
      },
      "source": [
        "7 day"
      ]
    },
    {
      "cell_type": "code",
      "metadata": {
        "id": "8JbV5XkuY0Zx",
        "outputId": "339116f3-b8b1-4459-9246-8b8a63db1d12",
        "colab": {
          "base_uri": "https://localhost:8080/",
          "height": 35
        }
      },
      "source": [
        "# Feature Scaling\n",
        "sc = MinMaxScaler(feature_range = (0, 1))\n",
        "training_set_scaled = sc.fit_transform(training_set)\n",
        "# Creating a data structure with 60 time-steps and 1 output\n",
        "X_train = []\n",
        "y_train = []\n",
        "for i in range(60, 800,7):\n",
        "    X_train.append(training_set_scaled[i-60:i, 0])\n",
        "    y_train.append(training_set_scaled[i, 0])\n",
        "X_train, y_train = np.array(X_train), np.array(y_train)\n",
        "X_train = np.reshape(X_train, (X_train.shape[0], X_train.shape[1], 1))\n",
        "X_train.shape"
      ],
      "execution_count": 105,
      "outputs": [
        {
          "output_type": "execute_result",
          "data": {
            "text/plain": [
              "(106, 60, 1)"
            ]
          },
          "metadata": {
            "tags": []
          },
          "execution_count": 105
        }
      ]
    },
    {
      "cell_type": "markdown",
      "metadata": {
        "id": "NJdPp47nY0Z2"
      },
      "source": [
        "Build LSTM mode, with 50 neurons and 4 layers, droupout rate = 0.5"
      ]
    },
    {
      "cell_type": "code",
      "metadata": {
        "id": "arUqyiOUY0Z3",
        "outputId": "2f7cc16d-04fd-4d6c-88e6-644eb260a3cf",
        "colab": {
          "base_uri": "https://localhost:8080/",
          "height": 1000
        }
      },
      "source": [
        "model = Sequential()\n",
        "#Adding the first LSTM layer and some Dropout regularisation\n",
        "model.add(LSTM(units = 50, return_sequences = True, input_shape = (X_train.shape[1], 1)))\n",
        "model.add(Dropout(0.5))\n",
        "# Adding a second LSTM layer and some Dropout regularisation\n",
        "model.add(LSTM(units = 50, return_sequences = True))\n",
        "model.add(Dropout(0.5))\n",
        "# Adding a third LSTM layer and some Dropout regularisation\n",
        "model.add(LSTM(units = 50, return_sequences = True))\n",
        "model.add(Dropout(0.5))\n",
        "# Adding a fourth LSTM layer and some Dropout regularisation\n",
        "model.add(LSTM(units = 50))\n",
        "model.add(Dropout(0.5))\n",
        "# Adding the output layer\n",
        "model.add(Dense(units = 1))\n",
        "\n",
        "# Compiling the RNN\n",
        "model.compile(optimizer = 'adam', loss = 'mean_squared_error')\n",
        "\n",
        "# Fitting the RNN to the Training set\n",
        "model.fit(X_train, y_train, epochs = 100, batch_size = 32)"
      ],
      "execution_count": 106,
      "outputs": [
        {
          "output_type": "stream",
          "text": [
            "Epoch 1/100\n",
            "4/4 [==============================] - 0s 15ms/step - loss: 0.2464\n",
            "Epoch 2/100\n",
            "4/4 [==============================] - 0s 14ms/step - loss: 0.0723\n",
            "Epoch 3/100\n",
            "4/4 [==============================] - 0s 14ms/step - loss: 0.0263\n",
            "Epoch 4/100\n",
            "4/4 [==============================] - 0s 14ms/step - loss: 0.0591\n",
            "Epoch 5/100\n",
            "4/4 [==============================] - 0s 12ms/step - loss: 0.0401\n",
            "Epoch 6/100\n",
            "4/4 [==============================] - 0s 11ms/step - loss: 0.0328\n",
            "Epoch 7/100\n",
            "4/4 [==============================] - 0s 13ms/step - loss: 0.0323\n",
            "Epoch 8/100\n",
            "4/4 [==============================] - 0s 11ms/step - loss: 0.0299\n",
            "Epoch 9/100\n",
            "4/4 [==============================] - 0s 11ms/step - loss: 0.0310\n",
            "Epoch 10/100\n",
            "4/4 [==============================] - 0s 11ms/step - loss: 0.0256\n",
            "Epoch 11/100\n",
            "4/4 [==============================] - 0s 11ms/step - loss: 0.0295\n",
            "Epoch 12/100\n",
            "4/4 [==============================] - 0s 11ms/step - loss: 0.0228\n",
            "Epoch 13/100\n",
            "4/4 [==============================] - 0s 11ms/step - loss: 0.0223\n",
            "Epoch 14/100\n",
            "4/4 [==============================] - 0s 11ms/step - loss: 0.0208\n",
            "Epoch 15/100\n",
            "4/4 [==============================] - 0s 11ms/step - loss: 0.0235\n",
            "Epoch 16/100\n",
            "4/4 [==============================] - 0s 12ms/step - loss: 0.0223\n",
            "Epoch 17/100\n",
            "4/4 [==============================] - 0s 11ms/step - loss: 0.0224\n",
            "Epoch 18/100\n",
            "4/4 [==============================] - 0s 11ms/step - loss: 0.0180\n",
            "Epoch 19/100\n",
            "4/4 [==============================] - 0s 11ms/step - loss: 0.0163\n",
            "Epoch 20/100\n",
            "4/4 [==============================] - 0s 12ms/step - loss: 0.0236\n",
            "Epoch 21/100\n",
            "4/4 [==============================] - 0s 11ms/step - loss: 0.0237\n",
            "Epoch 22/100\n",
            "4/4 [==============================] - 0s 11ms/step - loss: 0.0176\n",
            "Epoch 23/100\n",
            "4/4 [==============================] - 0s 11ms/step - loss: 0.0257\n",
            "Epoch 24/100\n",
            "4/4 [==============================] - 0s 11ms/step - loss: 0.0216\n",
            "Epoch 25/100\n",
            "4/4 [==============================] - 0s 11ms/step - loss: 0.0224\n",
            "Epoch 26/100\n",
            "4/4 [==============================] - 0s 12ms/step - loss: 0.0214\n",
            "Epoch 27/100\n",
            "4/4 [==============================] - 0s 11ms/step - loss: 0.0216\n",
            "Epoch 28/100\n",
            "4/4 [==============================] - 0s 12ms/step - loss: 0.0177\n",
            "Epoch 29/100\n",
            "4/4 [==============================] - 0s 11ms/step - loss: 0.0164\n",
            "Epoch 30/100\n",
            "4/4 [==============================] - 0s 11ms/step - loss: 0.0178\n",
            "Epoch 31/100\n",
            "4/4 [==============================] - 0s 11ms/step - loss: 0.0200\n",
            "Epoch 32/100\n",
            "4/4 [==============================] - 0s 11ms/step - loss: 0.0221\n",
            "Epoch 33/100\n",
            "4/4 [==============================] - 0s 11ms/step - loss: 0.0221\n",
            "Epoch 34/100\n",
            "4/4 [==============================] - 0s 11ms/step - loss: 0.0176\n",
            "Epoch 35/100\n",
            "4/4 [==============================] - 0s 11ms/step - loss: 0.0198\n",
            "Epoch 36/100\n",
            "4/4 [==============================] - 0s 10ms/step - loss: 0.0182\n",
            "Epoch 37/100\n",
            "4/4 [==============================] - 0s 11ms/step - loss: 0.0173\n",
            "Epoch 38/100\n",
            "4/4 [==============================] - 0s 11ms/step - loss: 0.0195\n",
            "Epoch 39/100\n",
            "4/4 [==============================] - 0s 11ms/step - loss: 0.0166\n",
            "Epoch 40/100\n",
            "4/4 [==============================] - 0s 11ms/step - loss: 0.0207\n",
            "Epoch 41/100\n",
            "4/4 [==============================] - 0s 11ms/step - loss: 0.0173\n",
            "Epoch 42/100\n",
            "4/4 [==============================] - 0s 11ms/step - loss: 0.0149\n",
            "Epoch 43/100\n",
            "4/4 [==============================] - 0s 12ms/step - loss: 0.0207\n",
            "Epoch 44/100\n",
            "4/4 [==============================] - 0s 11ms/step - loss: 0.0185\n",
            "Epoch 45/100\n",
            "4/4 [==============================] - 0s 12ms/step - loss: 0.0198\n",
            "Epoch 46/100\n",
            "4/4 [==============================] - 0s 11ms/step - loss: 0.0204\n",
            "Epoch 47/100\n",
            "4/4 [==============================] - 0s 11ms/step - loss: 0.0173\n",
            "Epoch 48/100\n",
            "4/4 [==============================] - 0s 11ms/step - loss: 0.0179\n",
            "Epoch 49/100\n",
            "4/4 [==============================] - 0s 11ms/step - loss: 0.0168\n",
            "Epoch 50/100\n",
            "4/4 [==============================] - 0s 12ms/step - loss: 0.0163\n",
            "Epoch 51/100\n",
            "4/4 [==============================] - 0s 11ms/step - loss: 0.0149\n",
            "Epoch 52/100\n",
            "4/4 [==============================] - 0s 11ms/step - loss: 0.0138\n",
            "Epoch 53/100\n",
            "4/4 [==============================] - 0s 11ms/step - loss: 0.0148\n",
            "Epoch 54/100\n",
            "4/4 [==============================] - 0s 11ms/step - loss: 0.0189\n",
            "Epoch 55/100\n",
            "4/4 [==============================] - 0s 11ms/step - loss: 0.0177\n",
            "Epoch 56/100\n",
            "4/4 [==============================] - 0s 11ms/step - loss: 0.0165\n",
            "Epoch 57/100\n",
            "4/4 [==============================] - 0s 12ms/step - loss: 0.0142\n",
            "Epoch 58/100\n",
            "4/4 [==============================] - 0s 12ms/step - loss: 0.0152\n",
            "Epoch 59/100\n",
            "4/4 [==============================] - 0s 11ms/step - loss: 0.0130\n",
            "Epoch 60/100\n",
            "4/4 [==============================] - 0s 11ms/step - loss: 0.0125\n",
            "Epoch 61/100\n",
            "4/4 [==============================] - 0s 10ms/step - loss: 0.0167\n",
            "Epoch 62/100\n",
            "4/4 [==============================] - 0s 11ms/step - loss: 0.0150\n",
            "Epoch 63/100\n",
            "4/4 [==============================] - 0s 11ms/step - loss: 0.0199\n",
            "Epoch 64/100\n",
            "4/4 [==============================] - 0s 11ms/step - loss: 0.0150\n",
            "Epoch 65/100\n",
            "4/4 [==============================] - 0s 11ms/step - loss: 0.0218\n",
            "Epoch 66/100\n",
            "4/4 [==============================] - 0s 12ms/step - loss: 0.0148\n",
            "Epoch 67/100\n",
            "4/4 [==============================] - 0s 11ms/step - loss: 0.0125\n",
            "Epoch 68/100\n",
            "4/4 [==============================] - 0s 13ms/step - loss: 0.0158\n",
            "Epoch 69/100\n",
            "4/4 [==============================] - 0s 11ms/step - loss: 0.0120\n",
            "Epoch 70/100\n",
            "4/4 [==============================] - 0s 12ms/step - loss: 0.0129\n",
            "Epoch 71/100\n",
            "4/4 [==============================] - 0s 11ms/step - loss: 0.0197\n",
            "Epoch 72/100\n",
            "4/4 [==============================] - 0s 11ms/step - loss: 0.0171\n",
            "Epoch 73/100\n",
            "4/4 [==============================] - 0s 10ms/step - loss: 0.0177\n",
            "Epoch 74/100\n",
            "4/4 [==============================] - 0s 11ms/step - loss: 0.0171\n",
            "Epoch 75/100\n",
            "4/4 [==============================] - 0s 10ms/step - loss: 0.0197\n",
            "Epoch 76/100\n",
            "4/4 [==============================] - 0s 11ms/step - loss: 0.0133\n",
            "Epoch 77/100\n",
            "4/4 [==============================] - 0s 11ms/step - loss: 0.0130\n",
            "Epoch 78/100\n",
            "4/4 [==============================] - 0s 11ms/step - loss: 0.0175\n",
            "Epoch 79/100\n",
            "4/4 [==============================] - 0s 11ms/step - loss: 0.0153\n",
            "Epoch 80/100\n",
            "4/4 [==============================] - 0s 11ms/step - loss: 0.0123\n",
            "Epoch 81/100\n",
            "4/4 [==============================] - 0s 11ms/step - loss: 0.0158\n",
            "Epoch 82/100\n",
            "4/4 [==============================] - 0s 13ms/step - loss: 0.0116\n",
            "Epoch 83/100\n",
            "4/4 [==============================] - 0s 10ms/step - loss: 0.0151\n",
            "Epoch 84/100\n",
            "4/4 [==============================] - 0s 14ms/step - loss: 0.0140\n",
            "Epoch 85/100\n",
            "4/4 [==============================] - 0s 11ms/step - loss: 0.0178\n",
            "Epoch 86/100\n",
            "4/4 [==============================] - 0s 11ms/step - loss: 0.0157\n",
            "Epoch 87/100\n",
            "4/4 [==============================] - 0s 11ms/step - loss: 0.0155\n",
            "Epoch 88/100\n",
            "4/4 [==============================] - 0s 11ms/step - loss: 0.0177\n",
            "Epoch 89/100\n",
            "4/4 [==============================] - 0s 11ms/step - loss: 0.0148\n",
            "Epoch 90/100\n",
            "4/4 [==============================] - 0s 11ms/step - loss: 0.0164\n",
            "Epoch 91/100\n",
            "4/4 [==============================] - 0s 10ms/step - loss: 0.0137\n",
            "Epoch 92/100\n",
            "4/4 [==============================] - 0s 11ms/step - loss: 0.0131\n",
            "Epoch 93/100\n",
            "4/4 [==============================] - 0s 11ms/step - loss: 0.0148\n",
            "Epoch 94/100\n",
            "4/4 [==============================] - 0s 11ms/step - loss: 0.0139\n",
            "Epoch 95/100\n",
            "4/4 [==============================] - 0s 10ms/step - loss: 0.0146\n",
            "Epoch 96/100\n",
            "4/4 [==============================] - 0s 12ms/step - loss: 0.0118\n",
            "Epoch 97/100\n",
            "4/4 [==============================] - 0s 11ms/step - loss: 0.0144\n",
            "Epoch 98/100\n",
            "4/4 [==============================] - 0s 10ms/step - loss: 0.0111\n",
            "Epoch 99/100\n",
            "4/4 [==============================] - 0s 11ms/step - loss: 0.0135\n",
            "Epoch 100/100\n",
            "4/4 [==============================] - 0s 12ms/step - loss: 0.0134\n"
          ],
          "name": "stdout"
        },
        {
          "output_type": "execute_result",
          "data": {
            "text/plain": [
              "<tensorflow.python.keras.callbacks.History at 0x7ff3935cb7f0>"
            ]
          },
          "metadata": {
            "tags": []
          },
          "execution_count": 106
        }
      ]
    },
    {
      "cell_type": "code",
      "metadata": {
        "id": "V8syt6IOY0Z6",
        "outputId": "a9887feb-9c50-4fc3-fd57-5be0563179e7",
        "colab": {
          "base_uri": "https://localhost:8080/",
          "height": 52
        }
      },
      "source": [
        "# Getting the predicted stock price\n",
        "dataset_train = df.iloc[:800, 1:2]\n",
        "dataset_test = df.iloc[800:, 1:2]\n",
        "print(dataset_test.shape)\n",
        "dataset_total = pd.concat((dataset_train, dataset_test), axis = 0)\n",
        "inputs = dataset_total[len(dataset_total) - len(dataset_test) - 60:].values\n",
        "inputs = inputs.reshape(-1,1)\n",
        "inputs = sc.transform(inputs)\n",
        "X_test = []\n",
        "for i in range(60, 588):\n",
        "    X_test.append(inputs[i-60:i, 0])\n",
        "X_test = np.array(X_test)\n",
        "X_test = np.reshape(X_test, (X_test.shape[0], X_test.shape[1], 1))\n",
        "print(X_test.shape)"
      ],
      "execution_count": 107,
      "outputs": [
        {
          "output_type": "stream",
          "text": [
            "(528, 1)\n",
            "(528, 60, 1)\n"
          ],
          "name": "stdout"
        }
      ]
    },
    {
      "cell_type": "markdown",
      "metadata": {
        "id": "iZRZdTnzY0Z9"
      },
      "source": [
        "Make predictions using the test set"
      ]
    },
    {
      "cell_type": "code",
      "metadata": {
        "id": "onKnRRQBY0Z-"
      },
      "source": [
        "predicted_stock_price = model.predict(X_test)\n",
        "predicted_stock_price = sc.inverse_transform(predicted_stock_price)"
      ],
      "execution_count": 108,
      "outputs": []
    },
    {
      "cell_type": "markdown",
      "metadata": {
        "id": "EfV4cnuFY0aG"
      },
      "source": [
        "Visualize the results"
      ]
    },
    {
      "cell_type": "code",
      "metadata": {
        "id": "A9tbXCiJY0aH",
        "outputId": "b34b647c-363b-432f-ece6-e0df2ccaea5b",
        "colab": {
          "base_uri": "https://localhost:8080/",
          "height": 513
        }
      },
      "source": [
        "# Visualising the results\n",
        "fig = plt.figure(figsize=(12,8))\n",
        "plt.plot(df.loc[800:, 'Date'],dataset_test.values, color = 'red', label = 'Real TESLA Stock Price')\n",
        "plt.plot(df.loc[800:, 'Date'],predicted_stock_price, color = 'blue', label = 'Predicted TESLA Stock Price')\n",
        "plt.xticks(np.arange(0,528,50))\n",
        "plt.title('TESLA Stock Price Prediction')\n",
        "plt.xlabel('Time')\n",
        "plt.ylabel('TESLA Stock Price')\n",
        "plt.legend()\n",
        "plt.show()"
      ],
      "execution_count": 109,
      "outputs": [
        {
          "output_type": "display_data",
          "data": {
            "image/png": "[encoded data removed]",
            "text/plain": [
              "<Figure size 864x576 with 1 Axes>"
            ]
          },
          "metadata": {
            "tags": [],
            "needs_background": "light"
          }
        }
      ]
    },
    {
      "cell_type": "markdown",
      "metadata": {
        "id": "maUtL5KyZrEi"
      },
      "source": [
        "## Lag: 14, Hidden Layers: 4, Dropout Rate: 0.5"
      ]
    },
    {
      "cell_type": "markdown",
      "metadata": {
        "id": "43lnlOFHZrEl"
      },
      "source": [
        "14 day"
      ]
    },
    {
      "cell_type": "code",
      "metadata": {
        "id": "CkBneDW_ZrEn",
        "outputId": "f3ff78a3-a449-4586-fa00-70664c93c10d",
        "colab": {
          "base_uri": "https://localhost:8080/",
          "height": 35
        }
      },
      "source": [
        "# Feature Scaling\n",
        "sc = MinMaxScaler(feature_range = (0, 1))\n",
        "training_set_scaled = sc.fit_transform(training_set)\n",
        "# Creating a data structure with 60 time-steps and 1 output\n",
        "X_train = []\n",
        "y_train = []\n",
        "for i in range(60, 800, 14):\n",
        "    X_train.append(training_set_scaled[i-60:i, 0])\n",
        "    y_train.append(training_set_scaled[i, 0])\n",
        "X_train, y_train = np.array(X_train), np.array(y_train)\n",
        "X_train = np.reshape(X_train, (X_train.shape[0], X_train.shape[1], 1))\n",
        "X_train.shape"
      ],
      "execution_count": 111,
      "outputs": [
        {
          "output_type": "execute_result",
          "data": {
            "text/plain": [
              "(53, 60, 1)"
            ]
          },
          "metadata": {
            "tags": []
          },
          "execution_count": 111
        }
      ]
    },
    {
      "cell_type": "markdown",
      "metadata": {
        "id": "EOkaIZWEZrEv"
      },
      "source": [
        "Build LSTM mode, with 50 neurons and 4 layers, droupout rate = 0.5"
      ]
    },
    {
      "cell_type": "code",
      "metadata": {
        "id": "hEer9yTQZrEw",
        "outputId": "1ddee692-08d6-4dd7-d737-293715dd308c",
        "colab": {
          "base_uri": "https://localhost:8080/",
          "height": 1000
        }
      },
      "source": [
        "model = Sequential()\n",
        "#Adding the first LSTM layer and some Dropout regularisation\n",
        "model.add(LSTM(units = 50, return_sequences = True, input_shape = (X_train.shape[1], 1)))\n",
        "model.add(Dropout(0.5))\n",
        "# Adding a second LSTM layer and some Dropout regularisation\n",
        "model.add(LSTM(units = 50, return_sequences = True))\n",
        "model.add(Dropout(0.5))\n",
        "# Adding a third LSTM layer and some Dropout regularisation\n",
        "model.add(LSTM(units = 50, return_sequences = True))\n",
        "model.add(Dropout(0.5))\n",
        "# Adding a fourth LSTM layer and some Dropout regularisation\n",
        "model.add(LSTM(units = 50))\n",
        "model.add(Dropout(0.5))\n",
        "# Adding the output layer\n",
        "model.add(Dense(units = 1))\n",
        "\n",
        "# Compiling the RNN\n",
        "model.compile(optimizer = 'adam', loss = 'mean_squared_error')\n",
        "\n",
        "# Fitting the RNN to the Training set\n",
        "model.fit(X_train, y_train, epochs = 100, batch_size = 32)"
      ],
      "execution_count": 112,
      "outputs": [
        {
          "output_type": "stream",
          "text": [
            "Epoch 1/100\n",
            "2/2 [==============================] - 0s 11ms/step - loss: 0.3063\n",
            "Epoch 2/100\n",
            "2/2 [==============================] - 0s 11ms/step - loss: 0.2073\n",
            "Epoch 3/100\n",
            "2/2 [==============================] - 0s 12ms/step - loss: 0.0981\n",
            "Epoch 4/100\n",
            "2/2 [==============================] - 0s 12ms/step - loss: 0.0428\n",
            "Epoch 5/100\n",
            "2/2 [==============================] - 0s 11ms/step - loss: 0.0940\n",
            "Epoch 6/100\n",
            "2/2 [==============================] - 0s 9ms/step - loss: 0.0378\n",
            "Epoch 7/100\n",
            "2/2 [==============================] - 0s 9ms/step - loss: 0.0394\n",
            "Epoch 8/100\n",
            "2/2 [==============================] - 0s 9ms/step - loss: 0.0776\n",
            "Epoch 9/100\n",
            "2/2 [==============================] - 0s 8ms/step - loss: 0.0386\n",
            "Epoch 10/100\n",
            "2/2 [==============================] - 0s 9ms/step - loss: 0.0386\n",
            "Epoch 11/100\n",
            "2/2 [==============================] - 0s 9ms/step - loss: 0.0463\n",
            "Epoch 12/100\n",
            "2/2 [==============================] - 0s 8ms/step - loss: 0.0305\n",
            "Epoch 13/100\n",
            "2/2 [==============================] - 0s 8ms/step - loss: 0.0400\n",
            "Epoch 14/100\n",
            "2/2 [==============================] - 0s 8ms/step - loss: 0.0173\n",
            "Epoch 15/100\n",
            "2/2 [==============================] - 0s 8ms/step - loss: 0.0281\n",
            "Epoch 16/100\n",
            "2/2 [==============================] - 0s 8ms/step - loss: 0.0256\n",
            "Epoch 17/100\n",
            "2/2 [==============================] - 0s 8ms/step - loss: 0.0327\n",
            "Epoch 18/100\n",
            "2/2 [==============================] - 0s 9ms/step - loss: 0.0288\n",
            "Epoch 19/100\n",
            "2/2 [==============================] - 0s 9ms/step - loss: 0.0307\n",
            "Epoch 20/100\n",
            "2/2 [==============================] - 0s 8ms/step - loss: 0.0250\n",
            "Epoch 21/100\n",
            "2/2 [==============================] - 0s 8ms/step - loss: 0.0262\n",
            "Epoch 22/100\n",
            "2/2 [==============================] - 0s 9ms/step - loss: 0.0199\n",
            "Epoch 23/100\n",
            "2/2 [==============================] - 0s 8ms/step - loss: 0.0266\n",
            "Epoch 24/100\n",
            "2/2 [==============================] - 0s 8ms/step - loss: 0.0299\n",
            "Epoch 25/100\n",
            "2/2 [==============================] - 0s 8ms/step - loss: 0.0250\n",
            "Epoch 26/100\n",
            "2/2 [==============================] - 0s 10ms/step - loss: 0.0228\n",
            "Epoch 27/100\n",
            "2/2 [==============================] - 0s 9ms/step - loss: 0.0244\n",
            "Epoch 28/100\n",
            "2/2 [==============================] - 0s 9ms/step - loss: 0.0204\n",
            "Epoch 29/100\n",
            "2/2 [==============================] - 0s 8ms/step - loss: 0.0195\n",
            "Epoch 30/100\n",
            "2/2 [==============================] - 0s 8ms/step - loss: 0.0194\n",
            "Epoch 31/100\n",
            "2/2 [==============================] - 0s 9ms/step - loss: 0.0183\n",
            "Epoch 32/100\n",
            "2/2 [==============================] - 0s 9ms/step - loss: 0.0287\n",
            "Epoch 33/100\n",
            "2/2 [==============================] - 0s 9ms/step - loss: 0.0207\n",
            "Epoch 34/100\n",
            "2/2 [==============================] - 0s 9ms/step - loss: 0.0164\n",
            "Epoch 35/100\n",
            "2/2 [==============================] - 0s 10ms/step - loss: 0.0139\n",
            "Epoch 36/100\n",
            "2/2 [==============================] - 0s 8ms/step - loss: 0.0155\n",
            "Epoch 37/100\n",
            "2/2 [==============================] - 0s 10ms/step - loss: 0.0178\n",
            "Epoch 38/100\n",
            "2/2 [==============================] - 0s 9ms/step - loss: 0.0242\n",
            "Epoch 39/100\n",
            "2/2 [==============================] - 0s 8ms/step - loss: 0.0141\n",
            "Epoch 40/100\n",
            "2/2 [==============================] - 0s 9ms/step - loss: 0.0141\n",
            "Epoch 41/100\n",
            "2/2 [==============================] - 0s 8ms/step - loss: 0.0187\n",
            "Epoch 42/100\n",
            "2/2 [==============================] - 0s 8ms/step - loss: 0.0235\n",
            "Epoch 43/100\n",
            "2/2 [==============================] - 0s 9ms/step - loss: 0.0199\n",
            "Epoch 44/100\n",
            "2/2 [==============================] - 0s 8ms/step - loss: 0.0116\n",
            "Epoch 45/100\n",
            "2/2 [==============================] - 0s 10ms/step - loss: 0.0202\n",
            "Epoch 46/100\n",
            "2/2 [==============================] - 0s 9ms/step - loss: 0.0167\n",
            "Epoch 47/100\n",
            "2/2 [==============================] - 0s 8ms/step - loss: 0.0212\n",
            "Epoch 48/100\n",
            "2/2 [==============================] - 0s 8ms/step - loss: 0.0236\n",
            "Epoch 49/100\n",
            "2/2 [==============================] - 0s 8ms/step - loss: 0.0178\n",
            "Epoch 50/100\n",
            "2/2 [==============================] - 0s 9ms/step - loss: 0.0140\n",
            "Epoch 51/100\n",
            "2/2 [==============================] - 0s 8ms/step - loss: 0.0175\n",
            "Epoch 52/100\n",
            "2/2 [==============================] - 0s 8ms/step - loss: 0.0160\n",
            "Epoch 53/100\n",
            "2/2 [==============================] - 0s 8ms/step - loss: 0.0107\n",
            "Epoch 54/100\n",
            "2/2 [==============================] - 0s 8ms/step - loss: 0.0180\n",
            "Epoch 55/100\n",
            "2/2 [==============================] - 0s 8ms/step - loss: 0.0146\n",
            "Epoch 56/100\n",
            "2/2 [==============================] - 0s 8ms/step - loss: 0.0092\n",
            "Epoch 57/100\n",
            "2/2 [==============================] - 0s 9ms/step - loss: 0.0171\n",
            "Epoch 58/100\n",
            "2/2 [==============================] - 0s 10ms/step - loss: 0.0187\n",
            "Epoch 59/100\n",
            "2/2 [==============================] - 0s 9ms/step - loss: 0.0221\n",
            "Epoch 60/100\n",
            "2/2 [==============================] - 0s 8ms/step - loss: 0.0182\n",
            "Epoch 61/100\n",
            "2/2 [==============================] - 0s 9ms/step - loss: 0.0217\n",
            "Epoch 62/100\n",
            "2/2 [==============================] - 0s 8ms/step - loss: 0.0185\n",
            "Epoch 63/100\n",
            "2/2 [==============================] - 0s 10ms/step - loss: 0.0159\n",
            "Epoch 64/100\n",
            "2/2 [==============================] - 0s 9ms/step - loss: 0.0221\n",
            "Epoch 65/100\n",
            "2/2 [==============================] - 0s 9ms/step - loss: 0.0191\n",
            "Epoch 66/100\n",
            "2/2 [==============================] - 0s 9ms/step - loss: 0.0152\n",
            "Epoch 67/100\n",
            "2/2 [==============================] - 0s 9ms/step - loss: 0.0159\n",
            "Epoch 68/100\n",
            "2/2 [==============================] - 0s 10ms/step - loss: 0.0129\n",
            "Epoch 69/100\n",
            "2/2 [==============================] - 0s 8ms/step - loss: 0.0190\n",
            "Epoch 70/100\n",
            "2/2 [==============================] - 0s 9ms/step - loss: 0.0149\n",
            "Epoch 71/100\n",
            "2/2 [==============================] - 0s 8ms/step - loss: 0.0119\n",
            "Epoch 72/100\n",
            "2/2 [==============================] - 0s 10ms/step - loss: 0.0141\n",
            "Epoch 73/100\n",
            "2/2 [==============================] - 0s 8ms/step - loss: 0.0214\n",
            "Epoch 74/100\n",
            "2/2 [==============================] - 0s 8ms/step - loss: 0.0154\n",
            "Epoch 75/100\n",
            "2/2 [==============================] - 0s 9ms/step - loss: 0.0146\n",
            "Epoch 76/100\n",
            "2/2 [==============================] - 0s 10ms/step - loss: 0.0167\n",
            "Epoch 77/100\n",
            "2/2 [==============================] - 0s 8ms/step - loss: 0.0128\n",
            "Epoch 78/100\n",
            "2/2 [==============================] - 0s 8ms/step - loss: 0.0162\n",
            "Epoch 79/100\n",
            "2/2 [==============================] - 0s 8ms/step - loss: 0.0191\n",
            "Epoch 80/100\n",
            "2/2 [==============================] - 0s 9ms/step - loss: 0.0215\n",
            "Epoch 81/100\n",
            "2/2 [==============================] - 0s 9ms/step - loss: 0.0139\n",
            "Epoch 82/100\n",
            "2/2 [==============================] - 0s 8ms/step - loss: 0.0146\n",
            "Epoch 83/100\n",
            "2/2 [==============================] - 0s 8ms/step - loss: 0.0174\n",
            "Epoch 84/100\n",
            "2/2 [==============================] - 0s 8ms/step - loss: 0.0178\n",
            "Epoch 85/100\n",
            "2/2 [==============================] - 0s 9ms/step - loss: 0.0138\n",
            "Epoch 86/100\n",
            "2/2 [==============================] - 0s 9ms/step - loss: 0.0109\n",
            "Epoch 87/100\n",
            "2/2 [==============================] - 0s 8ms/step - loss: 0.0154\n",
            "Epoch 88/100\n",
            "2/2 [==============================] - 0s 9ms/step - loss: 0.0165\n",
            "Epoch 89/100\n",
            "2/2 [==============================] - 0s 9ms/step - loss: 0.0127\n",
            "Epoch 90/100\n",
            "2/2 [==============================] - 0s 8ms/step - loss: 0.0193\n",
            "Epoch 91/100\n",
            "2/2 [==============================] - 0s 9ms/step - loss: 0.0171\n",
            "Epoch 92/100\n",
            "2/2 [==============================] - 0s 10ms/step - loss: 0.0253\n",
            "Epoch 93/100\n",
            "2/2 [==============================] - 0s 9ms/step - loss: 0.0171\n",
            "Epoch 94/100\n",
            "2/2 [==============================] - 0s 9ms/step - loss: 0.0179\n",
            "Epoch 95/100\n",
            "2/2 [==============================] - 0s 9ms/step - loss: 0.0158\n",
            "Epoch 96/100\n",
            "2/2 [==============================] - 0s 9ms/step - loss: 0.0147\n",
            "Epoch 97/100\n",
            "2/2 [==============================] - 0s 8ms/step - loss: 0.0127\n",
            "Epoch 98/100\n",
            "2/2 [==============================] - 0s 9ms/step - loss: 0.0155\n",
            "Epoch 99/100\n",
            "2/2 [==============================] - 0s 9ms/step - loss: 0.0157\n",
            "Epoch 100/100\n",
            "2/2 [==============================] - 0s 9ms/step - loss: 0.0111\n"
          ],
          "name": "stdout"
        },
        {
          "output_type": "execute_result",
          "data": {
            "text/plain": [
              "<tensorflow.python.keras.callbacks.History at 0x7ff39148cc88>"
            ]
          },
          "metadata": {
            "tags": []
          },
          "execution_count": 112
        }
      ]
    },
    {
      "cell_type": "code",
      "metadata": {
        "id": "nQKx-DVoZrE2",
        "outputId": "185c713a-43db-4387-d9ee-f8b70d703146",
        "colab": {
          "base_uri": "https://localhost:8080/",
          "height": 52
        }
      },
      "source": [
        "# Getting the predicted stock price\n",
        "dataset_train = df.iloc[:800, 1:2]\n",
        "dataset_test = df.iloc[800:, 1:2]\n",
        "print(dataset_test.shape)\n",
        "dataset_total = pd.concat((dataset_train, dataset_test), axis = 0)\n",
        "inputs = dataset_total[len(dataset_total) - len(dataset_test) - 60:].values\n",
        "inputs = inputs.reshape(-1,1)\n",
        "inputs = sc.transform(inputs)\n",
        "X_test = []\n",
        "for i in range(60, 588):\n",
        "    X_test.append(inputs[i-60:i, 0])\n",
        "X_test = np.array(X_test)\n",
        "X_test = np.reshape(X_test, (X_test.shape[0], X_test.shape[1], 1))\n",
        "print(X_test.shape)"
      ],
      "execution_count": 113,
      "outputs": [
        {
          "output_type": "stream",
          "text": [
            "(528, 1)\n",
            "(528, 60, 1)\n"
          ],
          "name": "stdout"
        }
      ]
    },
    {
      "cell_type": "markdown",
      "metadata": {
        "id": "SfQWTpoeZrE8"
      },
      "source": [
        "Make predictions using the test set"
      ]
    },
    {
      "cell_type": "code",
      "metadata": {
        "id": "3EHRLKjzZrE9"
      },
      "source": [
        "predicted_stock_price = model.predict(X_test)\n",
        "predicted_stock_price = sc.inverse_transform(predicted_stock_price)"
      ],
      "execution_count": 114,
      "outputs": []
    },
    {
      "cell_type": "markdown",
      "metadata": {
        "id": "uUGABYXPZrFC"
      },
      "source": [
        "Visualize the results"
      ]
    },
    {
      "cell_type": "code",
      "metadata": {
        "id": "HtdCYbamZrFC",
        "outputId": "ee872311-2ebd-4ee6-c816-327b898c05bd",
        "colab": {
          "base_uri": "https://localhost:8080/",
          "height": 513
        }
      },
      "source": [
        "# Visualising the results\n",
        "fig = plt.figure(figsize=(12,8))\n",
        "plt.plot(df.loc[800:, 'Date'],dataset_test.values, color = 'red', label = 'Real TESLA Stock Price')\n",
        "plt.plot(df.loc[800:, 'Date'],predicted_stock_price, color = 'blue', label = 'Predicted TESLA Stock Price')\n",
        "plt.xticks(np.arange(0,528,50))\n",
        "plt.title('TESLA Stock Price Prediction')\n",
        "plt.xlabel('Time')\n",
        "plt.ylabel('TESLA Stock Price')\n",
        "plt.legend()\n",
        "plt.show()"
      ],
      "execution_count": 115,
      "outputs": [
        {
          "output_type": "display_data",
          "data": {
            "image/png": "[encoded data removed]",
            "text/plain": [
              "<Figure size 864x576 with 1 Axes>"
            ]
          },
          "metadata": {
            "tags": [],
            "needs_background": "light"
          }
        }
      ]
    }
  ]
}