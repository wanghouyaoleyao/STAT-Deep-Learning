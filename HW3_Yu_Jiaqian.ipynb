{
 "cells": [
  {
   "cell_type": "markdown",
   "metadata": {
    "id": "DKTRkfzB2meZ"
   },
   "source": [
    "## Predict stock price using LSTM model. "
   ]
  },
  {
   "cell_type": "markdown",
   "metadata": {
    "id": "jcnlSCMGU5_f"
   },
   "source": [
    "load the data and inspect them"
   ]
  },
  {
   "cell_type": "code",
   "execution_count": 2,
   "metadata": {
    "id": "t5aWmKGmFCVH",
    "outputId": "314f23c5-4c52-49dc-d270-a5c90aebd3dc",
    "colab": {
     "base_uri": "https://localhost:8080/",
     "height": 219.0
    }
   },
   "outputs": [
    {
     "name": "stdout",
     "output_type": "stream",
     "text": [
      "Number of rows and columns: (1328, 7)\n"
     ]
    },
    {
     "data": {
      "text/html": [
       "<div>\n",
       "<style scoped>\n",
       "    .dataframe tbody tr th:only-of-type {\n",
       "        vertical-align: middle;\n",
       "    }\n",
       "\n",
       "    .dataframe tbody tr th {\n",
       "        vertical-align: top;\n",
       "    }\n",
       "\n",
       "    .dataframe thead th {\n",
       "        text-align: right;\n",
       "    }\n",
       "</style>\n",
       "<table border=\"1\" class=\"dataframe\">\n",
       "  <thead>\n",
       "    <tr style=\"text-align: right;\">\n",
       "      <th></th>\n",
       "      <th>Date</th>\n",
       "      <th>Open</th>\n",
       "      <th>High</th>\n",
       "      <th>Low</th>\n",
       "      <th>Close</th>\n",
       "      <th>Adj Close</th>\n",
       "      <th>Volume</th>\n",
       "    </tr>\n",
       "  </thead>\n",
       "  <tbody>\n",
       "    <tr>\n",
       "      <th>0</th>\n",
       "      <td>2015-07-09</td>\n",
       "      <td>51.816002</td>\n",
       "      <td>52.590000</td>\n",
       "      <td>51.358002</td>\n",
       "      <td>51.584000</td>\n",
       "      <td>51.584000</td>\n",
       "      <td>16670500</td>\n",
       "    </tr>\n",
       "    <tr>\n",
       "      <th>1</th>\n",
       "      <td>2015-07-10</td>\n",
       "      <td>52.444000</td>\n",
       "      <td>52.599998</td>\n",
       "      <td>51.563999</td>\n",
       "      <td>51.830002</td>\n",
       "      <td>51.830002</td>\n",
       "      <td>13054500</td>\n",
       "    </tr>\n",
       "    <tr>\n",
       "      <th>2</th>\n",
       "      <td>2015-07-13</td>\n",
       "      <td>52.450001</td>\n",
       "      <td>52.509998</td>\n",
       "      <td>51.209999</td>\n",
       "      <td>52.431999</td>\n",
       "      <td>52.431999</td>\n",
       "      <td>14801500</td>\n",
       "    </tr>\n",
       "    <tr>\n",
       "      <th>3</th>\n",
       "      <td>2015-07-14</td>\n",
       "      <td>52.419998</td>\n",
       "      <td>53.198002</td>\n",
       "      <td>52.102001</td>\n",
       "      <td>53.130001</td>\n",
       "      <td>53.130001</td>\n",
       "      <td>9538000</td>\n",
       "    </tr>\n",
       "    <tr>\n",
       "      <th>4</th>\n",
       "      <td>2015-07-15</td>\n",
       "      <td>53.348000</td>\n",
       "      <td>53.498001</td>\n",
       "      <td>52.416000</td>\n",
       "      <td>52.627998</td>\n",
       "      <td>52.627998</td>\n",
       "      <td>10108000</td>\n",
       "    </tr>\n",
       "  </tbody>\n",
       "</table>\n",
       "</div>"
      ],
      "text/plain": [
       "         Date       Open       High        Low      Close  Adj Close    Volume\n",
       "0  2015-07-09  51.816002  52.590000  51.358002  51.584000  51.584000  16670500\n",
       "1  2015-07-10  52.444000  52.599998  51.563999  51.830002  51.830002  13054500\n",
       "2  2015-07-13  52.450001  52.509998  51.209999  52.431999  52.431999  14801500\n",
       "3  2015-07-14  52.419998  53.198002  52.102001  53.130001  53.130001   9538000\n",
       "4  2015-07-15  53.348000  53.498001  52.416000  52.627998  52.627998  10108000"
      ]
     },
     "execution_count": 2,
     "metadata": {
      "tags": []
     },
     "output_type": "execute_result"
    }
   ],
   "source": [
    "import math\n",
    "import matplotlib.pyplot as plt\n",
    "import keras\n",
    "import pandas as pd\n",
    "import numpy as np\n",
    "from keras.models import Sequential\n",
    "from keras.layers import Dense\n",
    "from keras.layers import LSTM\n",
    "from keras.layers import Dropout\n",
    "from keras.layers import *\n",
    "from sklearn.preprocessing import MinMaxScaler\n",
    "from sklearn.metrics import mean_squared_error\n",
    "from sklearn.metrics import mean_absolute_error\n",
    "from sklearn.model_selection import train_test_split\n",
    "from keras.callbacks import EarlyStopping\n",
    "df=pd.read_csv(\"TSLA.csv\")\n",
    "print('Number of rows and columns:', df.shape)\n",
    "df.head(5)"
   ]
  },
  {
   "cell_type": "markdown",
   "metadata": {
    "id": "NXWJI0qyppnL"
   },
   "source": [
    "split the data into training and test sets "
   ]
  },
  {
   "cell_type": "code",
   "execution_count": 3,
   "metadata": {
    "id": "ZNh9WBcYFCX3"
   },
   "outputs": [],
   "source": [
    "training_set = df.iloc[:800, 1:2].values\n",
    "test_set = df.iloc[800:, 1:2].values"
   ]
  },
  {
   "cell_type": "markdown",
   "metadata": {
    "id": "ohBW2I2HVC7R"
   },
   "source": [
    "## A standard model"
   ]
  },
  {
   "cell_type": "markdown",
   "metadata": {
    "id": "LkhOol4lCjWb"
   },
   "source": [
    "## Lag: 1, Hidden Layers: 4, Dropout Rate: 0.2"
   ]
  },
  {
   "cell_type": "markdown",
   "metadata": {
    "id": "rttQIuIq-ubf"
   },
   "source": [
    "1 day"
   ]
  },
  {
   "cell_type": "code",
   "execution_count": 4,
   "metadata": {
    "id": "qq0NzbUbFCc6",
    "outputId": "c2dbf556-afd4-411e-8aff-7fcbab255ee0",
    "colab": {
     "base_uri": "https://localhost:8080/",
     "height": 35.0
    }
   },
   "outputs": [
    {
     "data": {
      "text/plain": [
       "(740, 60, 1)"
      ]
     },
     "execution_count": 4,
     "metadata": {
      "tags": []
     },
     "output_type": "execute_result"
    }
   ],
   "source": [
    "# Feature Scaling\n",
    "sc = MinMaxScaler(feature_range = (0, 1))\n",
    "training_set_scaled = sc.fit_transform(training_set)\n",
    "# Creating a data structure with 60 time-steps and 1 output\n",
    "X_train = []\n",
    "y_train = []\n",
    "for i in range(60, 800):\n",
    "    X_train.append(training_set_scaled[i-60:i, 0])\n",
    "    y_train.append(training_set_scaled[i, 0])\n",
    "X_train, y_train = np.array(X_train), np.array(y_train)\n",
    "X_train = np.reshape(X_train, (X_train.shape[0], X_train.shape[1], 1))\n",
    "X_train.shape"
   ]
  },
  {
   "cell_type": "markdown",
   "metadata": {
    "id": "qwctIYNa9FLB"
   },
   "source": [
    "Build LSTM mode, with 50 neurons and 4 layers, droupout rate = 0.2"
   ]
  },
  {
   "cell_type": "code",
   "execution_count": 5,
   "metadata": {
    "id": "2ZRla4Xu9JkA",
    "outputId": "cbdea0a8-97c7-4fb1-aafa-035dd7f327de",
    "colab": {
     "base_uri": "https://localhost:8080/",
     "height": 1000.0
    }
   },
   "outputs": [
    {
     "name": "stdout",
     "output_type": "stream",
     "text": [
      "Epoch 1/100\n",
      "24/24 [==============================] - 0s 16ms/step - loss: 0.0750\n",
      "Epoch 2/100\n",
      "24/24 [==============================] - 0s 15ms/step - loss: 0.0179\n",
      "Epoch 3/100\n",
      "24/24 [==============================] - 0s 13ms/step - loss: 0.0131\n",
      "Epoch 4/100\n",
      "24/24 [==============================] - 0s 13ms/step - loss: 0.0118\n",
      "Epoch 5/100\n",
      "24/24 [==============================] - 0s 13ms/step - loss: 0.0125\n",
      "Epoch 6/100\n",
      "24/24 [==============================] - 0s 13ms/step - loss: 0.0122\n",
      "Epoch 7/100\n",
      "24/24 [==============================] - 0s 13ms/step - loss: 0.0102\n",
      "Epoch 8/100\n",
      "24/24 [==============================] - 0s 13ms/step - loss: 0.0121\n",
      "Epoch 9/100\n",
      "24/24 [==============================] - 0s 15ms/step - loss: 0.0121\n",
      "Epoch 10/100\n",
      "24/24 [==============================] - 0s 13ms/step - loss: 0.0093\n",
      "Epoch 11/100\n",
      "24/24 [==============================] - 0s 15ms/step - loss: 0.0099\n",
      "Epoch 12/100\n",
      "24/24 [==============================] - 0s 13ms/step - loss: 0.0088\n",
      "Epoch 13/100\n",
      "24/24 [==============================] - 0s 13ms/step - loss: 0.0078\n",
      "Epoch 14/100\n",
      "24/24 [==============================] - 0s 13ms/step - loss: 0.0087\n",
      "Epoch 15/100\n",
      "24/24 [==============================] - 0s 13ms/step - loss: 0.0094\n",
      "Epoch 16/100\n",
      "24/24 [==============================] - 0s 13ms/step - loss: 0.0080\n",
      "Epoch 17/100\n",
      "24/24 [==============================] - 0s 12ms/step - loss: 0.0078\n",
      "Epoch 18/100\n",
      "24/24 [==============================] - 0s 13ms/step - loss: 0.0088\n",
      "Epoch 19/100\n",
      "24/24 [==============================] - 0s 12ms/step - loss: 0.0091\n",
      "Epoch 20/100\n",
      "24/24 [==============================] - 0s 12ms/step - loss: 0.0077\n",
      "Epoch 21/100\n",
      "24/24 [==============================] - 0s 13ms/step - loss: 0.0080\n",
      "Epoch 22/100\n",
      "24/24 [==============================] - 0s 12ms/step - loss: 0.0071\n",
      "Epoch 23/100\n",
      "24/24 [==============================] - 0s 12ms/step - loss: 0.0073\n",
      "Epoch 24/100\n",
      "24/24 [==============================] - 0s 13ms/step - loss: 0.0072\n",
      "Epoch 25/100\n",
      "24/24 [==============================] - 0s 13ms/step - loss: 0.0068\n",
      "Epoch 26/100\n",
      "24/24 [==============================] - 0s 12ms/step - loss: 0.0072\n",
      "Epoch 27/100\n",
      "24/24 [==============================] - 0s 13ms/step - loss: 0.0074\n",
      "Epoch 28/100\n",
      "24/24 [==============================] - 0s 12ms/step - loss: 0.0070\n",
      "Epoch 29/100\n",
      "24/24 [==============================] - 0s 12ms/step - loss: 0.0059\n",
      "Epoch 30/100\n",
      "24/24 [==============================] - 0s 12ms/step - loss: 0.0058\n",
      "Epoch 31/100\n",
      "24/24 [==============================] - 0s 13ms/step - loss: 0.0062\n",
      "Epoch 32/100\n",
      "24/24 [==============================] - 0s 15ms/step - loss: 0.0056\n",
      "Epoch 33/100\n",
      "24/24 [==============================] - 0s 15ms/step - loss: 0.0058\n",
      "Epoch 34/100\n",
      "24/24 [==============================] - 0s 13ms/step - loss: 0.0056\n",
      "Epoch 35/100\n",
      "24/24 [==============================] - 0s 12ms/step - loss: 0.0055\n",
      "Epoch 36/100\n",
      "24/24 [==============================] - 0s 13ms/step - loss: 0.0049\n",
      "Epoch 37/100\n",
      "24/24 [==============================] - 0s 13ms/step - loss: 0.0053\n",
      "Epoch 38/100\n",
      "24/24 [==============================] - 0s 12ms/step - loss: 0.0052\n",
      "Epoch 39/100\n",
      "24/24 [==============================] - 0s 13ms/step - loss: 0.0058\n",
      "Epoch 40/100\n",
      "24/24 [==============================] - 0s 13ms/step - loss: 0.0048\n",
      "Epoch 41/100\n",
      "24/24 [==============================] - 0s 12ms/step - loss: 0.0050\n",
      "Epoch 42/100\n",
      "24/24 [==============================] - 0s 12ms/step - loss: 0.0050\n",
      "Epoch 43/100\n",
      "24/24 [==============================] - 0s 13ms/step - loss: 0.0047\n",
      "Epoch 44/100\n",
      "24/24 [==============================] - 0s 15ms/step - loss: 0.0048\n",
      "Epoch 45/100\n",
      "24/24 [==============================] - 0s 14ms/step - loss: 0.0056\n",
      "Epoch 46/100\n",
      "24/24 [==============================] - 0s 12ms/step - loss: 0.0045\n",
      "Epoch 47/100\n",
      "24/24 [==============================] - 0s 13ms/step - loss: 0.0045\n",
      "Epoch 48/100\n",
      "24/24 [==============================] - 0s 13ms/step - loss: 0.0046\n",
      "Epoch 49/100\n",
      "24/24 [==============================] - 0s 13ms/step - loss: 0.0042\n",
      "Epoch 50/100\n",
      "24/24 [==============================] - 0s 12ms/step - loss: 0.0040\n",
      "Epoch 51/100\n",
      "24/24 [==============================] - 0s 13ms/step - loss: 0.0043\n",
      "Epoch 52/100\n",
      "24/24 [==============================] - 0s 12ms/step - loss: 0.0045\n",
      "Epoch 53/100\n",
      "24/24 [==============================] - 0s 13ms/step - loss: 0.0055\n",
      "Epoch 54/100\n",
      "24/24 [==============================] - 0s 15ms/step - loss: 0.0038\n",
      "Epoch 55/100\n",
      "24/24 [==============================] - 0s 13ms/step - loss: 0.0040\n",
      "Epoch 56/100\n",
      "24/24 [==============================] - 0s 12ms/step - loss: 0.0041\n",
      "Epoch 57/100\n",
      "24/24 [==============================] - 0s 12ms/step - loss: 0.0039\n",
      "Epoch 58/100\n",
      "24/24 [==============================] - 0s 14ms/step - loss: 0.0043\n",
      "Epoch 59/100\n",
      "24/24 [==============================] - 0s 13ms/step - loss: 0.0039\n",
      "Epoch 60/100\n",
      "24/24 [==============================] - 0s 13ms/step - loss: 0.0038\n",
      "Epoch 61/100\n",
      "24/24 [==============================] - 0s 13ms/step - loss: 0.0041\n",
      "Epoch 62/100\n",
      "24/24 [==============================] - 0s 12ms/step - loss: 0.0040\n",
      "Epoch 63/100\n",
      "24/24 [==============================] - 0s 12ms/step - loss: 0.0041\n",
      "Epoch 64/100\n",
      "24/24 [==============================] - 0s 14ms/step - loss: 0.0040\n",
      "Epoch 65/100\n",
      "24/24 [==============================] - 0s 12ms/step - loss: 0.0041\n",
      "Epoch 66/100\n",
      "24/24 [==============================] - 0s 13ms/step - loss: 0.0033\n",
      "Epoch 67/100\n",
      "24/24 [==============================] - 0s 13ms/step - loss: 0.0033\n",
      "Epoch 68/100\n",
      "24/24 [==============================] - 0s 14ms/step - loss: 0.0039\n",
      "Epoch 69/100\n",
      "24/24 [==============================] - 0s 15ms/step - loss: 0.0036\n",
      "Epoch 70/100\n",
      "24/24 [==============================] - 0s 13ms/step - loss: 0.0047\n",
      "Epoch 71/100\n",
      "24/24 [==============================] - 0s 13ms/step - loss: 0.0039\n",
      "Epoch 72/100\n",
      "24/24 [==============================] - 0s 15ms/step - loss: 0.0035\n",
      "Epoch 73/100\n",
      "24/24 [==============================] - 0s 14ms/step - loss: 0.0034\n",
      "Epoch 74/100\n",
      "24/24 [==============================] - 0s 12ms/step - loss: 0.0036\n",
      "Epoch 75/100\n",
      "24/24 [==============================] - 0s 12ms/step - loss: 0.0035\n",
      "Epoch 76/100\n",
      "24/24 [==============================] - 0s 13ms/step - loss: 0.0034\n",
      "Epoch 77/100\n",
      "24/24 [==============================] - 0s 12ms/step - loss: 0.0035\n",
      "Epoch 78/100\n",
      "24/24 [==============================] - 0s 12ms/step - loss: 0.0031\n",
      "Epoch 79/100\n",
      "24/24 [==============================] - 0s 13ms/step - loss: 0.0032\n",
      "Epoch 80/100\n",
      "24/24 [==============================] - 0s 14ms/step - loss: 0.0029\n",
      "Epoch 81/100\n",
      "24/24 [==============================] - 0s 16ms/step - loss: 0.0036\n",
      "Epoch 82/100\n",
      "24/24 [==============================] - 0s 15ms/step - loss: 0.0037\n",
      "Epoch 83/100\n",
      "24/24 [==============================] - 0s 16ms/step - loss: 0.0031\n",
      "Epoch 84/100\n",
      "24/24 [==============================] - 0s 15ms/step - loss: 0.0032\n",
      "Epoch 85/100\n",
      "24/24 [==============================] - 0s 15ms/step - loss: 0.0030\n",
      "Epoch 86/100\n",
      "24/24 [==============================] - 0s 13ms/step - loss: 0.0034\n",
      "Epoch 87/100\n",
      "24/24 [==============================] - 0s 13ms/step - loss: 0.0031\n",
      "Epoch 88/100\n",
      "24/24 [==============================] - 0s 13ms/step - loss: 0.0031\n",
      "Epoch 89/100\n",
      "24/24 [==============================] - 0s 14ms/step - loss: 0.0032\n",
      "Epoch 90/100\n",
      "24/24 [==============================] - 0s 13ms/step - loss: 0.0032\n",
      "Epoch 91/100\n",
      "24/24 [==============================] - 0s 13ms/step - loss: 0.0030\n",
      "Epoch 92/100\n",
      "24/24 [==============================] - 0s 13ms/step - loss: 0.0032\n",
      "Epoch 93/100\n",
      "24/24 [==============================] - 0s 13ms/step - loss: 0.0031\n",
      "Epoch 94/100\n",
      "24/24 [==============================] - 0s 12ms/step - loss: 0.0030\n",
      "Epoch 95/100\n",
      "24/24 [==============================] - 0s 13ms/step - loss: 0.0031\n",
      "Epoch 96/100\n",
      "24/24 [==============================] - 0s 13ms/step - loss: 0.0032\n",
      "Epoch 97/100\n",
      "24/24 [==============================] - 0s 13ms/step - loss: 0.0030\n",
      "Epoch 98/100\n",
      "24/24 [==============================] - 0s 13ms/step - loss: 0.0027\n",
      "Epoch 99/100\n",
      "24/24 [==============================] - 0s 13ms/step - loss: 0.0028\n",
      "Epoch 100/100\n",
      "24/24 [==============================] - 0s 14ms/step - loss: 0.0027\n"
     ]
    },
    {
     "data": {
      "text/plain": [
       "<tensorflow.python.keras.callbacks.History at 0x7f29ee0f4dd8>"
      ]
     },
     "execution_count": 5,
     "metadata": {
      "tags": []
     },
     "output_type": "execute_result"
    }
   ],
   "source": [
    "model = Sequential()\n",
    "#Adding the first LSTM layer and some Dropout regularisation\n",
    "model.add(LSTM(units = 50, return_sequences = True, input_shape = (X_train.shape[1], 1)))\n",
    "model.add(Dropout(0.2))\n",
    "# Adding a second LSTM layer and some Dropout regularisation\n",
    "model.add(LSTM(units = 50, return_sequences = True))\n",
    "model.add(Dropout(0.2))\n",
    "# Adding a third LSTM layer and some Dropout regularisation\n",
    "model.add(LSTM(units = 50, return_sequences = True))\n",
    "model.add(Dropout(0.2))\n",
    "# Adding a fourth LSTM layer and some Dropout regularisation\n",
    "model.add(LSTM(units = 50))\n",
    "model.add(Dropout(0.2))\n",
    "# Adding the output layer\n",
    "model.add(Dense(units = 1))\n",
    "\n",
    "# Compiling the RNN\n",
    "model.compile(optimizer = 'adam', loss = 'mean_squared_error')\n",
    "\n",
    "# Fitting the RNN to the Training set\n",
    "model.fit(X_train, y_train, epochs = 100, batch_size = 32)"
   ]
  },
  {
   "cell_type": "code",
   "execution_count": 6,
   "metadata": {
    "id": "EqT5lwWc_wG5",
    "outputId": "d6bd974d-0da5-4d4b-ab39-eaab5dc26e8e",
    "colab": {
     "base_uri": "https://localhost:8080/",
     "height": 52.0
    }
   },
   "outputs": [
    {
     "name": "stdout",
     "output_type": "stream",
     "text": [
      "(528, 1)\n",
      "(528, 60, 1)\n"
     ]
    }
   ],
   "source": [
    "# Getting the predicted stock price\n",
    "dataset_train = df.iloc[:800, 1:2]\n",
    "dataset_test = df.iloc[800:, 1:2]\n",
    "print(dataset_test.shape)\n",
    "dataset_total = pd.concat((dataset_train, dataset_test), axis = 0)\n",
    "inputs = dataset_total[len(dataset_total) - len(dataset_test) - 60:].values\n",
    "inputs = inputs.reshape(-1,1)\n",
    "inputs = sc.transform(inputs)\n",
    "X_test = []\n",
    "for i in range(60, 588):\n",
    "    X_test.append(inputs[i-60:i, 0])\n",
    "X_test = np.array(X_test)\n",
    "X_test = np.reshape(X_test, (X_test.shape[0], X_test.shape[1], 1))\n",
    "print(X_test.shape)"
   ]
  },
  {
   "cell_type": "markdown",
   "metadata": {
    "id": "8EXFbRQ7MvCR"
   },
   "source": [
    "Make predictions using the test set"
   ]
  },
  {
   "cell_type": "code",
   "execution_count": 7,
   "metadata": {
    "id": "Tp2Q_vCxOFV9"
   },
   "outputs": [],
   "source": [
    "predicted_stock_price = model.predict(X_test)\n",
    "predicted_stock_price = sc.inverse_transform(predicted_stock_price)"
   ]
  },
  {
   "cell_type": "markdown",
   "metadata": {
    "id": "2-NiT64s_7LP"
   },
   "source": [
    "Visualize the results"
   ]
  },
  {
   "cell_type": "code",
   "execution_count": 8,
   "metadata": {
    "id": "3QcpP63rMxX4",
    "outputId": "aaeef3b5-f376-4a40-899c-35b765bd53a9",
    "colab": {
     "base_uri": "https://localhost:8080/",
     "height": 513.0
    }
   },
   "outputs": [
    {
     "data": {
      "image/png": "[encoded data removed]",
      "text/plain": [
       "<Figure size 864x576 with 1 Axes>"
      ]
     },
     "metadata": {
      "tags": [],
      "needs_background": "light"
     },
     "output_type": "display_data"
    }
   ],
   "source": [
    "# Visualising the results\n",
    "fig = plt.figure(figsize=(12,8))\n",
    "plt.plot(df.loc[800:, 'Date'],dataset_test.values, color = 'red', label = 'Real TESLA Stock Price')\n",
    "plt.plot(df.loc[800:, 'Date'],predicted_stock_price, color = 'blue', label = 'Predicted TESLA Stock Price')\n",
    "plt.xticks(np.arange(0,528,50))\n",
    "plt.title('TESLA Stock Price Prediction')\n",
    "plt.xlabel('Time')\n",
    "plt.ylabel('TESLA Stock Price')\n",
    "plt.legend()\n",
    "plt.show()"
   ]
  },
  {
   "cell_type": "markdown",
   "metadata": {
    "id": "dp-J1O2sHumz"
   },
   "source": [
    "## Lag: 7, Hidden Layers: 4, Dropout Rate: 0.2"
   ]
  },
  {
   "cell_type": "markdown",
   "metadata": {
    "id": "FlPqszWsHum3"
   },
   "source": [
    "7 day"
   ]
  },
  {
   "cell_type": "code",
   "execution_count": 171,
   "metadata": {
    "id": "wAfoa6wuHum4",
    "outputId": "2223bedf-7b83-4f50-a305-34951e3207cd",
    "colab": {
     "base_uri": "https://localhost:8080/",
     "height": 35.0
    }
   },
   "outputs": [
    {
     "data": {
      "text/plain": [
       "(733, 60, 1)"
      ]
     },
     "execution_count": 171,
     "metadata": {
      "tags": []
     },
     "output_type": "execute_result"
    }
   ],
   "source": [
    "# Feature Scaling\n",
    "sc = MinMaxScaler(feature_range = (0, 1))\n",
    "training_set_scaled = sc.fit_transform(training_set)\n",
    "# Creating a data structure with 60 time-steps and 1 output\n",
    "X_train = []\n",
    "y_train = []\n",
    "for i in range(60, 800-7):\n",
    "    X_train.append(training_set_scaled[i-60:i, 0])\n",
    "    y_train.append(training_set_scaled[i+6, 0])\n",
    "X_train, y_train = np.array(X_train), np.array(y_train)\n",
    "X_train = np.reshape(X_train, (X_train.shape[0], X_train.shape[1], 1))\n",
    "X_train.shape"
   ]
  },
  {
   "cell_type": "markdown",
   "metadata": {
    "id": "avKjl_jQHum8"
   },
   "source": [
    "Build LSTM mode, with 50 neurons and 4 layers, droupout rate = 0.2"
   ]
  },
  {
   "cell_type": "code",
   "execution_count": 172,
   "metadata": {
    "id": "pdYRxEtLHum9",
    "outputId": "5f98d67a-f2f1-4d4f-e559-b058f3c15f15",
    "colab": {
     "base_uri": "https://localhost:8080/",
     "height": 1000.0
    }
   },
   "outputs": [
    {
     "name": "stdout",
     "output_type": "stream",
     "text": [
      "Epoch 1/100\n",
      "23/23 [==============================] - 0s 16ms/step - loss: 0.0852\n",
      "Epoch 2/100\n",
      "23/23 [==============================] - 0s 14ms/step - loss: 0.0207\n",
      "Epoch 3/100\n",
      "23/23 [==============================] - 0s 14ms/step - loss: 0.0172\n",
      "Epoch 4/100\n",
      "23/23 [==============================] - 0s 17ms/step - loss: 0.0164\n",
      "Epoch 5/100\n",
      "23/23 [==============================] - 0s 17ms/step - loss: 0.0154\n",
      "Epoch 6/100\n",
      "23/23 [==============================] - 0s 14ms/step - loss: 0.0173\n",
      "Epoch 7/100\n",
      "23/23 [==============================] - 0s 13ms/step - loss: 0.0160\n",
      "Epoch 8/100\n",
      "23/23 [==============================] - 0s 13ms/step - loss: 0.0164\n",
      "Epoch 9/100\n",
      "23/23 [==============================] - 0s 14ms/step - loss: 0.0161\n",
      "Epoch 10/100\n",
      "23/23 [==============================] - 0s 14ms/step - loss: 0.0149\n",
      "Epoch 11/100\n",
      "23/23 [==============================] - 0s 13ms/step - loss: 0.0153\n",
      "Epoch 12/100\n",
      "23/23 [==============================] - 0s 14ms/step - loss: 0.0144\n",
      "Epoch 13/100\n",
      "23/23 [==============================] - 0s 16ms/step - loss: 0.0145\n",
      "Epoch 14/100\n",
      "23/23 [==============================] - 0s 13ms/step - loss: 0.0142\n",
      "Epoch 15/100\n",
      "23/23 [==============================] - 0s 15ms/step - loss: 0.0151\n",
      "Epoch 16/100\n",
      "23/23 [==============================] - 0s 16ms/step - loss: 0.0129\n",
      "Epoch 17/100\n",
      "23/23 [==============================] - 0s 14ms/step - loss: 0.0138\n",
      "Epoch 18/100\n",
      "23/23 [==============================] - 0s 13ms/step - loss: 0.0129\n",
      "Epoch 19/100\n",
      "23/23 [==============================] - 0s 14ms/step - loss: 0.0132\n",
      "Epoch 20/100\n",
      "23/23 [==============================] - 0s 13ms/step - loss: 0.0139\n",
      "Epoch 21/100\n",
      "23/23 [==============================] - 0s 13ms/step - loss: 0.0121\n",
      "Epoch 22/100\n",
      "23/23 [==============================] - 0s 14ms/step - loss: 0.0126\n",
      "Epoch 23/100\n",
      "23/23 [==============================] - 0s 13ms/step - loss: 0.0125\n",
      "Epoch 24/100\n",
      "23/23 [==============================] - 0s 13ms/step - loss: 0.0121\n",
      "Epoch 25/100\n",
      "23/23 [==============================] - 0s 13ms/step - loss: 0.0113\n",
      "Epoch 26/100\n",
      "23/23 [==============================] - 0s 13ms/step - loss: 0.0112\n",
      "Epoch 27/100\n",
      "23/23 [==============================] - 0s 14ms/step - loss: 0.0115\n",
      "Epoch 28/100\n",
      "23/23 [==============================] - 0s 15ms/step - loss: 0.0107\n",
      "Epoch 29/100\n",
      "23/23 [==============================] - 0s 15ms/step - loss: 0.0104\n",
      "Epoch 30/100\n",
      "23/23 [==============================] - 0s 13ms/step - loss: 0.0108\n",
      "Epoch 31/100\n",
      "23/23 [==============================] - 0s 14ms/step - loss: 0.0103\n",
      "Epoch 32/100\n",
      "23/23 [==============================] - 0s 13ms/step - loss: 0.0101\n",
      "Epoch 33/100\n",
      "23/23 [==============================] - 0s 14ms/step - loss: 0.0091\n",
      "Epoch 34/100\n",
      "23/23 [==============================] - 0s 14ms/step - loss: 0.0100\n",
      "Epoch 35/100\n",
      "23/23 [==============================] - 0s 14ms/step - loss: 0.0092\n",
      "Epoch 36/100\n",
      "23/23 [==============================] - 0s 13ms/step - loss: 0.0086\n",
      "Epoch 37/100\n",
      "23/23 [==============================] - 0s 13ms/step - loss: 0.0091\n",
      "Epoch 38/100\n",
      "23/23 [==============================] - 0s 14ms/step - loss: 0.0093\n",
      "Epoch 39/100\n",
      "23/23 [==============================] - 0s 13ms/step - loss: 0.0088\n",
      "Epoch 40/100\n",
      "23/23 [==============================] - 0s 13ms/step - loss: 0.0082\n",
      "Epoch 41/100\n",
      "23/23 [==============================] - 0s 13ms/step - loss: 0.0080\n",
      "Epoch 42/100\n",
      "23/23 [==============================] - 0s 13ms/step - loss: 0.0083\n",
      "Epoch 43/100\n",
      "23/23 [==============================] - 0s 13ms/step - loss: 0.0082\n",
      "Epoch 44/100\n",
      "23/23 [==============================] - 0s 13ms/step - loss: 0.0081\n",
      "Epoch 45/100\n",
      "23/23 [==============================] - 0s 14ms/step - loss: 0.0081\n",
      "Epoch 46/100\n",
      "23/23 [==============================] - 0s 13ms/step - loss: 0.0083\n",
      "Epoch 47/100\n",
      "23/23 [==============================] - 0s 13ms/step - loss: 0.0077\n",
      "Epoch 48/100\n",
      "23/23 [==============================] - 0s 14ms/step - loss: 0.0079\n",
      "Epoch 49/100\n",
      "23/23 [==============================] - 0s 14ms/step - loss: 0.0094\n",
      "Epoch 50/100\n",
      "23/23 [==============================] - 0s 14ms/step - loss: 0.0083\n",
      "Epoch 51/100\n",
      "23/23 [==============================] - 0s 14ms/step - loss: 0.0083\n",
      "Epoch 52/100\n",
      "23/23 [==============================] - 0s 16ms/step - loss: 0.0071\n",
      "Epoch 53/100\n",
      "23/23 [==============================] - 0s 16ms/step - loss: 0.0077\n",
      "Epoch 54/100\n",
      "23/23 [==============================] - 0s 13ms/step - loss: 0.0076\n",
      "Epoch 55/100\n",
      "23/23 [==============================] - 0s 13ms/step - loss: 0.0073\n",
      "Epoch 56/100\n",
      "23/23 [==============================] - 0s 14ms/step - loss: 0.0074\n",
      "Epoch 57/100\n",
      "23/23 [==============================] - 0s 14ms/step - loss: 0.0072\n",
      "Epoch 58/100\n",
      "23/23 [==============================] - 0s 13ms/step - loss: 0.0079\n",
      "Epoch 59/100\n",
      "23/23 [==============================] - 0s 13ms/step - loss: 0.0073\n",
      "Epoch 60/100\n",
      "23/23 [==============================] - 0s 13ms/step - loss: 0.0073\n",
      "Epoch 61/100\n",
      "23/23 [==============================] - 0s 13ms/step - loss: 0.0077\n",
      "Epoch 62/100\n",
      "23/23 [==============================] - 0s 14ms/step - loss: 0.0076\n",
      "Epoch 63/100\n",
      "23/23 [==============================] - 0s 13ms/step - loss: 0.0064\n",
      "Epoch 64/100\n",
      "23/23 [==============================] - 0s 13ms/step - loss: 0.0071\n",
      "Epoch 65/100\n",
      "23/23 [==============================] - 0s 13ms/step - loss: 0.0066\n",
      "Epoch 66/100\n",
      "23/23 [==============================] - 0s 14ms/step - loss: 0.0062\n",
      "Epoch 67/100\n",
      "23/23 [==============================] - 0s 14ms/step - loss: 0.0069\n",
      "Epoch 68/100\n",
      "23/23 [==============================] - 0s 13ms/step - loss: 0.0065\n",
      "Epoch 69/100\n",
      "23/23 [==============================] - 0s 13ms/step - loss: 0.0066\n",
      "Epoch 70/100\n",
      "23/23 [==============================] - 0s 13ms/step - loss: 0.0062\n",
      "Epoch 71/100\n",
      "23/23 [==============================] - 0s 14ms/step - loss: 0.0064\n",
      "Epoch 72/100\n",
      "23/23 [==============================] - 0s 13ms/step - loss: 0.0065\n",
      "Epoch 73/100\n",
      "23/23 [==============================] - 0s 15ms/step - loss: 0.0065\n",
      "Epoch 74/100\n",
      "23/23 [==============================] - 0s 15ms/step - loss: 0.0059\n",
      "Epoch 75/100\n",
      "23/23 [==============================] - 0s 17ms/step - loss: 0.0054\n",
      "Epoch 76/100\n",
      "23/23 [==============================] - 0s 15ms/step - loss: 0.0057\n",
      "Epoch 77/100\n",
      "23/23 [==============================] - 0s 15ms/step - loss: 0.0058\n",
      "Epoch 78/100\n",
      "23/23 [==============================] - 0s 13ms/step - loss: 0.0059\n",
      "Epoch 79/100\n",
      "23/23 [==============================] - 0s 14ms/step - loss: 0.0062\n",
      "Epoch 80/100\n",
      "23/23 [==============================] - 0s 13ms/step - loss: 0.0054\n",
      "Epoch 81/100\n",
      "23/23 [==============================] - 0s 14ms/step - loss: 0.0059\n",
      "Epoch 82/100\n",
      "23/23 [==============================] - 0s 13ms/step - loss: 0.0058\n",
      "Epoch 83/100\n",
      "23/23 [==============================] - 0s 14ms/step - loss: 0.0058\n",
      "Epoch 84/100\n",
      "23/23 [==============================] - 0s 14ms/step - loss: 0.0053\n",
      "Epoch 85/100\n",
      "23/23 [==============================] - 0s 14ms/step - loss: 0.0051\n",
      "Epoch 86/100\n",
      "23/23 [==============================] - 0s 14ms/step - loss: 0.0056\n",
      "Epoch 87/100\n",
      "23/23 [==============================] - 0s 13ms/step - loss: 0.0052\n",
      "Epoch 88/100\n",
      "23/23 [==============================] - 0s 13ms/step - loss: 0.0062\n",
      "Epoch 89/100\n",
      "23/23 [==============================] - 0s 14ms/step - loss: 0.0050\n",
      "Epoch 90/100\n",
      "23/23 [==============================] - 0s 14ms/step - loss: 0.0048\n",
      "Epoch 91/100\n",
      "23/23 [==============================] - 0s 16ms/step - loss: 0.0051\n",
      "Epoch 92/100\n",
      "23/23 [==============================] - 0s 15ms/step - loss: 0.0047\n",
      "Epoch 93/100\n",
      "23/23 [==============================] - 0s 13ms/step - loss: 0.0048\n",
      "Epoch 94/100\n",
      "23/23 [==============================] - 0s 16ms/step - loss: 0.0053\n",
      "Epoch 95/100\n",
      "23/23 [==============================] - 0s 14ms/step - loss: 0.0049\n",
      "Epoch 96/100\n",
      "23/23 [==============================] - 0s 13ms/step - loss: 0.0046\n",
      "Epoch 97/100\n",
      "23/23 [==============================] - 0s 13ms/step - loss: 0.0050\n",
      "Epoch 98/100\n",
      "23/23 [==============================] - 0s 14ms/step - loss: 0.0048\n",
      "Epoch 99/100\n",
      "23/23 [==============================] - 0s 14ms/step - loss: 0.0049\n",
      "Epoch 100/100\n",
      "23/23 [==============================] - 0s 15ms/step - loss: 0.0044\n"
     ]
    },
    {
     "data": {
      "text/plain": [
       "<tensorflow.python.keras.callbacks.History at 0x7f2987c83f98>"
      ]
     },
     "execution_count": 172,
     "metadata": {
      "tags": []
     },
     "output_type": "execute_result"
    }
   ],
   "source": [
    "model = Sequential()\n",
    "#Adding the first LSTM layer and some Dropout regularisation\n",
    "model.add(LSTM(units = 50, return_sequences = True, input_shape = (X_train.shape[1], 1)))\n",
    "model.add(Dropout(0.2))\n",
    "# Adding a second LSTM layer and some Dropout regularisation\n",
    "model.add(LSTM(units = 50, return_sequences = True))\n",
    "model.add(Dropout(0.2))\n",
    "# Adding a third LSTM layer and some Dropout regularisation\n",
    "model.add(LSTM(units = 50, return_sequences = True))\n",
    "model.add(Dropout(0.2))\n",
    "# Adding a fourth LSTM layer and some Dropout regularisation\n",
    "model.add(LSTM(units = 50))\n",
    "model.add(Dropout(0.2))\n",
    "# Adding the output layer\n",
    "model.add(Dense(units = 1))\n",
    "\n",
    "# Compiling the RNN\n",
    "model.compile(optimizer = 'adam', loss = 'mean_squared_error')\n",
    "\n",
    "# Fitting the RNN to the Training set\n",
    "model.fit(X_train, y_train, epochs = 100, batch_size = 32)"
   ]
  },
  {
   "cell_type": "code",
   "execution_count": 173,
   "metadata": {
    "id": "8qN2hvuEHunC",
    "outputId": "ef434600-b70c-4e10-d0ff-6fdd5ecb525e",
    "colab": {
     "base_uri": "https://localhost:8080/",
     "height": 52.0
    }
   },
   "outputs": [
    {
     "name": "stdout",
     "output_type": "stream",
     "text": [
      "(521, 1)\n",
      "(521, 60, 1)\n"
     ]
    }
   ],
   "source": [
    "# Getting the predicted stock price\n",
    "dataset_train = df.iloc[:800, 1:2]\n",
    "dataset_test = df.iloc[800:, 1:2]\n",
    "dataset_test1 = dataset_test[7:]\n",
    "print(dataset_test1.shape)\n",
    "dataset_total = pd.concat((dataset_train, dataset_test), axis = 0)\n",
    "inputs = dataset_total[len(dataset_total) - len(dataset_test) - 60:].values\n",
    "inputs = inputs.reshape(-1,1)\n",
    "inputs = sc.transform(inputs)\n",
    "X_test = []\n",
    "for i in range(60+7, 588):\n",
    "    X_test.append(inputs[i-60:i, 0])\n",
    "X_test = np.array(X_test)\n",
    "X_test = np.reshape(X_test, (X_test.shape[0], X_test.shape[1], 1))\n",
    "print(X_test.shape)"
   ]
  },
  {
   "cell_type": "markdown",
   "metadata": {
    "id": "mI_X_PPpHunE"
   },
   "source": [
    "Make predictions using the test set"
   ]
  },
  {
   "cell_type": "code",
   "execution_count": 174,
   "metadata": {
    "id": "t87EvM8WHunG"
   },
   "outputs": [],
   "source": [
    "predicted_stock_price = model.predict(X_test)\n",
    "predicted_stock_price = sc.inverse_transform(predicted_stock_price)"
   ]
  },
  {
   "cell_type": "markdown",
   "metadata": {
    "id": "odNjiryMHunJ"
   },
   "source": [
    "Visualize the results"
   ]
  },
  {
   "cell_type": "code",
   "execution_count": 175,
   "metadata": {
    "id": "Xtyu4pXdHunK",
    "outputId": "fd59f47c-fcf3-494e-a37f-f2e63b0a7b36",
    "colab": {
     "base_uri": "https://localhost:8080/",
     "height": 513.0
    }
   },
   "outputs": [
    {
     "data": {
      "image/png": "[encoded data removed]",
      "text/plain": [
       "<Figure size 864x576 with 1 Axes>"
      ]
     },
     "metadata": {
      "tags": [],
      "needs_background": "light"
     },
     "output_type": "display_data"
    }
   ],
   "source": [
    "# Visualising the results\n",
    "fig = plt.figure(figsize=(12,8))\n",
    "plt.plot(df.loc[800+7:, 'Date'],dataset_test1.values, color = 'red', label = 'Real TESLA Stock Price')\n",
    "plt.plot(df.loc[800+7:, 'Date'],predicted_stock_price, color = 'blue', label = 'Predicted TESLA Stock Price')\n",
    "plt.xticks(np.arange(0,528,50))\n",
    "plt.title('TESLA Stock Price Prediction')\n",
    "plt.xlabel('Time')\n",
    "plt.ylabel('TESLA Stock Price')\n",
    "plt.legend()\n",
    "plt.show()"
   ]
  },
  {
   "cell_type": "markdown",
   "metadata": {
    "id": "uJQllZPwJu1j"
   },
   "source": [
    "## Lag: 14, Hidden Layers: 4, Dropout Rate: 0.2"
   ]
  },
  {
   "cell_type": "markdown",
   "metadata": {
    "id": "81hKTZcZJu1k"
   },
   "source": [
    "14 day"
   ]
  },
  {
   "cell_type": "code",
   "execution_count": 166,
   "metadata": {
    "id": "mBoWZdkWJu1m",
    "outputId": "bb6d58a2-6961-4def-c848-3b54fc4a5de9",
    "colab": {
     "base_uri": "https://localhost:8080/",
     "height": 35.0
    }
   },
   "outputs": [
    {
     "data": {
      "text/plain": [
       "(726, 60, 1)"
      ]
     },
     "execution_count": 166,
     "metadata": {
      "tags": []
     },
     "output_type": "execute_result"
    }
   ],
   "source": [
    "# Feature Scaling\n",
    "sc = MinMaxScaler(feature_range = (0, 1))\n",
    "training_set_scaled = sc.fit_transform(training_set)\n",
    "# Creating a data structure with 60 time-steps and 1 output\n",
    "X_train = []\n",
    "y_train = []\n",
    "for i in range(60, 800-14):\n",
    "    X_train.append(training_set_scaled[i-60:i, 0])\n",
    "    y_train.append(training_set_scaled[i+13, 0])\n",
    "X_train, y_train = np.array(X_train), np.array(y_train)\n",
    "X_train = np.reshape(X_train, (X_train.shape[0], X_train.shape[1], 1))\n",
    "X_train.shape"
   ]
  },
  {
   "cell_type": "markdown",
   "metadata": {
    "id": "JQ0k1GecJu1q"
   },
   "source": [
    "Build LSTM mode, with 50 neurons and 4 layers, droupout rate = 0.2"
   ]
  },
  {
   "cell_type": "code",
   "execution_count": 167,
   "metadata": {
    "id": "t--s7dS2Ju1q",
    "outputId": "5c21af80-fdbb-449a-d9a0-cc718664b4e7",
    "colab": {
     "base_uri": "https://localhost:8080/",
     "height": 1000.0
    }
   },
   "outputs": [
    {
     "name": "stdout",
     "output_type": "stream",
     "text": [
      "Epoch 1/100\n",
      "23/23 [==============================] - 0s 16ms/step - loss: 0.0697\n",
      "Epoch 2/100\n",
      "23/23 [==============================] - 0s 15ms/step - loss: 0.0252\n",
      "Epoch 3/100\n",
      "23/23 [==============================] - 0s 16ms/step - loss: 0.0186\n",
      "Epoch 4/100\n",
      "23/23 [==============================] - 0s 13ms/step - loss: 0.0199\n",
      "Epoch 5/100\n",
      "23/23 [==============================] - 0s 14ms/step - loss: 0.0190\n",
      "Epoch 6/100\n",
      "23/23 [==============================] - 0s 14ms/step - loss: 0.0185\n",
      "Epoch 7/100\n",
      "23/23 [==============================] - 0s 13ms/step - loss: 0.0187\n",
      "Epoch 8/100\n",
      "23/23 [==============================] - 0s 13ms/step - loss: 0.0171\n",
      "Epoch 9/100\n",
      "23/23 [==============================] - 0s 14ms/step - loss: 0.0179\n",
      "Epoch 10/100\n",
      "23/23 [==============================] - 0s 13ms/step - loss: 0.0177\n",
      "Epoch 11/100\n",
      "23/23 [==============================] - 0s 13ms/step - loss: 0.0186\n",
      "Epoch 12/100\n",
      "23/23 [==============================] - 0s 13ms/step - loss: 0.0170\n",
      "Epoch 13/100\n",
      "23/23 [==============================] - 0s 13ms/step - loss: 0.0184\n",
      "Epoch 14/100\n",
      "23/23 [==============================] - 0s 13ms/step - loss: 0.0175\n",
      "Epoch 15/100\n",
      "23/23 [==============================] - 0s 13ms/step - loss: 0.0163\n",
      "Epoch 16/100\n",
      "23/23 [==============================] - 0s 13ms/step - loss: 0.0180\n",
      "Epoch 17/100\n",
      "23/23 [==============================] - 0s 14ms/step - loss: 0.0167\n",
      "Epoch 18/100\n",
      "23/23 [==============================] - 0s 13ms/step - loss: 0.0175\n",
      "Epoch 19/100\n",
      "23/23 [==============================] - 0s 14ms/step - loss: 0.0178\n",
      "Epoch 20/100\n",
      "23/23 [==============================] - 0s 13ms/step - loss: 0.0162\n",
      "Epoch 21/100\n",
      "23/23 [==============================] - 0s 14ms/step - loss: 0.0177\n",
      "Epoch 22/100\n",
      "23/23 [==============================] - 0s 14ms/step - loss: 0.0165\n",
      "Epoch 23/100\n",
      "23/23 [==============================] - 0s 16ms/step - loss: 0.0161\n",
      "Epoch 24/100\n",
      "23/23 [==============================] - 0s 15ms/step - loss: 0.0157\n",
      "Epoch 25/100\n",
      "23/23 [==============================] - 0s 15ms/step - loss: 0.0165\n",
      "Epoch 26/100\n",
      "23/23 [==============================] - 0s 13ms/step - loss: 0.0152\n",
      "Epoch 27/100\n",
      "23/23 [==============================] - 0s 14ms/step - loss: 0.0157\n",
      "Epoch 28/100\n",
      "23/23 [==============================] - 0s 14ms/step - loss: 0.0126\n",
      "Epoch 29/100\n",
      "23/23 [==============================] - 0s 13ms/step - loss: 0.0121\n",
      "Epoch 30/100\n",
      "23/23 [==============================] - 0s 14ms/step - loss: 0.0109\n",
      "Epoch 31/100\n",
      "23/23 [==============================] - 0s 15ms/step - loss: 0.0116\n",
      "Epoch 32/100\n",
      "23/23 [==============================] - 0s 14ms/step - loss: 0.0113\n",
      "Epoch 33/100\n",
      "23/23 [==============================] - 0s 14ms/step - loss: 0.0123\n",
      "Epoch 34/100\n",
      "23/23 [==============================] - 0s 14ms/step - loss: 0.0113\n",
      "Epoch 35/100\n",
      "23/23 [==============================] - 0s 14ms/step - loss: 0.0112\n",
      "Epoch 36/100\n",
      "23/23 [==============================] - 0s 15ms/step - loss: 0.0118\n",
      "Epoch 37/100\n",
      "23/23 [==============================] - 0s 16ms/step - loss: 0.0112\n",
      "Epoch 38/100\n",
      "23/23 [==============================] - 0s 16ms/step - loss: 0.0101\n",
      "Epoch 39/100\n",
      "23/23 [==============================] - 0s 14ms/step - loss: 0.0105\n",
      "Epoch 40/100\n",
      "23/23 [==============================] - 0s 13ms/step - loss: 0.0100\n",
      "Epoch 41/100\n",
      "23/23 [==============================] - 0s 14ms/step - loss: 0.0106\n",
      "Epoch 42/100\n",
      "23/23 [==============================] - 0s 14ms/step - loss: 0.0104\n",
      "Epoch 43/100\n",
      "23/23 [==============================] - 0s 14ms/step - loss: 0.0095\n",
      "Epoch 44/100\n",
      "23/23 [==============================] - 0s 14ms/step - loss: 0.0108\n",
      "Epoch 45/100\n",
      "23/23 [==============================] - 0s 13ms/step - loss: 0.0097\n",
      "Epoch 46/100\n",
      "23/23 [==============================] - 0s 13ms/step - loss: 0.0093\n",
      "Epoch 47/100\n",
      "23/23 [==============================] - 0s 14ms/step - loss: 0.0085\n",
      "Epoch 48/100\n",
      "23/23 [==============================] - 0s 14ms/step - loss: 0.0096\n",
      "Epoch 49/100\n",
      "23/23 [==============================] - 0s 14ms/step - loss: 0.0098\n",
      "Epoch 50/100\n",
      "23/23 [==============================] - 0s 14ms/step - loss: 0.0094\n",
      "Epoch 51/100\n",
      "23/23 [==============================] - 0s 13ms/step - loss: 0.0094\n",
      "Epoch 52/100\n",
      "23/23 [==============================] - 0s 14ms/step - loss: 0.0084\n",
      "Epoch 53/100\n",
      "23/23 [==============================] - 0s 14ms/step - loss: 0.0094\n",
      "Epoch 54/100\n",
      "23/23 [==============================] - 0s 15ms/step - loss: 0.0085\n",
      "Epoch 55/100\n",
      "23/23 [==============================] - 0s 14ms/step - loss: 0.0083\n",
      "Epoch 56/100\n",
      "23/23 [==============================] - 0s 14ms/step - loss: 0.0084\n",
      "Epoch 57/100\n",
      "23/23 [==============================] - 0s 13ms/step - loss: 0.0084\n",
      "Epoch 58/100\n",
      "23/23 [==============================] - 0s 14ms/step - loss: 0.0081\n",
      "Epoch 59/100\n",
      "23/23 [==============================] - 0s 13ms/step - loss: 0.0073\n",
      "Epoch 60/100\n",
      "23/23 [==============================] - 0s 14ms/step - loss: 0.0074\n",
      "Epoch 61/100\n",
      "23/23 [==============================] - 0s 13ms/step - loss: 0.0072\n",
      "Epoch 62/100\n",
      "23/23 [==============================] - 0s 13ms/step - loss: 0.0079\n",
      "Epoch 63/100\n",
      "23/23 [==============================] - 0s 13ms/step - loss: 0.0077\n",
      "Epoch 64/100\n",
      "23/23 [==============================] - 0s 13ms/step - loss: 0.0077\n",
      "Epoch 65/100\n",
      "23/23 [==============================] - 0s 14ms/step - loss: 0.0071\n",
      "Epoch 66/100\n",
      "23/23 [==============================] - 0s 14ms/step - loss: 0.0069\n",
      "Epoch 67/100\n",
      "23/23 [==============================] - 0s 15ms/step - loss: 0.0071\n",
      "Epoch 68/100\n",
      "23/23 [==============================] - 0s 16ms/step - loss: 0.0067\n",
      "Epoch 69/100\n",
      "23/23 [==============================] - 0s 13ms/step - loss: 0.0069\n",
      "Epoch 70/100\n",
      "23/23 [==============================] - 0s 14ms/step - loss: 0.0081\n",
      "Epoch 71/100\n",
      "23/23 [==============================] - 0s 14ms/step - loss: 0.0078\n",
      "Epoch 72/100\n",
      "23/23 [==============================] - 0s 15ms/step - loss: 0.0067\n",
      "Epoch 73/100\n",
      "23/23 [==============================] - 0s 13ms/step - loss: 0.0069\n",
      "Epoch 74/100\n",
      "23/23 [==============================] - 0s 15ms/step - loss: 0.0069\n",
      "Epoch 75/100\n",
      "23/23 [==============================] - 0s 15ms/step - loss: 0.0068\n",
      "Epoch 76/100\n",
      "23/23 [==============================] - 0s 13ms/step - loss: 0.0070\n",
      "Epoch 77/100\n",
      "23/23 [==============================] - 0s 14ms/step - loss: 0.0067\n",
      "Epoch 78/100\n",
      "23/23 [==============================] - 0s 15ms/step - loss: 0.0064\n",
      "Epoch 79/100\n",
      "23/23 [==============================] - 0s 13ms/step - loss: 0.0063\n",
      "Epoch 80/100\n",
      "23/23 [==============================] - 0s 13ms/step - loss: 0.0062\n",
      "Epoch 81/100\n",
      "23/23 [==============================] - 0s 14ms/step - loss: 0.0056\n",
      "Epoch 82/100\n",
      "23/23 [==============================] - 0s 16ms/step - loss: 0.0057\n",
      "Epoch 83/100\n",
      "23/23 [==============================] - 0s 15ms/step - loss: 0.0064\n",
      "Epoch 84/100\n",
      "23/23 [==============================] - 0s 15ms/step - loss: 0.0061\n",
      "Epoch 85/100\n",
      "23/23 [==============================] - 0s 13ms/step - loss: 0.0058\n",
      "Epoch 86/100\n",
      "23/23 [==============================] - 0s 13ms/step - loss: 0.0053\n",
      "Epoch 87/100\n",
      "23/23 [==============================] - 0s 14ms/step - loss: 0.0052\n",
      "Epoch 88/100\n",
      "23/23 [==============================] - 0s 14ms/step - loss: 0.0055\n",
      "Epoch 89/100\n",
      "23/23 [==============================] - 0s 13ms/step - loss: 0.0052\n",
      "Epoch 90/100\n",
      "23/23 [==============================] - 0s 15ms/step - loss: 0.0050\n",
      "Epoch 91/100\n",
      "23/23 [==============================] - 0s 13ms/step - loss: 0.0057\n",
      "Epoch 92/100\n",
      "23/23 [==============================] - 0s 14ms/step - loss: 0.0054\n",
      "Epoch 93/100\n",
      "23/23 [==============================] - 0s 14ms/step - loss: 0.0059\n",
      "Epoch 94/100\n",
      "23/23 [==============================] - 0s 13ms/step - loss: 0.0056\n",
      "Epoch 95/100\n",
      "23/23 [==============================] - 0s 14ms/step - loss: 0.0052\n",
      "Epoch 96/100\n",
      "23/23 [==============================] - 0s 15ms/step - loss: 0.0053\n",
      "Epoch 97/100\n",
      "23/23 [==============================] - 0s 17ms/step - loss: 0.0052\n",
      "Epoch 98/100\n",
      "23/23 [==============================] - 0s 15ms/step - loss: 0.0051\n",
      "Epoch 99/100\n",
      "23/23 [==============================] - 0s 14ms/step - loss: 0.0047\n",
      "Epoch 100/100\n",
      "23/23 [==============================] - 0s 13ms/step - loss: 0.0051\n"
     ]
    },
    {
     "data": {
      "text/plain": [
       "<tensorflow.python.keras.callbacks.History at 0x7f298a005fd0>"
      ]
     },
     "execution_count": 167,
     "metadata": {
      "tags": []
     },
     "output_type": "execute_result"
    }
   ],
   "source": [
    "model = Sequential()\n",
    "#Adding the first LSTM layer and some Dropout regularisation\n",
    "model.add(LSTM(units = 50, return_sequences = True, input_shape = (X_train.shape[1], 1)))\n",
    "model.add(Dropout(0.2))\n",
    "# Adding a second LSTM layer and some Dropout regularisation\n",
    "model.add(LSTM(units = 50, return_sequences = True))\n",
    "model.add(Dropout(0.2))\n",
    "# Adding a third LSTM layer and some Dropout regularisation\n",
    "model.add(LSTM(units = 50, return_sequences = True))\n",
    "model.add(Dropout(0.2))\n",
    "# Adding a fourth LSTM layer and some Dropout regularisation\n",
    "model.add(LSTM(units = 50))\n",
    "model.add(Dropout(0.2))\n",
    "# Adding the output layer\n",
    "model.add(Dense(units = 1))\n",
    "\n",
    "# Compiling the RNN\n",
    "model.compile(optimizer = 'adam', loss = 'mean_squared_error')\n",
    "\n",
    "# Fitting the RNN to the Training set\n",
    "model.fit(X_train, y_train, epochs = 100, batch_size = 32)"
   ]
  },
  {
   "cell_type": "code",
   "execution_count": 168,
   "metadata": {
    "id": "Wvvt4ZSsJu1v",
    "outputId": "dc64b56f-aa58-4390-984d-da68ced0ba06",
    "colab": {
     "base_uri": "https://localhost:8080/",
     "height": 52.0
    }
   },
   "outputs": [
    {
     "name": "stdout",
     "output_type": "stream",
     "text": [
      "(514, 1)\n",
      "(514, 60, 1)\n"
     ]
    }
   ],
   "source": [
    "# Getting the predicted stock price\n",
    "dataset_train = df.iloc[:800, 1:2]\n",
    "dataset_test = df.iloc[800:, 1:2]\n",
    "dataset_test1 = dataset_test[14:]\n",
    "print(dataset_test1.shape)\n",
    "dataset_total = pd.concat((dataset_train, dataset_test), axis = 0)\n",
    "inputs = dataset_total[len(dataset_total) - len(dataset_test) - 60:].values\n",
    "inputs = inputs.reshape(-1,1)\n",
    "inputs = sc.transform(inputs)\n",
    "X_test = []\n",
    "for i in range(60+14, 588):\n",
    "    X_test.append(inputs[i-60:i, 0])\n",
    "X_test = np.array(X_test)\n",
    "X_test = np.reshape(X_test, (X_test.shape[0], X_test.shape[1], 1))\n",
    "print(X_test.shape)"
   ]
  },
  {
   "cell_type": "markdown",
   "metadata": {
    "id": "t7CGU9xLJu1z"
   },
   "source": [
    "Make predictions using the test set"
   ]
  },
  {
   "cell_type": "code",
   "execution_count": 169,
   "metadata": {
    "id": "pr-8OnUqJu1z"
   },
   "outputs": [],
   "source": [
    "predicted_stock_price = model.predict(X_test)\n",
    "predicted_stock_price = sc.inverse_transform(predicted_stock_price)"
   ]
  },
  {
   "cell_type": "markdown",
   "metadata": {
    "id": "zRTREV33Ju12"
   },
   "source": [
    "Visualize the results"
   ]
  },
  {
   "cell_type": "code",
   "execution_count": 170,
   "metadata": {
    "id": "SAg8BR0mJu15",
    "outputId": "c947ad57-c9e4-4da4-e291-633c75919efd",
    "colab": {
     "base_uri": "https://localhost:8080/",
     "height": 513.0
    }
   },
   "outputs": [
    {
     "data": {
      "image/png": "[encoded data removed]",
      "text/plain": [
       "<Figure size 864x576 with 1 Axes>"
      ]
     },
     "metadata": {
      "tags": [],
      "needs_background": "light"
     },
     "output_type": "display_data"
    }
   ],
   "source": [
    "# Visualising the results\n",
    "fig = plt.figure(figsize=(12,8))\n",
    "plt.plot(df.loc[800+14:, 'Date'],dataset_test1.values, color = 'red', label = 'Real TESLA Stock Price')\n",
    "plt.plot(df.loc[800+14:, 'Date'],predicted_stock_price, color = 'blue', label = 'Predicted TESLA Stock Price')\n",
    "plt.xticks(np.arange(0,528,50))\n",
    "plt.title('TESLA Stock Price Prediction')\n",
    "plt.xlabel('Time')\n",
    "plt.ylabel('TESLA Stock Price')\n",
    "plt.legend()\n",
    "plt.show()"
   ]
  },
  {
   "cell_type": "markdown",
   "metadata": {
    "id": "BHaHeDuHVM8s"
   },
   "source": [
    "## Comparison 1: 4 vs 6 hidden layer"
   ]
  },
  {
   "cell_type": "markdown",
   "metadata": {
    "id": "unI05gDpNNpC"
   },
   "source": [
    "## Lag: 1, Hidden Layers: 6, Dropout Rate: 0.2"
   ]
  },
  {
   "cell_type": "markdown",
   "metadata": {
    "id": "gvEdtPRiNNpN"
   },
   "source": [
    "1 day"
   ]
  },
  {
   "cell_type": "code",
   "execution_count": 35,
   "metadata": {
    "id": "gvoW66JRNNpP",
    "outputId": "736dbcac-d900-4128-ca1e-4a1afab1a0e3",
    "colab": {
     "base_uri": "https://localhost:8080/",
     "height": 35.0
    }
   },
   "outputs": [
    {
     "data": {
      "text/plain": [
       "(740, 60, 1)"
      ]
     },
     "execution_count": 35,
     "metadata": {
      "tags": []
     },
     "output_type": "execute_result"
    }
   ],
   "source": [
    "# Feature Scaling\n",
    "sc = MinMaxScaler(feature_range = (0, 1))\n",
    "training_set_scaled = sc.fit_transform(training_set)\n",
    "# Creating a data structure with 60 time-steps and 1 output\n",
    "X_train = []\n",
    "y_train = []\n",
    "for i in range(60, 800):\n",
    "    X_train.append(training_set_scaled[i-60:i, 0])\n",
    "    y_train.append(training_set_scaled[i, 0])\n",
    "X_train, y_train = np.array(X_train), np.array(y_train)\n",
    "X_train = np.reshape(X_train, (X_train.shape[0], X_train.shape[1], 1))\n",
    "X_train.shape"
   ]
  },
  {
   "cell_type": "markdown",
   "metadata": {
    "id": "cg1VP1wsNNpY"
   },
   "source": [
    "Build LSTM mode, with 50 neurons and 6 layers, droupout rate = 0.2"
   ]
  },
  {
   "cell_type": "code",
   "execution_count": 36,
   "metadata": {
    "id": "Nb2LQngbNNpZ",
    "outputId": "be0469ed-dcdf-4f0f-85da-97eea51d1d68",
    "colab": {
     "base_uri": "https://localhost:8080/",
     "height": 1000.0
    }
   },
   "outputs": [
    {
     "name": "stdout",
     "output_type": "stream",
     "text": [
      "Epoch 1/100\n",
      "24/24 [==============================] - 1s 21ms/step - loss: 0.0710\n",
      "Epoch 2/100\n",
      "24/24 [==============================] - 0s 18ms/step - loss: 0.0250\n",
      "Epoch 3/100\n",
      "24/24 [==============================] - 0s 20ms/step - loss: 0.0166\n",
      "Epoch 4/100\n",
      "24/24 [==============================] - 0s 20ms/step - loss: 0.0163\n",
      "Epoch 5/100\n",
      "24/24 [==============================] - 0s 19ms/step - loss: 0.0154\n",
      "Epoch 6/100\n",
      "24/24 [==============================] - 0s 18ms/step - loss: 0.0153\n",
      "Epoch 7/100\n",
      "24/24 [==============================] - 0s 19ms/step - loss: 0.0145\n",
      "Epoch 8/100\n",
      "24/24 [==============================] - 0s 18ms/step - loss: 0.0138\n",
      "Epoch 9/100\n",
      "24/24 [==============================] - 1s 21ms/step - loss: 0.0133\n",
      "Epoch 10/100\n",
      "24/24 [==============================] - 1s 21ms/step - loss: 0.0125\n",
      "Epoch 11/100\n",
      "24/24 [==============================] - 0s 20ms/step - loss: 0.0136\n",
      "Epoch 12/100\n",
      "24/24 [==============================] - 1s 22ms/step - loss: 0.0124\n",
      "Epoch 13/100\n",
      "24/24 [==============================] - 0s 19ms/step - loss: 0.0129\n",
      "Epoch 14/100\n",
      "24/24 [==============================] - 0s 18ms/step - loss: 0.0130\n",
      "Epoch 15/100\n",
      "24/24 [==============================] - 0s 19ms/step - loss: 0.0114\n",
      "Epoch 16/100\n",
      "24/24 [==============================] - 0s 19ms/step - loss: 0.0101\n",
      "Epoch 17/100\n",
      "24/24 [==============================] - 0s 19ms/step - loss: 0.0098\n",
      "Epoch 18/100\n",
      "24/24 [==============================] - 0s 18ms/step - loss: 0.0092\n",
      "Epoch 19/100\n",
      "24/24 [==============================] - 0s 21ms/step - loss: 0.0100\n",
      "Epoch 20/100\n",
      "24/24 [==============================] - 0s 19ms/step - loss: 0.0087\n",
      "Epoch 21/100\n",
      "24/24 [==============================] - 0s 19ms/step - loss: 0.0087\n",
      "Epoch 22/100\n",
      "24/24 [==============================] - 1s 21ms/step - loss: 0.0089\n",
      "Epoch 23/100\n",
      "24/24 [==============================] - 0s 19ms/step - loss: 0.0083\n",
      "Epoch 24/100\n",
      "24/24 [==============================] - 0s 18ms/step - loss: 0.0084\n",
      "Epoch 25/100\n",
      "24/24 [==============================] - 0s 19ms/step - loss: 0.0074\n",
      "Epoch 26/100\n",
      "24/24 [==============================] - 0s 18ms/step - loss: 0.0069\n",
      "Epoch 27/100\n",
      "24/24 [==============================] - 0s 18ms/step - loss: 0.0083\n",
      "Epoch 28/100\n",
      "24/24 [==============================] - 0s 19ms/step - loss: 0.0068\n",
      "Epoch 29/100\n",
      "24/24 [==============================] - 0s 19ms/step - loss: 0.0069\n",
      "Epoch 30/100\n",
      "24/24 [==============================] - 0s 19ms/step - loss: 0.0075\n",
      "Epoch 31/100\n",
      "24/24 [==============================] - 0s 18ms/step - loss: 0.0071\n",
      "Epoch 32/100\n",
      "24/24 [==============================] - 0s 19ms/step - loss: 0.0071\n",
      "Epoch 33/100\n",
      "24/24 [==============================] - 0s 20ms/step - loss: 0.0064\n",
      "Epoch 34/100\n",
      "24/24 [==============================] - 0s 18ms/step - loss: 0.0060\n",
      "Epoch 35/100\n",
      "24/24 [==============================] - 0s 18ms/step - loss: 0.0070\n",
      "Epoch 36/100\n",
      "24/24 [==============================] - 0s 21ms/step - loss: 0.0063\n",
      "Epoch 37/100\n",
      "24/24 [==============================] - 1s 21ms/step - loss: 0.0072\n",
      "Epoch 38/100\n",
      "24/24 [==============================] - 0s 20ms/step - loss: 0.0059\n",
      "Epoch 39/100\n",
      "24/24 [==============================] - 0s 18ms/step - loss: 0.0055\n",
      "Epoch 40/100\n",
      "24/24 [==============================] - 1s 21ms/step - loss: 0.0064\n",
      "Epoch 41/100\n",
      "24/24 [==============================] - 1s 21ms/step - loss: 0.0055\n",
      "Epoch 42/100\n",
      "24/24 [==============================] - 1s 21ms/step - loss: 0.0054\n",
      "Epoch 43/100\n",
      "24/24 [==============================] - 0s 20ms/step - loss: 0.0056\n",
      "Epoch 44/100\n",
      "24/24 [==============================] - 0s 19ms/step - loss: 0.0053\n",
      "Epoch 45/100\n",
      "24/24 [==============================] - 0s 19ms/step - loss: 0.0054\n",
      "Epoch 46/100\n",
      "24/24 [==============================] - 0s 19ms/step - loss: 0.0049\n",
      "Epoch 47/100\n",
      "24/24 [==============================] - 0s 19ms/step - loss: 0.0051\n",
      "Epoch 48/100\n",
      "24/24 [==============================] - 1s 21ms/step - loss: 0.0050\n",
      "Epoch 49/100\n",
      "24/24 [==============================] - 1s 23ms/step - loss: 0.0051\n",
      "Epoch 50/100\n",
      "24/24 [==============================] - 0s 20ms/step - loss: 0.0056\n",
      "Epoch 51/100\n",
      "24/24 [==============================] - 0s 20ms/step - loss: 0.0053\n",
      "Epoch 52/100\n",
      "24/24 [==============================] - 0s 20ms/step - loss: 0.0045\n",
      "Epoch 53/100\n",
      "24/24 [==============================] - 0s 19ms/step - loss: 0.0046\n",
      "Epoch 54/100\n",
      "24/24 [==============================] - 0s 21ms/step - loss: 0.0045\n",
      "Epoch 55/100\n",
      "24/24 [==============================] - 1s 21ms/step - loss: 0.0044\n",
      "Epoch 56/100\n",
      "24/24 [==============================] - 1s 23ms/step - loss: 0.0043\n",
      "Epoch 57/100\n",
      "24/24 [==============================] - 0s 20ms/step - loss: 0.0041\n",
      "Epoch 58/100\n",
      "24/24 [==============================] - 0s 20ms/step - loss: 0.0044\n",
      "Epoch 59/100\n",
      "24/24 [==============================] - 0s 19ms/step - loss: 0.0045\n",
      "Epoch 60/100\n",
      "24/24 [==============================] - 0s 19ms/step - loss: 0.0046\n",
      "Epoch 61/100\n",
      "24/24 [==============================] - 0s 19ms/step - loss: 0.0039\n",
      "Epoch 62/100\n",
      "24/24 [==============================] - 0s 19ms/step - loss: 0.0053\n",
      "Epoch 63/100\n",
      "24/24 [==============================] - 0s 19ms/step - loss: 0.0044\n",
      "Epoch 64/100\n",
      "24/24 [==============================] - 0s 19ms/step - loss: 0.0042\n",
      "Epoch 65/100\n",
      "24/24 [==============================] - 0s 20ms/step - loss: 0.0042\n",
      "Epoch 66/100\n",
      "24/24 [==============================] - 0s 19ms/step - loss: 0.0043\n",
      "Epoch 67/100\n",
      "24/24 [==============================] - 0s 20ms/step - loss: 0.0042\n",
      "Epoch 68/100\n",
      "24/24 [==============================] - 1s 23ms/step - loss: 0.0042\n",
      "Epoch 69/100\n",
      "24/24 [==============================] - 0s 21ms/step - loss: 0.0040\n",
      "Epoch 70/100\n",
      "24/24 [==============================] - 0s 19ms/step - loss: 0.0044\n",
      "Epoch 71/100\n",
      "24/24 [==============================] - 0s 20ms/step - loss: 0.0039\n",
      "Epoch 72/100\n",
      "24/24 [==============================] - 1s 22ms/step - loss: 0.0040\n",
      "Epoch 73/100\n",
      "24/24 [==============================] - 0s 19ms/step - loss: 0.0040\n",
      "Epoch 74/100\n",
      "24/24 [==============================] - 1s 23ms/step - loss: 0.0040\n",
      "Epoch 75/100\n",
      "24/24 [==============================] - 1s 21ms/step - loss: 0.0042\n",
      "Epoch 76/100\n",
      "24/24 [==============================] - 1s 22ms/step - loss: 0.0038\n",
      "Epoch 77/100\n",
      "24/24 [==============================] - 0s 19ms/step - loss: 0.0041\n",
      "Epoch 78/100\n",
      "24/24 [==============================] - 0s 19ms/step - loss: 0.0038\n",
      "Epoch 79/100\n",
      "24/24 [==============================] - 0s 20ms/step - loss: 0.0043\n",
      "Epoch 80/100\n",
      "24/24 [==============================] - 0s 19ms/step - loss: 0.0039\n",
      "Epoch 81/100\n",
      "24/24 [==============================] - 1s 21ms/step - loss: 0.0034\n",
      "Epoch 82/100\n",
      "24/24 [==============================] - 1s 21ms/step - loss: 0.0041\n",
      "Epoch 83/100\n",
      "24/24 [==============================] - 1s 22ms/step - loss: 0.0037\n",
      "Epoch 84/100\n",
      "24/24 [==============================] - 1s 22ms/step - loss: 0.0041\n",
      "Epoch 85/100\n",
      "24/24 [==============================] - 1s 21ms/step - loss: 0.0036\n",
      "Epoch 86/100\n",
      "24/24 [==============================] - 1s 22ms/step - loss: 0.0037\n",
      "Epoch 87/100\n",
      "24/24 [==============================] - 1s 23ms/step - loss: 0.0045\n",
      "Epoch 88/100\n",
      "24/24 [==============================] - 0s 20ms/step - loss: 0.0031\n",
      "Epoch 89/100\n",
      "24/24 [==============================] - 0s 19ms/step - loss: 0.0032\n",
      "Epoch 90/100\n",
      "24/24 [==============================] - 0s 18ms/step - loss: 0.0038\n",
      "Epoch 91/100\n",
      "24/24 [==============================] - 0s 19ms/step - loss: 0.0030\n",
      "Epoch 92/100\n",
      "24/24 [==============================] - 0s 19ms/step - loss: 0.0037\n",
      "Epoch 93/100\n",
      "24/24 [==============================] - 0s 19ms/step - loss: 0.0035\n",
      "Epoch 94/100\n",
      "24/24 [==============================] - 0s 18ms/step - loss: 0.0031\n",
      "Epoch 95/100\n",
      "24/24 [==============================] - 0s 18ms/step - loss: 0.0036\n",
      "Epoch 96/100\n",
      "24/24 [==============================] - 0s 19ms/step - loss: 0.0033\n",
      "Epoch 97/100\n",
      "24/24 [==============================] - 0s 20ms/step - loss: 0.0034\n",
      "Epoch 98/100\n",
      "24/24 [==============================] - 0s 18ms/step - loss: 0.0029\n",
      "Epoch 99/100\n",
      "24/24 [==============================] - 0s 19ms/step - loss: 0.0034\n",
      "Epoch 100/100\n",
      "24/24 [==============================] - 0s 19ms/step - loss: 0.0032\n"
     ]
    },
    {
     "data": {
      "text/plain": [
       "<tensorflow.python.keras.callbacks.History at 0x7f29b42c7e10>"
      ]
     },
     "execution_count": 36,
     "metadata": {
      "tags": []
     },
     "output_type": "execute_result"
    }
   ],
   "source": [
    "model = Sequential()\n",
    "#Adding the first LSTM layer and some Dropout regularisation\n",
    "model.add(LSTM(units = 50, return_sequences = True, input_shape = (X_train.shape[1], 1)))\n",
    "model.add(Dropout(0.2))\n",
    "# Adding a second LSTM layer and some Dropout regularisation\n",
    "model.add(LSTM(units = 50, return_sequences = True))\n",
    "model.add(Dropout(0.2))\n",
    "# Adding a third LSTM layer and some Dropout regularisation\n",
    "model.add(LSTM(units = 50, return_sequences = True))\n",
    "model.add(Dropout(0.2))\n",
    "# Adding a fourth LSTM layer and some Dropout regularisation\n",
    "model.add(LSTM(units = 50, return_sequences = True))\n",
    "model.add(Dropout(0.2))\n",
    "# Adding a fifth LSTM layer and some Dropout regularisation\n",
    "model.add(LSTM(units = 50, return_sequences = True))\n",
    "model.add(Dropout(0.2))\n",
    "# Adding a sixth LSTM layer and some Dropout regularisation\n",
    "model.add(LSTM(units = 50))\n",
    "model.add(Dropout(0.2))\n",
    "# Adding the output layer\n",
    "model.add(Dense(units = 1))\n",
    "\n",
    "# Compiling the RNN\n",
    "model.compile(optimizer = 'adam', loss = 'mean_squared_error')\n",
    "\n",
    "# Fitting the RNN to the Training set\n",
    "model.fit(X_train, y_train, epochs = 100, batch_size = 32)"
   ]
  },
  {
   "cell_type": "code",
   "execution_count": 37,
   "metadata": {
    "id": "ZMTYk7JgNNpe",
    "outputId": "61a5e99d-138f-4921-cf5f-996dddd3334f",
    "colab": {
     "base_uri": "https://localhost:8080/",
     "height": 52.0
    }
   },
   "outputs": [
    {
     "name": "stdout",
     "output_type": "stream",
     "text": [
      "(528, 1)\n",
      "(528, 60, 1)\n"
     ]
    }
   ],
   "source": [
    "# Getting the predicted stock price\n",
    "dataset_train = df.iloc[:800, 1:2]\n",
    "dataset_test = df.iloc[800:, 1:2]\n",
    "print(dataset_test.shape)\n",
    "dataset_total = pd.concat((dataset_train, dataset_test), axis = 0)\n",
    "inputs = dataset_total[len(dataset_total) - len(dataset_test) - 60:].values\n",
    "inputs = inputs.reshape(-1,1)\n",
    "inputs = sc.transform(inputs)\n",
    "X_test = []\n",
    "for i in range(60, 588):\n",
    "    X_test.append(inputs[i-60:i, 0])\n",
    "X_test = np.array(X_test)\n",
    "X_test = np.reshape(X_test, (X_test.shape[0], X_test.shape[1], 1))\n",
    "print(X_test.shape)"
   ]
  },
  {
   "cell_type": "markdown",
   "metadata": {
    "id": "b5TJX8TNNNpk"
   },
   "source": [
    "Make predictions using the test set"
   ]
  },
  {
   "cell_type": "code",
   "execution_count": 38,
   "metadata": {
    "id": "yboFY-pbNNpk"
   },
   "outputs": [],
   "source": [
    "predicted_stock_price = model.predict(X_test)\n",
    "predicted_stock_price = sc.inverse_transform(predicted_stock_price)"
   ]
  },
  {
   "cell_type": "markdown",
   "metadata": {
    "id": "zIejAjeiNNpo"
   },
   "source": [
    "Visualize the results"
   ]
  },
  {
   "cell_type": "code",
   "execution_count": 39,
   "metadata": {
    "id": "JbEC_ioBNNpo",
    "outputId": "8b33bca7-2d86-4d7e-97d8-f8d022832f53",
    "colab": {
     "base_uri": "https://localhost:8080/",
     "height": 513.0
    }
   },
   "outputs": [
    {
     "data": {
      "image/png": "[encoded data removed]",
      "text/plain": [
       "<Figure size 864x576 with 1 Axes>"
      ]
     },
     "metadata": {
      "tags": [],
      "needs_background": "light"
     },
     "output_type": "display_data"
    }
   ],
   "source": [
    "# Visualising the results\n",
    "fig = plt.figure(figsize=(12,8))\n",
    "plt.plot(df.loc[800:, 'Date'],dataset_test.values, color = 'red', label = 'Real TESLA Stock Price')\n",
    "plt.plot(df.loc[800:, 'Date'],predicted_stock_price, color = 'blue', label = 'Predicted TESLA Stock Price')\n",
    "plt.xticks(np.arange(0,528,50))\n",
    "plt.title('TESLA Stock Price Prediction')\n",
    "plt.xlabel('Time')\n",
    "plt.ylabel('TESLA Stock Price')\n",
    "plt.legend()\n",
    "plt.show()"
   ]
  },
  {
   "cell_type": "markdown",
   "metadata": {
    "id": "pQP63ej9O1vd"
   },
   "source": [
    "## Lag: 7, Hidden Layers: 6, Dropout Rate: 0.2"
   ]
  },
  {
   "cell_type": "markdown",
   "metadata": {
    "id": "edf6NVV4O1ve"
   },
   "source": [
    "7 day"
   ]
  },
  {
   "cell_type": "code",
   "execution_count": 161,
   "metadata": {
    "id": "fYcm7kFsO1vf",
    "outputId": "2cad937d-7547-4a07-f684-5d646c93e279",
    "colab": {
     "base_uri": "https://localhost:8080/",
     "height": 35.0
    }
   },
   "outputs": [
    {
     "data": {
      "text/plain": [
       "(733, 60, 1)"
      ]
     },
     "execution_count": 161,
     "metadata": {
      "tags": []
     },
     "output_type": "execute_result"
    }
   ],
   "source": [
    "# Feature Scaling\n",
    "sc = MinMaxScaler(feature_range = (0, 1))\n",
    "training_set_scaled = sc.fit_transform(training_set)\n",
    "# Creating a data structure with 60 time-steps and 1 output\n",
    "X_train = []\n",
    "y_train = []\n",
    "for i in range(60, 800-7):\n",
    "    X_train.append(training_set_scaled[i-60:i, 0])\n",
    "    y_train.append(training_set_scaled[i+6, 0])\n",
    "X_train, y_train = np.array(X_train), np.array(y_train)\n",
    "X_train = np.reshape(X_train, (X_train.shape[0], X_train.shape[1], 1))\n",
    "X_train.shape"
   ]
  },
  {
   "cell_type": "markdown",
   "metadata": {
    "id": "kgo_leroO1vj"
   },
   "source": [
    "Build LSTM mode, with 50 neurons and 6 layers, droupout rate = 0.2"
   ]
  },
  {
   "cell_type": "code",
   "execution_count": 162,
   "metadata": {
    "id": "VNZrJmyDO1vk",
    "outputId": "4e68e6c1-08e7-4bcb-8aa4-164452830593",
    "colab": {
     "base_uri": "https://localhost:8080/",
     "height": 1000.0
    }
   },
   "outputs": [
    {
     "name": "stdout",
     "output_type": "stream",
     "text": [
      "Epoch 1/100\n",
      "23/23 [==============================] - 0s 22ms/step - loss: 0.0820\n",
      "Epoch 2/100\n",
      "23/23 [==============================] - 1s 22ms/step - loss: 0.0232\n",
      "Epoch 3/100\n",
      "23/23 [==============================] - 0s 19ms/step - loss: 0.0190\n",
      "Epoch 4/100\n",
      "23/23 [==============================] - 0s 18ms/step - loss: 0.0183\n",
      "Epoch 5/100\n",
      "23/23 [==============================] - 0s 18ms/step - loss: 0.0174\n",
      "Epoch 6/100\n",
      "23/23 [==============================] - 0s 19ms/step - loss: 0.0180\n",
      "Epoch 7/100\n",
      "23/23 [==============================] - 0s 19ms/step - loss: 0.0184\n",
      "Epoch 8/100\n",
      "23/23 [==============================] - 0s 19ms/step - loss: 0.0168\n",
      "Epoch 9/100\n",
      "23/23 [==============================] - 0s 18ms/step - loss: 0.0181\n",
      "Epoch 10/100\n",
      "23/23 [==============================] - 0s 18ms/step - loss: 0.0165\n",
      "Epoch 11/100\n",
      "23/23 [==============================] - 0s 19ms/step - loss: 0.0159\n",
      "Epoch 12/100\n",
      "23/23 [==============================] - 0s 20ms/step - loss: 0.0158\n",
      "Epoch 13/100\n",
      "23/23 [==============================] - 0s 18ms/step - loss: 0.0144\n",
      "Epoch 14/100\n",
      "23/23 [==============================] - 0s 18ms/step - loss: 0.0132\n",
      "Epoch 15/100\n",
      "23/23 [==============================] - 0s 18ms/step - loss: 0.0121\n",
      "Epoch 16/100\n",
      "23/23 [==============================] - 0s 18ms/step - loss: 0.0110\n",
      "Epoch 17/100\n",
      "23/23 [==============================] - 0s 18ms/step - loss: 0.0111\n",
      "Epoch 18/100\n",
      "23/23 [==============================] - 0s 18ms/step - loss: 0.0104\n",
      "Epoch 19/100\n",
      "23/23 [==============================] - 0s 18ms/step - loss: 0.0104\n",
      "Epoch 20/100\n",
      "23/23 [==============================] - 0s 18ms/step - loss: 0.0110\n",
      "Epoch 21/100\n",
      "23/23 [==============================] - 0s 18ms/step - loss: 0.0096\n",
      "Epoch 22/100\n",
      "23/23 [==============================] - 0s 20ms/step - loss: 0.0102\n",
      "Epoch 23/100\n",
      "23/23 [==============================] - 0s 21ms/step - loss: 0.0110\n",
      "Epoch 24/100\n",
      "23/23 [==============================] - 0s 18ms/step - loss: 0.0105\n",
      "Epoch 25/100\n",
      "23/23 [==============================] - 0s 19ms/step - loss: 0.0093\n",
      "Epoch 26/100\n",
      "23/23 [==============================] - 0s 19ms/step - loss: 0.0104\n",
      "Epoch 27/100\n",
      "23/23 [==============================] - 0s 20ms/step - loss: 0.0103\n",
      "Epoch 28/100\n",
      "23/23 [==============================] - 1s 22ms/step - loss: 0.0099\n",
      "Epoch 29/100\n",
      "23/23 [==============================] - 0s 21ms/step - loss: 0.0088\n",
      "Epoch 30/100\n",
      "23/23 [==============================] - 0s 22ms/step - loss: 0.0086\n",
      "Epoch 31/100\n",
      "23/23 [==============================] - 0s 20ms/step - loss: 0.0087\n",
      "Epoch 32/100\n",
      "23/23 [==============================] - 1s 22ms/step - loss: 0.0096\n",
      "Epoch 33/100\n",
      "23/23 [==============================] - 1s 22ms/step - loss: 0.0083\n",
      "Epoch 34/100\n",
      "23/23 [==============================] - 0s 19ms/step - loss: 0.0083\n",
      "Epoch 35/100\n",
      "23/23 [==============================] - 0s 19ms/step - loss: 0.0079\n",
      "Epoch 36/100\n",
      "23/23 [==============================] - 0s 21ms/step - loss: 0.0074\n",
      "Epoch 37/100\n",
      "23/23 [==============================] - 0s 21ms/step - loss: 0.0075\n",
      "Epoch 38/100\n",
      "23/23 [==============================] - 0s 19ms/step - loss: 0.0080\n",
      "Epoch 39/100\n",
      "23/23 [==============================] - 1s 22ms/step - loss: 0.0071\n",
      "Epoch 40/100\n",
      "23/23 [==============================] - 0s 19ms/step - loss: 0.0066\n",
      "Epoch 41/100\n",
      "23/23 [==============================] - 0s 21ms/step - loss: 0.0069\n",
      "Epoch 42/100\n",
      "23/23 [==============================] - 0s 20ms/step - loss: 0.0066\n",
      "Epoch 43/100\n",
      "23/23 [==============================] - 0s 20ms/step - loss: 0.0071\n",
      "Epoch 44/100\n",
      "23/23 [==============================] - 0s 21ms/step - loss: 0.0064\n",
      "Epoch 45/100\n",
      "23/23 [==============================] - 0s 21ms/step - loss: 0.0069\n",
      "Epoch 46/100\n",
      "23/23 [==============================] - 0s 19ms/step - loss: 0.0064\n",
      "Epoch 47/100\n",
      "23/23 [==============================] - 1s 23ms/step - loss: 0.0064\n",
      "Epoch 48/100\n",
      "23/23 [==============================] - 0s 21ms/step - loss: 0.0065\n",
      "Epoch 49/100\n",
      "23/23 [==============================] - 1s 22ms/step - loss: 0.0066\n",
      "Epoch 50/100\n",
      "23/23 [==============================] - 0s 20ms/step - loss: 0.0067\n",
      "Epoch 51/100\n",
      "23/23 [==============================] - 0s 21ms/step - loss: 0.0068\n",
      "Epoch 52/100\n",
      "23/23 [==============================] - 1s 22ms/step - loss: 0.0071\n",
      "Epoch 53/100\n",
      "23/23 [==============================] - 0s 21ms/step - loss: 0.0063\n",
      "Epoch 54/100\n",
      "23/23 [==============================] - 0s 19ms/step - loss: 0.0063\n",
      "Epoch 55/100\n",
      "23/23 [==============================] - 0s 19ms/step - loss: 0.0060\n",
      "Epoch 56/100\n",
      "23/23 [==============================] - 0s 19ms/step - loss: 0.0056\n",
      "Epoch 57/100\n",
      "23/23 [==============================] - 0s 19ms/step - loss: 0.0059\n",
      "Epoch 58/100\n",
      "23/23 [==============================] - 0s 19ms/step - loss: 0.0062\n",
      "Epoch 59/100\n",
      "23/23 [==============================] - 0s 19ms/step - loss: 0.0062\n",
      "Epoch 60/100\n",
      "23/23 [==============================] - 0s 21ms/step - loss: 0.0063\n",
      "Epoch 61/100\n",
      "23/23 [==============================] - 0s 19ms/step - loss: 0.0061\n",
      "Epoch 62/100\n",
      "23/23 [==============================] - 0s 21ms/step - loss: 0.0057\n",
      "Epoch 63/100\n",
      "23/23 [==============================] - 0s 20ms/step - loss: 0.0059\n",
      "Epoch 64/100\n",
      "23/23 [==============================] - 0s 22ms/step - loss: 0.0050\n",
      "Epoch 65/100\n",
      "23/23 [==============================] - 0s 20ms/step - loss: 0.0053\n",
      "Epoch 66/100\n",
      "23/23 [==============================] - 0s 20ms/step - loss: 0.0052\n",
      "Epoch 67/100\n",
      "23/23 [==============================] - 0s 20ms/step - loss: 0.0057\n",
      "Epoch 68/100\n",
      "23/23 [==============================] - 0s 20ms/step - loss: 0.0045\n",
      "Epoch 69/100\n",
      "23/23 [==============================] - 0s 20ms/step - loss: 0.0044\n",
      "Epoch 70/100\n",
      "23/23 [==============================] - 0s 20ms/step - loss: 0.0055\n",
      "Epoch 71/100\n",
      "23/23 [==============================] - 0s 20ms/step - loss: 0.0053\n",
      "Epoch 72/100\n",
      "23/23 [==============================] - 0s 20ms/step - loss: 0.0049\n",
      "Epoch 73/100\n",
      "23/23 [==============================] - 0s 19ms/step - loss: 0.0060\n",
      "Epoch 74/100\n",
      "23/23 [==============================] - 1s 22ms/step - loss: 0.0043\n",
      "Epoch 75/100\n",
      "23/23 [==============================] - 1s 24ms/step - loss: 0.0046\n",
      "Epoch 76/100\n",
      "23/23 [==============================] - 1s 23ms/step - loss: 0.0045\n",
      "Epoch 77/100\n",
      "23/23 [==============================] - 1s 24ms/step - loss: 0.0046\n",
      "Epoch 78/100\n",
      "23/23 [==============================] - 0s 20ms/step - loss: 0.0043\n",
      "Epoch 79/100\n",
      "23/23 [==============================] - 1s 24ms/step - loss: 0.0038\n",
      "Epoch 80/100\n",
      "23/23 [==============================] - 0s 22ms/step - loss: 0.0043\n",
      "Epoch 81/100\n",
      "23/23 [==============================] - 0s 20ms/step - loss: 0.0042\n",
      "Epoch 82/100\n",
      "23/23 [==============================] - 0s 21ms/step - loss: 0.0043\n",
      "Epoch 83/100\n",
      "23/23 [==============================] - 0s 21ms/step - loss: 0.0043\n",
      "Epoch 84/100\n",
      "23/23 [==============================] - 0s 20ms/step - loss: 0.0044\n",
      "Epoch 85/100\n",
      "23/23 [==============================] - 0s 20ms/step - loss: 0.0041\n",
      "Epoch 86/100\n",
      "23/23 [==============================] - 1s 23ms/step - loss: 0.0037\n",
      "Epoch 87/100\n",
      "23/23 [==============================] - 1s 23ms/step - loss: 0.0039\n",
      "Epoch 88/100\n",
      "23/23 [==============================] - 1s 24ms/step - loss: 0.0044\n",
      "Epoch 89/100\n",
      "23/23 [==============================] - 0s 21ms/step - loss: 0.0043\n",
      "Epoch 90/100\n",
      "23/23 [==============================] - 0s 20ms/step - loss: 0.0038\n",
      "Epoch 91/100\n",
      "23/23 [==============================] - 0s 20ms/step - loss: 0.0037\n",
      "Epoch 92/100\n",
      "23/23 [==============================] - 0s 20ms/step - loss: 0.0036\n",
      "Epoch 93/100\n",
      "23/23 [==============================] - 0s 21ms/step - loss: 0.0034\n",
      "Epoch 94/100\n",
      "23/23 [==============================] - 0s 20ms/step - loss: 0.0034\n",
      "Epoch 95/100\n",
      "23/23 [==============================] - 0s 20ms/step - loss: 0.0040\n",
      "Epoch 96/100\n",
      "23/23 [==============================] - 1s 22ms/step - loss: 0.0038\n",
      "Epoch 97/100\n",
      "23/23 [==============================] - 1s 22ms/step - loss: 0.0045\n",
      "Epoch 98/100\n",
      "23/23 [==============================] - 0s 20ms/step - loss: 0.0037\n",
      "Epoch 99/100\n",
      "23/23 [==============================] - 0s 20ms/step - loss: 0.0035\n",
      "Epoch 100/100\n",
      "23/23 [==============================] - 1s 24ms/step - loss: 0.0039\n"
     ]
    },
    {
     "data": {
      "text/plain": [
       "<tensorflow.python.keras.callbacks.History at 0x7f29930a4f98>"
      ]
     },
     "execution_count": 162,
     "metadata": {
      "tags": []
     },
     "output_type": "execute_result"
    }
   ],
   "source": [
    "model = Sequential()\n",
    "#Adding the first LSTM layer and some Dropout regularisation\n",
    "model.add(LSTM(units = 50, return_sequences = True, input_shape = (X_train.shape[1], 1)))\n",
    "model.add(Dropout(0.2))\n",
    "# Adding a second LSTM layer and some Dropout regularisation\n",
    "model.add(LSTM(units = 50, return_sequences = True))\n",
    "model.add(Dropout(0.2))\n",
    "# Adding a third LSTM layer and some Dropout regularisation\n",
    "model.add(LSTM(units = 50, return_sequences = True))\n",
    "model.add(Dropout(0.2))\n",
    "# Adding a fourth LSTM layer and some Dropout regularisation\n",
    "model.add(LSTM(units = 50, return_sequences = True))\n",
    "model.add(Dropout(0.2))\n",
    "# Adding a fifth LSTM layer and some Dropout regularisation\n",
    "model.add(LSTM(units = 50, return_sequences = True))\n",
    "model.add(Dropout(0.2))\n",
    "# Adding a sixth LSTM layer and some Dropout regularisation\n",
    "model.add(LSTM(units = 50))\n",
    "model.add(Dropout(0.2))\n",
    "# Adding the output layer\n",
    "model.add(Dense(units = 1))\n",
    "\n",
    "# Compiling the RNN\n",
    "model.compile(optimizer = 'adam', loss = 'mean_squared_error')\n",
    "\n",
    "# Fitting the RNN to the Training set\n",
    "model.fit(X_train, y_train, epochs = 100, batch_size = 32)"
   ]
  },
  {
   "cell_type": "code",
   "execution_count": 163,
   "metadata": {
    "id": "SG-rxxngO1vp",
    "outputId": "7cda0ae9-54b0-4d78-9c50-8fa9ff7ac908",
    "colab": {
     "base_uri": "https://localhost:8080/",
     "height": 52.0
    }
   },
   "outputs": [
    {
     "name": "stdout",
     "output_type": "stream",
     "text": [
      "(521, 1)\n",
      "(521, 60, 1)\n"
     ]
    }
   ],
   "source": [
    "# Getting the predicted stock price\n",
    "dataset_train = df.iloc[:800, 1:2]\n",
    "dataset_test = df.iloc[800:, 1:2]\n",
    "dataset_test1 = dataset_test[7:]\n",
    "print(dataset_test1.shape)\n",
    "dataset_total = pd.concat((dataset_train, dataset_test), axis = 0)\n",
    "inputs = dataset_total[len(dataset_total) - len(dataset_test) - 60:].values\n",
    "inputs = inputs.reshape(-1,1)\n",
    "inputs = sc.transform(inputs)\n",
    "X_test = []\n",
    "for i in range(60+7, 588):\n",
    "    X_test.append(inputs[i-60:i, 0])\n",
    "X_test = np.array(X_test)\n",
    "X_test = np.reshape(X_test, (X_test.shape[0], X_test.shape[1], 1))\n",
    "print(X_test.shape)"
   ]
  },
  {
   "cell_type": "markdown",
   "metadata": {
    "id": "e-RpYPiLO1vs"
   },
   "source": [
    "Make predictions using the test set"
   ]
  },
  {
   "cell_type": "code",
   "execution_count": 164,
   "metadata": {
    "id": "aqmIl8K1O1vt"
   },
   "outputs": [],
   "source": [
    "predicted_stock_price = model.predict(X_test)\n",
    "predicted_stock_price = sc.inverse_transform(predicted_stock_price)"
   ]
  },
  {
   "cell_type": "markdown",
   "metadata": {
    "id": "VxsBOSqhO1vw"
   },
   "source": [
    "Visualize the results"
   ]
  },
  {
   "cell_type": "code",
   "execution_count": 165,
   "metadata": {
    "id": "w2gfUpZ0O1vw",
    "outputId": "757d89e6-522e-4d23-f521-936b4fa7e91f",
    "colab": {
     "base_uri": "https://localhost:8080/",
     "height": 513.0
    }
   },
   "outputs": [
    {
     "data": {
      "image/png": "[encoded data removed]",
      "text/plain": [
       "<Figure size 864x576 with 1 Axes>"
      ]
     },
     "metadata": {
      "tags": [],
      "needs_background": "light"
     },
     "output_type": "display_data"
    }
   ],
   "source": [
    "# Visualising the results\n",
    "fig = plt.figure(figsize=(12,8))\n",
    "plt.plot(df.loc[800+7:, 'Date'],dataset_test1.values, color = 'red', label = 'Real TESLA Stock Price')\n",
    "plt.plot(df.loc[800+7:, 'Date'],predicted_stock_price, color = 'blue', label = 'Predicted TESLA Stock Price')\n",
    "plt.xticks(np.arange(0,528,50))\n",
    "plt.title('TESLA Stock Price Prediction')\n",
    "plt.xlabel('Time')\n",
    "plt.ylabel('TESLA Stock Price')\n",
    "plt.legend()\n",
    "plt.show()"
   ]
  },
  {
   "cell_type": "markdown",
   "metadata": {
    "id": "q557cHrQPDXY"
   },
   "source": [
    "## Lag: 14, Hidden Layers: 6, Dropout Rate: 0.2"
   ]
  },
  {
   "cell_type": "markdown",
   "metadata": {
    "id": "MF0nFJKLPDXa"
   },
   "source": [
    "14 day"
   ]
  },
  {
   "cell_type": "code",
   "execution_count": 156,
   "metadata": {
    "id": "0HV_wkG_PDXc",
    "outputId": "f2c51f8e-ebb8-4602-f73f-bf6e30bab6fc",
    "colab": {
     "base_uri": "https://localhost:8080/",
     "height": 35.0
    }
   },
   "outputs": [
    {
     "data": {
      "text/plain": [
       "(726, 60, 1)"
      ]
     },
     "execution_count": 156,
     "metadata": {
      "tags": []
     },
     "output_type": "execute_result"
    }
   ],
   "source": [
    "# Feature Scaling\n",
    "sc = MinMaxScaler(feature_range = (0, 1))\n",
    "training_set_scaled = sc.fit_transform(training_set)\n",
    "# Creating a data structure with 60 time-steps and 1 output\n",
    "X_train = []\n",
    "y_train = []\n",
    "for i in range(60, 800-14):\n",
    "    X_train.append(training_set_scaled[i-60:i, 0])\n",
    "    y_train.append(training_set_scaled[i+13, 0])\n",
    "X_train, y_train = np.array(X_train), np.array(y_train)\n",
    "X_train = np.reshape(X_train, (X_train.shape[0], X_train.shape[1], 1))\n",
    "X_train.shape"
   ]
  },
  {
   "cell_type": "markdown",
   "metadata": {
    "id": "ErBzeVxdPDXn"
   },
   "source": [
    "Build LSTM mode, with 50 neurons and 6 layers, droupout rate = 0.2"
   ]
  },
  {
   "cell_type": "code",
   "execution_count": 157,
   "metadata": {
    "id": "R5jBXLu6PDXp",
    "outputId": "2a366472-5b5a-427b-bfbc-65f4f1045f93",
    "colab": {
     "base_uri": "https://localhost:8080/",
     "height": 1000.0
    }
   },
   "outputs": [
    {
     "name": "stdout",
     "output_type": "stream",
     "text": [
      "Epoch 1/100\n",
      "23/23 [==============================] - 1s 23ms/step - loss: 0.0834\n",
      "Epoch 2/100\n",
      "23/23 [==============================] - 0s 19ms/step - loss: 0.0266\n",
      "Epoch 3/100\n",
      "23/23 [==============================] - 0s 19ms/step - loss: 0.0211\n",
      "Epoch 4/100\n",
      "23/23 [==============================] - 0s 20ms/step - loss: 0.0209\n",
      "Epoch 5/100\n",
      "23/23 [==============================] - 1s 22ms/step - loss: 0.0212\n",
      "Epoch 6/100\n",
      "23/23 [==============================] - 0s 19ms/step - loss: 0.0207\n",
      "Epoch 7/100\n",
      "23/23 [==============================] - 1s 23ms/step - loss: 0.0208\n",
      "Epoch 8/100\n",
      "23/23 [==============================] - 0s 21ms/step - loss: 0.0216\n",
      "Epoch 9/100\n",
      "23/23 [==============================] - 0s 19ms/step - loss: 0.0230\n",
      "Epoch 10/100\n",
      "23/23 [==============================] - 0s 18ms/step - loss: 0.0197\n",
      "Epoch 11/100\n",
      "23/23 [==============================] - 0s 19ms/step - loss: 0.0198\n",
      "Epoch 12/100\n",
      "23/23 [==============================] - 0s 19ms/step - loss: 0.0179\n",
      "Epoch 13/100\n",
      "23/23 [==============================] - 0s 18ms/step - loss: 0.0184\n",
      "Epoch 14/100\n",
      "23/23 [==============================] - 0s 19ms/step - loss: 0.0180\n",
      "Epoch 15/100\n",
      "23/23 [==============================] - 0s 19ms/step - loss: 0.0145\n",
      "Epoch 16/100\n",
      "23/23 [==============================] - 1s 22ms/step - loss: 0.0123\n",
      "Epoch 17/100\n",
      "23/23 [==============================] - 0s 19ms/step - loss: 0.0133\n",
      "Epoch 18/100\n",
      "23/23 [==============================] - 0s 19ms/step - loss: 0.0134\n",
      "Epoch 19/100\n",
      "23/23 [==============================] - 0s 18ms/step - loss: 0.0126\n",
      "Epoch 20/100\n",
      "23/23 [==============================] - 0s 19ms/step - loss: 0.0121\n",
      "Epoch 21/100\n",
      "23/23 [==============================] - 0s 19ms/step - loss: 0.0112\n",
      "Epoch 22/100\n",
      "23/23 [==============================] - 0s 19ms/step - loss: 0.0118\n",
      "Epoch 23/100\n",
      "23/23 [==============================] - 0s 18ms/step - loss: 0.0125\n",
      "Epoch 24/100\n",
      "23/23 [==============================] - 1s 22ms/step - loss: 0.0129\n",
      "Epoch 25/100\n",
      "23/23 [==============================] - 0s 22ms/step - loss: 0.0119\n",
      "Epoch 26/100\n",
      "23/23 [==============================] - 0s 19ms/step - loss: 0.0115\n",
      "Epoch 27/100\n",
      "23/23 [==============================] - 0s 19ms/step - loss: 0.0104\n",
      "Epoch 28/100\n",
      "23/23 [==============================] - 0s 21ms/step - loss: 0.0116\n",
      "Epoch 29/100\n",
      "23/23 [==============================] - 0s 21ms/step - loss: 0.0107\n",
      "Epoch 30/100\n",
      "23/23 [==============================] - 0s 20ms/step - loss: 0.0099\n",
      "Epoch 31/100\n",
      "23/23 [==============================] - 0s 19ms/step - loss: 0.0103\n",
      "Epoch 32/100\n",
      "23/23 [==============================] - 0s 19ms/step - loss: 0.0101\n",
      "Epoch 33/100\n",
      "23/23 [==============================] - 0s 19ms/step - loss: 0.0100\n",
      "Epoch 34/100\n",
      "23/23 [==============================] - 0s 19ms/step - loss: 0.0096\n",
      "Epoch 35/100\n",
      "23/23 [==============================] - 0s 19ms/step - loss: 0.0100\n",
      "Epoch 36/100\n",
      "23/23 [==============================] - 0s 19ms/step - loss: 0.0093\n",
      "Epoch 37/100\n",
      "23/23 [==============================] - 1s 22ms/step - loss: 0.0108\n",
      "Epoch 38/100\n",
      "23/23 [==============================] - 0s 21ms/step - loss: 0.0101\n",
      "Epoch 39/100\n",
      "23/23 [==============================] - 0s 22ms/step - loss: 0.0097\n",
      "Epoch 40/100\n",
      "23/23 [==============================] - 0s 20ms/step - loss: 0.0089\n",
      "Epoch 41/100\n",
      "23/23 [==============================] - 0s 19ms/step - loss: 0.0082\n",
      "Epoch 42/100\n",
      "23/23 [==============================] - 0s 20ms/step - loss: 0.0091\n",
      "Epoch 43/100\n",
      "23/23 [==============================] - 0s 19ms/step - loss: 0.0081\n",
      "Epoch 44/100\n",
      "23/23 [==============================] - 0s 19ms/step - loss: 0.0085\n",
      "Epoch 45/100\n",
      "23/23 [==============================] - 0s 19ms/step - loss: 0.0082\n",
      "Epoch 46/100\n",
      "23/23 [==============================] - 0s 19ms/step - loss: 0.0082\n",
      "Epoch 47/100\n",
      "23/23 [==============================] - 0s 19ms/step - loss: 0.0077\n",
      "Epoch 48/100\n",
      "23/23 [==============================] - 0s 20ms/step - loss: 0.0075\n",
      "Epoch 49/100\n",
      "23/23 [==============================] - 0s 20ms/step - loss: 0.0070\n",
      "Epoch 50/100\n",
      "23/23 [==============================] - 0s 18ms/step - loss: 0.0078\n",
      "Epoch 51/100\n",
      "23/23 [==============================] - 0s 20ms/step - loss: 0.0066\n",
      "Epoch 52/100\n",
      "23/23 [==============================] - 0s 19ms/step - loss: 0.0074\n",
      "Epoch 53/100\n",
      "23/23 [==============================] - 0s 19ms/step - loss: 0.0077\n",
      "Epoch 54/100\n",
      "23/23 [==============================] - 0s 20ms/step - loss: 0.0077\n",
      "Epoch 55/100\n",
      "23/23 [==============================] - 0s 19ms/step - loss: 0.0069\n",
      "Epoch 56/100\n",
      "23/23 [==============================] - 0s 19ms/step - loss: 0.0071\n",
      "Epoch 57/100\n",
      "23/23 [==============================] - 0s 19ms/step - loss: 0.0066\n",
      "Epoch 58/100\n",
      "23/23 [==============================] - 0s 19ms/step - loss: 0.0069\n",
      "Epoch 59/100\n",
      "23/23 [==============================] - 0s 19ms/step - loss: 0.0068\n",
      "Epoch 60/100\n",
      "23/23 [==============================] - 0s 19ms/step - loss: 0.0067\n",
      "Epoch 61/100\n",
      "23/23 [==============================] - 0s 19ms/step - loss: 0.0064\n",
      "Epoch 62/100\n",
      "23/23 [==============================] - 0s 19ms/step - loss: 0.0061\n",
      "Epoch 63/100\n",
      "23/23 [==============================] - 0s 19ms/step - loss: 0.0061\n",
      "Epoch 64/100\n",
      "23/23 [==============================] - 0s 19ms/step - loss: 0.0077\n",
      "Epoch 65/100\n",
      "23/23 [==============================] - 0s 19ms/step - loss: 0.0073\n",
      "Epoch 66/100\n",
      "23/23 [==============================] - 0s 19ms/step - loss: 0.0064\n",
      "Epoch 67/100\n",
      "23/23 [==============================] - 0s 20ms/step - loss: 0.0061\n",
      "Epoch 68/100\n",
      "23/23 [==============================] - 0s 19ms/step - loss: 0.0061\n",
      "Epoch 69/100\n",
      "23/23 [==============================] - 0s 19ms/step - loss: 0.0071\n",
      "Epoch 70/100\n",
      "23/23 [==============================] - 0s 19ms/step - loss: 0.0059\n",
      "Epoch 71/100\n",
      "23/23 [==============================] - 0s 19ms/step - loss: 0.0062\n",
      "Epoch 72/100\n",
      "23/23 [==============================] - 0s 19ms/step - loss: 0.0056\n",
      "Epoch 73/100\n",
      "23/23 [==============================] - 0s 19ms/step - loss: 0.0064\n",
      "Epoch 74/100\n",
      "23/23 [==============================] - 0s 21ms/step - loss: 0.0057\n",
      "Epoch 75/100\n",
      "23/23 [==============================] - 1s 22ms/step - loss: 0.0061\n",
      "Epoch 76/100\n",
      "23/23 [==============================] - 0s 20ms/step - loss: 0.0051\n",
      "Epoch 77/100\n",
      "23/23 [==============================] - 0s 19ms/step - loss: 0.0056\n",
      "Epoch 78/100\n",
      "23/23 [==============================] - 0s 19ms/step - loss: 0.0051\n",
      "Epoch 79/100\n",
      "23/23 [==============================] - 0s 21ms/step - loss: 0.0051\n",
      "Epoch 80/100\n",
      "23/23 [==============================] - 1s 22ms/step - loss: 0.0051\n",
      "Epoch 81/100\n",
      "23/23 [==============================] - 0s 19ms/step - loss: 0.0052\n",
      "Epoch 82/100\n",
      "23/23 [==============================] - 0s 19ms/step - loss: 0.0053\n",
      "Epoch 83/100\n",
      "23/23 [==============================] - 0s 19ms/step - loss: 0.0055\n",
      "Epoch 84/100\n",
      "23/23 [==============================] - 0s 19ms/step - loss: 0.0053\n",
      "Epoch 85/100\n",
      "23/23 [==============================] - 0s 20ms/step - loss: 0.0054\n",
      "Epoch 86/100\n",
      "23/23 [==============================] - 0s 19ms/step - loss: 0.0050\n",
      "Epoch 87/100\n",
      "23/23 [==============================] - 0s 19ms/step - loss: 0.0047\n",
      "Epoch 88/100\n",
      "23/23 [==============================] - 0s 19ms/step - loss: 0.0051\n",
      "Epoch 89/100\n",
      "23/23 [==============================] - 0s 18ms/step - loss: 0.0053\n",
      "Epoch 90/100\n",
      "23/23 [==============================] - 0s 19ms/step - loss: 0.0051\n",
      "Epoch 91/100\n",
      "23/23 [==============================] - 0s 19ms/step - loss: 0.0049\n",
      "Epoch 92/100\n",
      "23/23 [==============================] - 1s 22ms/step - loss: 0.0050\n",
      "Epoch 93/100\n",
      "23/23 [==============================] - 0s 20ms/step - loss: 0.0047\n",
      "Epoch 94/100\n",
      "23/23 [==============================] - 0s 19ms/step - loss: 0.0053\n",
      "Epoch 95/100\n",
      "23/23 [==============================] - 0s 18ms/step - loss: 0.0048\n",
      "Epoch 96/100\n",
      "23/23 [==============================] - 0s 19ms/step - loss: 0.0045\n",
      "Epoch 97/100\n",
      "23/23 [==============================] - 0s 19ms/step - loss: 0.0045\n",
      "Epoch 98/100\n",
      "23/23 [==============================] - 0s 19ms/step - loss: 0.0046\n",
      "Epoch 99/100\n",
      "23/23 [==============================] - 0s 19ms/step - loss: 0.0046\n",
      "Epoch 100/100\n",
      "23/23 [==============================] - 0s 19ms/step - loss: 0.0042\n"
     ]
    },
    {
     "data": {
      "text/plain": [
       "<tensorflow.python.keras.callbacks.History at 0x7f298e62be48>"
      ]
     },
     "execution_count": 157,
     "metadata": {
      "tags": []
     },
     "output_type": "execute_result"
    }
   ],
   "source": [
    "model = Sequential()\n",
    "#Adding the first LSTM layer and some Dropout regularisation\n",
    "model.add(LSTM(units = 50, return_sequences = True, input_shape = (X_train.shape[1], 1)))\n",
    "model.add(Dropout(0.2))\n",
    "# Adding a second LSTM layer and some Dropout regularisation\n",
    "model.add(LSTM(units = 50, return_sequences = True))\n",
    "model.add(Dropout(0.2))\n",
    "# Adding a third LSTM layer and some Dropout regularisation\n",
    "model.add(LSTM(units = 50, return_sequences = True))\n",
    "model.add(Dropout(0.2))\n",
    "# Adding a fourth LSTM layer and some Dropout regularisation\n",
    "model.add(LSTM(units = 50, return_sequences = True))\n",
    "model.add(Dropout(0.2))\n",
    "# Adding a fifth LSTM layer and some Dropout regularisation\n",
    "model.add(LSTM(units = 50, return_sequences = True))\n",
    "model.add(Dropout(0.2))\n",
    "# Adding a sixth LSTM layer and some Dropout regularisation\n",
    "model.add(LSTM(units = 50))\n",
    "model.add(Dropout(0.2))\n",
    "# Adding the output layer\n",
    "model.add(Dense(units = 1))\n",
    "\n",
    "# Compiling the RNN\n",
    "model.compile(optimizer = 'adam', loss = 'mean_squared_error')\n",
    "\n",
    "# Fitting the RNN to the Training set\n",
    "model.fit(X_train, y_train, epochs = 100, batch_size = 32)"
   ]
  },
  {
   "cell_type": "code",
   "execution_count": 158,
   "metadata": {
    "id": "R09CiH88PDXx",
    "outputId": "c54ff75a-8b39-4edc-bf2b-69358c6979c3",
    "colab": {
     "base_uri": "https://localhost:8080/",
     "height": 52.0
    }
   },
   "outputs": [
    {
     "name": "stdout",
     "output_type": "stream",
     "text": [
      "(514, 1)\n",
      "(514, 60, 1)\n"
     ]
    }
   ],
   "source": [
    "# Getting the predicted stock price\n",
    "dataset_train = df.iloc[:800, 1:2]\n",
    "dataset_test = df.iloc[800:, 1:2]\n",
    "dataset_test1 = dataset_test[14:]\n",
    "print(dataset_test1.shape)\n",
    "dataset_total = pd.concat((dataset_train, dataset_test), axis = 0)\n",
    "inputs = dataset_total[len(dataset_total) - len(dataset_test) - 60:].values\n",
    "inputs = inputs.reshape(-1,1)\n",
    "inputs = sc.transform(inputs)\n",
    "X_test = []\n",
    "for i in range(60+14, 588):\n",
    "    X_test.append(inputs[i-60:i, 0])\n",
    "X_test = np.array(X_test)\n",
    "X_test = np.reshape(X_test, (X_test.shape[0], X_test.shape[1], 1))\n",
    "print(X_test.shape)"
   ]
  },
  {
   "cell_type": "markdown",
   "metadata": {
    "id": "GPGycK8dPDX3"
   },
   "source": [
    "Make predictions using the test set"
   ]
  },
  {
   "cell_type": "code",
   "execution_count": 159,
   "metadata": {
    "id": "UeTSSpl4PDX4"
   },
   "outputs": [],
   "source": [
    "predicted_stock_price = model.predict(X_test)\n",
    "predicted_stock_price = sc.inverse_transform(predicted_stock_price)"
   ]
  },
  {
   "cell_type": "markdown",
   "metadata": {
    "id": "DBfhkataPDYA"
   },
   "source": [
    "Visualize the results"
   ]
  },
  {
   "cell_type": "code",
   "execution_count": 160,
   "metadata": {
    "id": "Kfj02BqrPDYB",
    "outputId": "10884292-78b9-4034-9667-8fbe851decac",
    "colab": {
     "base_uri": "https://localhost:8080/",
     "height": 513.0
    }
   },
   "outputs": [
    {
     "data": {
      "image/png": "[encoded data removed]",
      "text/plain": [
       "<Figure size 864x576 with 1 Axes>"
      ]
     },
     "metadata": {
      "tags": [],
      "needs_background": "light"
     },
     "output_type": "display_data"
    }
   ],
   "source": [
    "# Visualising the results\n",
    "fig = plt.figure(figsize=(12,8))\n",
    "plt.plot(df.loc[800+14:, 'Date'],dataset_test1.values, color = 'red', label = 'Real TESLA Stock Price')\n",
    "plt.plot(df.loc[800+14:, 'Date'],predicted_stock_price, color = 'blue', label = 'Predicted TESLA Stock Price')\n",
    "plt.xticks(np.arange(0,528,50))\n",
    "plt.title('TESLA Stock Price Prediction')\n",
    "plt.xlabel('Time')\n",
    "plt.ylabel('TESLA Stock Price')\n",
    "plt.legend()\n",
    "plt.show()"
   ]
  },
  {
   "cell_type": "markdown",
   "metadata": {
    "id": "1Kym8dBsXwAx"
   },
   "source": [
    "## Comparison 2: 0.2 vs 0.5 dropout rate"
   ]
  },
  {
   "cell_type": "markdown",
   "metadata": {
    "id": "D_4rHzvHYDfx"
   },
   "source": [
    "## Lag: 1, Hidden Layers: 4, Dropout Rate: 0.5"
   ]
  },
  {
   "cell_type": "markdown",
   "metadata": {
    "id": "NCnO1FuaYDf1"
   },
   "source": [
    "1 day"
   ]
  },
  {
   "cell_type": "code",
   "execution_count": 56,
   "metadata": {
    "id": "QUtvEjsrYDgH",
    "outputId": "3819bbb9-511a-4936-bb09-bbd8bd181cf5",
    "colab": {
     "base_uri": "https://localhost:8080/",
     "height": 35.0
    }
   },
   "outputs": [
    {
     "data": {
      "text/plain": [
       "(740, 60, 1)"
      ]
     },
     "execution_count": 56,
     "metadata": {
      "tags": []
     },
     "output_type": "execute_result"
    }
   ],
   "source": [
    "# Feature Scaling\n",
    "sc = MinMaxScaler(feature_range = (0, 1))\n",
    "training_set_scaled = sc.fit_transform(training_set)\n",
    "# Creating a data structure with 60 time-steps and 1 output\n",
    "X_train = []\n",
    "y_train = []\n",
    "for i in range(60, 800):\n",
    "    X_train.append(training_set_scaled[i-60:i, 0])\n",
    "    y_train.append(training_set_scaled[i, 0])\n",
    "X_train, y_train = np.array(X_train), np.array(y_train)\n",
    "X_train = np.reshape(X_train, (X_train.shape[0], X_train.shape[1], 1))\n",
    "X_train.shape"
   ]
  },
  {
   "cell_type": "markdown",
   "metadata": {
    "id": "gJ-AmyVrYDgO"
   },
   "source": [
    "Build LSTM mode, with 50 neurons and 4 layers, droupout rate = 0.5"
   ]
  },
  {
   "cell_type": "code",
   "execution_count": 57,
   "metadata": {
    "id": "ko6T8uSOYDgP",
    "outputId": "f7751e66-b318-47fa-d58b-cfb9f8d1ae17",
    "colab": {
     "base_uri": "https://localhost:8080/",
     "height": 1000.0
    }
   },
   "outputs": [
    {
     "name": "stdout",
     "output_type": "stream",
     "text": [
      "Epoch 1/100\n",
      "24/24 [==============================] - 0s 17ms/step - loss: 0.0823\n",
      "Epoch 2/100\n",
      "24/24 [==============================] - 0s 15ms/step - loss: 0.0263\n",
      "Epoch 3/100\n",
      "24/24 [==============================] - 0s 13ms/step - loss: 0.0227\n",
      "Epoch 4/100\n",
      "24/24 [==============================] - 0s 16ms/step - loss: 0.0230\n",
      "Epoch 5/100\n",
      "24/24 [==============================] - 0s 15ms/step - loss: 0.0181\n",
      "Epoch 6/100\n",
      "24/24 [==============================] - 0s 13ms/step - loss: 0.0191\n",
      "Epoch 7/100\n",
      "24/24 [==============================] - 0s 13ms/step - loss: 0.0174\n",
      "Epoch 8/100\n",
      "24/24 [==============================] - 0s 13ms/step - loss: 0.0174\n",
      "Epoch 9/100\n",
      "24/24 [==============================] - 0s 14ms/step - loss: 0.0194\n",
      "Epoch 10/100\n",
      "24/24 [==============================] - 0s 13ms/step - loss: 0.0156\n",
      "Epoch 11/100\n",
      "24/24 [==============================] - 0s 13ms/step - loss: 0.0164\n",
      "Epoch 12/100\n",
      "24/24 [==============================] - 0s 13ms/step - loss: 0.0163\n",
      "Epoch 13/100\n",
      "24/24 [==============================] - 0s 13ms/step - loss: 0.0140\n",
      "Epoch 14/100\n",
      "24/24 [==============================] - 0s 13ms/step - loss: 0.0145\n",
      "Epoch 15/100\n",
      "24/24 [==============================] - 0s 14ms/step - loss: 0.0147\n",
      "Epoch 16/100\n",
      "24/24 [==============================] - 0s 13ms/step - loss: 0.0145\n",
      "Epoch 17/100\n",
      "24/24 [==============================] - 0s 13ms/step - loss: 0.0139\n",
      "Epoch 18/100\n",
      "24/24 [==============================] - 0s 13ms/step - loss: 0.0138\n",
      "Epoch 19/100\n",
      "24/24 [==============================] - 0s 13ms/step - loss: 0.0138\n",
      "Epoch 20/100\n",
      "24/24 [==============================] - 0s 13ms/step - loss: 0.0118\n",
      "Epoch 21/100\n",
      "24/24 [==============================] - 0s 13ms/step - loss: 0.0119\n",
      "Epoch 22/100\n",
      "24/24 [==============================] - 0s 13ms/step - loss: 0.0119\n",
      "Epoch 23/100\n",
      "24/24 [==============================] - 0s 12ms/step - loss: 0.0123\n",
      "Epoch 24/100\n",
      "24/24 [==============================] - 0s 13ms/step - loss: 0.0118\n",
      "Epoch 25/100\n",
      "24/24 [==============================] - 0s 13ms/step - loss: 0.0099\n",
      "Epoch 26/100\n",
      "24/24 [==============================] - 0s 13ms/step - loss: 0.0107\n",
      "Epoch 27/100\n",
      "24/24 [==============================] - 0s 14ms/step - loss: 0.0107\n",
      "Epoch 28/100\n",
      "24/24 [==============================] - 0s 16ms/step - loss: 0.0105\n",
      "Epoch 29/100\n",
      "24/24 [==============================] - 0s 14ms/step - loss: 0.0102\n",
      "Epoch 30/100\n",
      "24/24 [==============================] - 0s 13ms/step - loss: 0.0109\n",
      "Epoch 31/100\n",
      "24/24 [==============================] - 0s 13ms/step - loss: 0.0108\n",
      "Epoch 32/100\n",
      "24/24 [==============================] - 0s 13ms/step - loss: 0.0101\n",
      "Epoch 33/100\n",
      "24/24 [==============================] - 0s 13ms/step - loss: 0.0102\n",
      "Epoch 34/100\n",
      "24/24 [==============================] - 0s 13ms/step - loss: 0.0091\n",
      "Epoch 35/100\n",
      "24/24 [==============================] - 0s 13ms/step - loss: 0.0095\n",
      "Epoch 36/100\n",
      "24/24 [==============================] - 0s 13ms/step - loss: 0.0100\n",
      "Epoch 37/100\n",
      "24/24 [==============================] - 0s 14ms/step - loss: 0.0097\n",
      "Epoch 38/100\n",
      "24/24 [==============================] - 0s 15ms/step - loss: 0.0088\n",
      "Epoch 39/100\n",
      "24/24 [==============================] - 0s 14ms/step - loss: 0.0094\n",
      "Epoch 40/100\n",
      "24/24 [==============================] - 0s 15ms/step - loss: 0.0092\n",
      "Epoch 41/100\n",
      "24/24 [==============================] - 0s 16ms/step - loss: 0.0094\n",
      "Epoch 42/100\n",
      "24/24 [==============================] - 0s 16ms/step - loss: 0.0103\n",
      "Epoch 43/100\n",
      "24/24 [==============================] - 0s 15ms/step - loss: 0.0104\n",
      "Epoch 44/100\n",
      "24/24 [==============================] - 0s 16ms/step - loss: 0.0081\n",
      "Epoch 45/100\n",
      "24/24 [==============================] - 0s 14ms/step - loss: 0.0083\n",
      "Epoch 46/100\n",
      "24/24 [==============================] - 0s 13ms/step - loss: 0.0083\n",
      "Epoch 47/100\n",
      "24/24 [==============================] - 0s 14ms/step - loss: 0.0070\n",
      "Epoch 48/100\n",
      "24/24 [==============================] - 0s 14ms/step - loss: 0.0072\n",
      "Epoch 49/100\n",
      "24/24 [==============================] - 0s 14ms/step - loss: 0.0082\n",
      "Epoch 50/100\n",
      "24/24 [==============================] - 0s 13ms/step - loss: 0.0073\n",
      "Epoch 51/100\n",
      "24/24 [==============================] - 0s 13ms/step - loss: 0.0079\n",
      "Epoch 52/100\n",
      "24/24 [==============================] - 0s 13ms/step - loss: 0.0082\n",
      "Epoch 53/100\n",
      "24/24 [==============================] - 0s 13ms/step - loss: 0.0072\n",
      "Epoch 54/100\n",
      "24/24 [==============================] - 0s 13ms/step - loss: 0.0067\n",
      "Epoch 55/100\n",
      "24/24 [==============================] - 0s 13ms/step - loss: 0.0076\n",
      "Epoch 56/100\n",
      "24/24 [==============================] - 0s 14ms/step - loss: 0.0068\n",
      "Epoch 57/100\n",
      "24/24 [==============================] - 0s 13ms/step - loss: 0.0075\n",
      "Epoch 58/100\n",
      "24/24 [==============================] - 0s 13ms/step - loss: 0.0071\n",
      "Epoch 59/100\n",
      "24/24 [==============================] - 0s 13ms/step - loss: 0.0070\n",
      "Epoch 60/100\n",
      "24/24 [==============================] - 0s 13ms/step - loss: 0.0067\n",
      "Epoch 61/100\n",
      "24/24 [==============================] - 0s 12ms/step - loss: 0.0065\n",
      "Epoch 62/100\n",
      "24/24 [==============================] - 0s 14ms/step - loss: 0.0061\n",
      "Epoch 63/100\n",
      "24/24 [==============================] - 0s 13ms/step - loss: 0.0066\n",
      "Epoch 64/100\n",
      "24/24 [==============================] - 0s 13ms/step - loss: 0.0056\n",
      "Epoch 65/100\n",
      "24/24 [==============================] - 0s 13ms/step - loss: 0.0063\n",
      "Epoch 66/100\n",
      "24/24 [==============================] - 0s 14ms/step - loss: 0.0068\n",
      "Epoch 67/100\n",
      "24/24 [==============================] - 0s 13ms/step - loss: 0.0072\n",
      "Epoch 68/100\n",
      "24/24 [==============================] - 0s 15ms/step - loss: 0.0068\n",
      "Epoch 69/100\n",
      "24/24 [==============================] - 0s 15ms/step - loss: 0.0058\n",
      "Epoch 70/100\n",
      "24/24 [==============================] - 0s 13ms/step - loss: 0.0063\n",
      "Epoch 71/100\n",
      "24/24 [==============================] - 0s 14ms/step - loss: 0.0053\n",
      "Epoch 72/100\n",
      "24/24 [==============================] - 0s 13ms/step - loss: 0.0055\n",
      "Epoch 73/100\n",
      "24/24 [==============================] - 0s 13ms/step - loss: 0.0062\n",
      "Epoch 74/100\n",
      "24/24 [==============================] - 0s 14ms/step - loss: 0.0058\n",
      "Epoch 75/100\n",
      "24/24 [==============================] - 0s 14ms/step - loss: 0.0059\n",
      "Epoch 76/100\n",
      "24/24 [==============================] - 0s 14ms/step - loss: 0.0054\n",
      "Epoch 77/100\n",
      "24/24 [==============================] - 0s 15ms/step - loss: 0.0053\n",
      "Epoch 78/100\n",
      "24/24 [==============================] - 0s 13ms/step - loss: 0.0053\n",
      "Epoch 79/100\n",
      "24/24 [==============================] - 0s 14ms/step - loss: 0.0055\n",
      "Epoch 80/100\n",
      "24/24 [==============================] - 0s 13ms/step - loss: 0.0056\n",
      "Epoch 81/100\n",
      "24/24 [==============================] - 0s 13ms/step - loss: 0.0051\n",
      "Epoch 82/100\n",
      "24/24 [==============================] - 0s 14ms/step - loss: 0.0050\n",
      "Epoch 83/100\n",
      "24/24 [==============================] - 0s 13ms/step - loss: 0.0058\n",
      "Epoch 84/100\n",
      "24/24 [==============================] - 0s 13ms/step - loss: 0.0054\n",
      "Epoch 85/100\n",
      "24/24 [==============================] - 0s 13ms/step - loss: 0.0054\n",
      "Epoch 86/100\n",
      "24/24 [==============================] - 0s 13ms/step - loss: 0.0048\n",
      "Epoch 87/100\n",
      "24/24 [==============================] - 0s 13ms/step - loss: 0.0045\n",
      "Epoch 88/100\n",
      "24/24 [==============================] - 0s 15ms/step - loss: 0.0047\n",
      "Epoch 89/100\n",
      "24/24 [==============================] - 0s 13ms/step - loss: 0.0060\n",
      "Epoch 90/100\n",
      "24/24 [==============================] - 0s 13ms/step - loss: 0.0053\n",
      "Epoch 91/100\n",
      "24/24 [==============================] - 0s 13ms/step - loss: 0.0052\n",
      "Epoch 92/100\n",
      "24/24 [==============================] - 0s 13ms/step - loss: 0.0048\n",
      "Epoch 93/100\n",
      "24/24 [==============================] - 0s 14ms/step - loss: 0.0048\n",
      "Epoch 94/100\n",
      "24/24 [==============================] - 0s 14ms/step - loss: 0.0049\n",
      "Epoch 95/100\n",
      "24/24 [==============================] - 0s 16ms/step - loss: 0.0047\n",
      "Epoch 96/100\n",
      "24/24 [==============================] - 0s 15ms/step - loss: 0.0046\n",
      "Epoch 97/100\n",
      "24/24 [==============================] - 0s 14ms/step - loss: 0.0044\n",
      "Epoch 98/100\n",
      "24/24 [==============================] - 0s 15ms/step - loss: 0.0049\n",
      "Epoch 99/100\n",
      "24/24 [==============================] - 0s 13ms/step - loss: 0.0044\n",
      "Epoch 100/100\n",
      "24/24 [==============================] - 0s 13ms/step - loss: 0.0048\n"
     ]
    },
    {
     "data": {
      "text/plain": [
       "<tensorflow.python.keras.callbacks.History at 0x7f29a7eadf28>"
      ]
     },
     "execution_count": 57,
     "metadata": {
      "tags": []
     },
     "output_type": "execute_result"
    }
   ],
   "source": [
    "model = Sequential()\n",
    "#Adding the first LSTM layer and some Dropout regularisation\n",
    "model.add(LSTM(units = 50, return_sequences = True, input_shape = (X_train.shape[1], 1)))\n",
    "model.add(Dropout(0.5))\n",
    "# Adding a second LSTM layer and some Dropout regularisation\n",
    "model.add(LSTM(units = 50, return_sequences = True))\n",
    "model.add(Dropout(0.5))\n",
    "# Adding a third LSTM layer and some Dropout regularisation\n",
    "model.add(LSTM(units = 50, return_sequences = True))\n",
    "model.add(Dropout(0.5))\n",
    "# Adding a fourth LSTM layer and some Dropout regularisation\n",
    "model.add(LSTM(units = 50))\n",
    "model.add(Dropout(0.5))\n",
    "# Adding the output layer\n",
    "model.add(Dense(units = 1))\n",
    "\n",
    "# Compiling the RNN\n",
    "model.compile(optimizer = 'adam', loss = 'mean_squared_error')\n",
    "\n",
    "# Fitting the RNN to the Training set\n",
    "model.fit(X_train, y_train, epochs = 100, batch_size = 32)"
   ]
  },
  {
   "cell_type": "code",
   "execution_count": 58,
   "metadata": {
    "id": "DIY_DUzSYDgU",
    "outputId": "9f5cd749-1683-4212-c5c9-233900e02d60",
    "colab": {
     "base_uri": "https://localhost:8080/",
     "height": 52.0
    }
   },
   "outputs": [
    {
     "name": "stdout",
     "output_type": "stream",
     "text": [
      "(528, 1)\n",
      "(528, 60, 1)\n"
     ]
    }
   ],
   "source": [
    "# Getting the predicted stock price\n",
    "dataset_train = df.iloc[:800, 1:2]\n",
    "dataset_test = df.iloc[800:, 1:2]\n",
    "print(dataset_test.shape)\n",
    "dataset_total = pd.concat((dataset_train, dataset_test), axis = 0)\n",
    "inputs = dataset_total[len(dataset_total) - len(dataset_test) - 60:].values\n",
    "inputs = inputs.reshape(-1,1)\n",
    "inputs = sc.transform(inputs)\n",
    "X_test = []\n",
    "for i in range(60, 588):\n",
    "    X_test.append(inputs[i-60:i, 0])\n",
    "X_test = np.array(X_test)\n",
    "X_test = np.reshape(X_test, (X_test.shape[0], X_test.shape[1], 1))\n",
    "print(X_test.shape)"
   ]
  },
  {
   "cell_type": "markdown",
   "metadata": {
    "id": "eGUxArBCYDgY"
   },
   "source": [
    "Make predictions using the test set"
   ]
  },
  {
   "cell_type": "code",
   "execution_count": 59,
   "metadata": {
    "id": "aaqgtuXxYDgZ"
   },
   "outputs": [],
   "source": [
    "predicted_stock_price = model.predict(X_test)\n",
    "predicted_stock_price = sc.inverse_transform(predicted_stock_price)"
   ]
  },
  {
   "cell_type": "markdown",
   "metadata": {
    "id": "bMNlxXMpYDgc"
   },
   "source": [
    "Visualize the results"
   ]
  },
  {
   "cell_type": "code",
   "execution_count": 60,
   "metadata": {
    "id": "1fiXTTx6YDgc",
    "outputId": "bc8836ab-4d3a-4818-d47f-95c81fccb019",
    "colab": {
     "base_uri": "https://localhost:8080/",
     "height": 513.0
    }
   },
   "outputs": [
    {
     "data": {
      "image/png": "[encoded data removed]",
      "text/plain": [
       "<Figure size 864x576 with 1 Axes>"
      ]
     },
     "metadata": {
      "tags": [],
      "needs_background": "light"
     },
     "output_type": "display_data"
    }
   ],
   "source": [
    "# Visualising the results\n",
    "fig = plt.figure(figsize=(12,8))\n",
    "plt.plot(df.loc[800:, 'Date'],dataset_test.values, color = 'red', label = 'Real TESLA Stock Price')\n",
    "plt.plot(df.loc[800:, 'Date'],predicted_stock_price, color = 'blue', label = 'Predicted TESLA Stock Price')\n",
    "plt.xticks(np.arange(0,528,50))\n",
    "plt.title('TESLA Stock Price Prediction')\n",
    "plt.xlabel('Time')\n",
    "plt.ylabel('TESLA Stock Price')\n",
    "plt.legend()\n",
    "plt.show()"
   ]
  },
  {
   "cell_type": "markdown",
   "metadata": {
    "id": "P6EnwuZ9Y0Zu"
   },
   "source": [
    "## Lag: 7, Hidden Layers: 4, Dropout Rate: 0.5"
   ]
  },
  {
   "cell_type": "markdown",
   "metadata": {
    "id": "20EflEOOY0Zw"
   },
   "source": [
    "7 day"
   ]
  },
  {
   "cell_type": "code",
   "execution_count": 150,
   "metadata": {
    "id": "8JbV5XkuY0Zx",
    "outputId": "3eea82c8-7b60-4134-cc87-8901806f202a",
    "colab": {
     "base_uri": "https://localhost:8080/",
     "height": 35.0
    }
   },
   "outputs": [
    {
     "data": {
      "text/plain": [
       "(733, 60, 1)"
      ]
     },
     "execution_count": 150,
     "metadata": {
      "tags": []
     },
     "output_type": "execute_result"
    }
   ],
   "source": [
    "# Feature Scaling\n",
    "sc = MinMaxScaler(feature_range = (0, 1))\n",
    "training_set_scaled = sc.fit_transform(training_set)\n",
    "# Creating a data structure with 60 time-steps and 1 output\n",
    "X_train = []\n",
    "y_train = []\n",
    "for i in range(60, 800-7):\n",
    "    X_train.append(training_set_scaled[i-60:i, 0])\n",
    "    y_train.append(training_set_scaled[i+6, 0])\n",
    "X_train, y_train = np.array(X_train), np.array(y_train)\n",
    "X_train = np.reshape(X_train, (X_train.shape[0], X_train.shape[1], 1))\n",
    "X_train.shape"
   ]
  },
  {
   "cell_type": "markdown",
   "metadata": {
    "id": "NJdPp47nY0Z2"
   },
   "source": [
    "Build LSTM mode, with 50 neurons and 4 layers, droupout rate = 0.5"
   ]
  },
  {
   "cell_type": "code",
   "execution_count": 152,
   "metadata": {
    "id": "arUqyiOUY0Z3",
    "outputId": "d74ed20d-9f4b-4bb0-ff14-7e23a1e0dc8e",
    "colab": {
     "base_uri": "https://localhost:8080/",
     "height": 1000.0
    }
   },
   "outputs": [
    {
     "name": "stdout",
     "output_type": "stream",
     "text": [
      "Epoch 1/100\n",
      "23/23 [==============================] - 0s 16ms/step - loss: 0.0933\n",
      "Epoch 2/100\n",
      "23/23 [==============================] - 0s 13ms/step - loss: 0.0334\n",
      "Epoch 3/100\n",
      "23/23 [==============================] - 0s 13ms/step - loss: 0.0303\n",
      "Epoch 4/100\n",
      "23/23 [==============================] - 0s 14ms/step - loss: 0.0234\n",
      "Epoch 5/100\n",
      "23/23 [==============================] - 0s 13ms/step - loss: 0.0234\n",
      "Epoch 6/100\n",
      "23/23 [==============================] - 0s 15ms/step - loss: 0.0224\n",
      "Epoch 7/100\n",
      "23/23 [==============================] - 0s 13ms/step - loss: 0.0221\n",
      "Epoch 8/100\n",
      "23/23 [==============================] - 0s 13ms/step - loss: 0.0214\n",
      "Epoch 9/100\n",
      "23/23 [==============================] - 0s 15ms/step - loss: 0.0207\n",
      "Epoch 10/100\n",
      "23/23 [==============================] - 0s 13ms/step - loss: 0.0204\n",
      "Epoch 11/100\n",
      "23/23 [==============================] - 0s 13ms/step - loss: 0.0211\n",
      "Epoch 12/100\n",
      "23/23 [==============================] - 0s 14ms/step - loss: 0.0185\n",
      "Epoch 13/100\n",
      "23/23 [==============================] - 0s 15ms/step - loss: 0.0187\n",
      "Epoch 14/100\n",
      "23/23 [==============================] - 0s 15ms/step - loss: 0.0203\n",
      "Epoch 15/100\n",
      "23/23 [==============================] - 0s 14ms/step - loss: 0.0184\n",
      "Epoch 16/100\n",
      "23/23 [==============================] - 0s 15ms/step - loss: 0.0194\n",
      "Epoch 17/100\n",
      "23/23 [==============================] - 0s 15ms/step - loss: 0.0201\n",
      "Epoch 18/100\n",
      "23/23 [==============================] - 0s 13ms/step - loss: 0.0189\n",
      "Epoch 19/100\n",
      "23/23 [==============================] - 0s 15ms/step - loss: 0.0189\n",
      "Epoch 20/100\n",
      "23/23 [==============================] - 0s 14ms/step - loss: 0.0175\n",
      "Epoch 21/100\n",
      "23/23 [==============================] - 0s 13ms/step - loss: 0.0188\n",
      "Epoch 22/100\n",
      "23/23 [==============================] - 0s 14ms/step - loss: 0.0175\n",
      "Epoch 23/100\n",
      "23/23 [==============================] - 0s 13ms/step - loss: 0.0172\n",
      "Epoch 24/100\n",
      "23/23 [==============================] - 0s 14ms/step - loss: 0.0159\n",
      "Epoch 25/100\n",
      "23/23 [==============================] - 0s 17ms/step - loss: 0.0158\n",
      "Epoch 26/100\n",
      "23/23 [==============================] - 0s 13ms/step - loss: 0.0169\n",
      "Epoch 27/100\n",
      "23/23 [==============================] - 0s 15ms/step - loss: 0.0157\n",
      "Epoch 28/100\n",
      "23/23 [==============================] - 0s 16ms/step - loss: 0.0144\n",
      "Epoch 29/100\n",
      "23/23 [==============================] - 0s 13ms/step - loss: 0.0149\n",
      "Epoch 30/100\n",
      "23/23 [==============================] - 0s 14ms/step - loss: 0.0157\n",
      "Epoch 31/100\n",
      "23/23 [==============================] - 0s 14ms/step - loss: 0.0134\n",
      "Epoch 32/100\n",
      "23/23 [==============================] - 0s 14ms/step - loss: 0.0144\n",
      "Epoch 33/100\n",
      "23/23 [==============================] - 0s 13ms/step - loss: 0.0130\n",
      "Epoch 34/100\n",
      "23/23 [==============================] - 0s 14ms/step - loss: 0.0129\n",
      "Epoch 35/100\n",
      "23/23 [==============================] - 0s 15ms/step - loss: 0.0139\n",
      "Epoch 36/100\n",
      "23/23 [==============================] - 0s 13ms/step - loss: 0.0130\n",
      "Epoch 37/100\n",
      "23/23 [==============================] - 0s 14ms/step - loss: 0.0135\n",
      "Epoch 38/100\n",
      "23/23 [==============================] - 0s 13ms/step - loss: 0.0133\n",
      "Epoch 39/100\n",
      "23/23 [==============================] - 0s 14ms/step - loss: 0.0133\n",
      "Epoch 40/100\n",
      "23/23 [==============================] - 0s 14ms/step - loss: 0.0122\n",
      "Epoch 41/100\n",
      "23/23 [==============================] - 0s 13ms/step - loss: 0.0129\n",
      "Epoch 42/100\n",
      "23/23 [==============================] - 0s 13ms/step - loss: 0.0126\n",
      "Epoch 43/100\n",
      "23/23 [==============================] - 0s 14ms/step - loss: 0.0128\n",
      "Epoch 44/100\n",
      "23/23 [==============================] - 0s 13ms/step - loss: 0.0116\n",
      "Epoch 45/100\n",
      "23/23 [==============================] - 0s 14ms/step - loss: 0.0109\n",
      "Epoch 46/100\n",
      "23/23 [==============================] - 0s 13ms/step - loss: 0.0121\n",
      "Epoch 47/100\n",
      "23/23 [==============================] - 0s 14ms/step - loss: 0.0109\n",
      "Epoch 48/100\n",
      "23/23 [==============================] - 0s 13ms/step - loss: 0.0110\n",
      "Epoch 49/100\n",
      "23/23 [==============================] - 0s 13ms/step - loss: 0.0108\n",
      "Epoch 50/100\n",
      "23/23 [==============================] - 0s 13ms/step - loss: 0.0114\n",
      "Epoch 51/100\n",
      "23/23 [==============================] - 0s 15ms/step - loss: 0.0107\n",
      "Epoch 52/100\n",
      "23/23 [==============================] - 0s 16ms/step - loss: 0.0108\n",
      "Epoch 53/100\n",
      "23/23 [==============================] - 0s 13ms/step - loss: 0.0117\n",
      "Epoch 54/100\n",
      "23/23 [==============================] - 0s 15ms/step - loss: 0.0111\n",
      "Epoch 55/100\n",
      "23/23 [==============================] - 0s 15ms/step - loss: 0.0100\n",
      "Epoch 56/100\n",
      "23/23 [==============================] - 0s 13ms/step - loss: 0.0097\n",
      "Epoch 57/100\n",
      "23/23 [==============================] - 0s 16ms/step - loss: 0.0101\n",
      "Epoch 58/100\n",
      "23/23 [==============================] - 0s 15ms/step - loss: 0.0100\n",
      "Epoch 59/100\n",
      "23/23 [==============================] - 0s 13ms/step - loss: 0.0097\n",
      "Epoch 60/100\n",
      "23/23 [==============================] - 0s 14ms/step - loss: 0.0096\n",
      "Epoch 61/100\n",
      "23/23 [==============================] - 0s 14ms/step - loss: 0.0100\n",
      "Epoch 62/100\n",
      "23/23 [==============================] - 0s 14ms/step - loss: 0.0100\n",
      "Epoch 63/100\n",
      "23/23 [==============================] - 0s 16ms/step - loss: 0.0101\n",
      "Epoch 64/100\n",
      "23/23 [==============================] - 0s 14ms/step - loss: 0.0096\n",
      "Epoch 65/100\n",
      "23/23 [==============================] - 0s 13ms/step - loss: 0.0098\n",
      "Epoch 66/100\n",
      "23/23 [==============================] - 0s 13ms/step - loss: 0.0092\n",
      "Epoch 67/100\n",
      "23/23 [==============================] - 0s 14ms/step - loss: 0.0104\n",
      "Epoch 68/100\n",
      "23/23 [==============================] - 0s 13ms/step - loss: 0.0094\n",
      "Epoch 69/100\n",
      "23/23 [==============================] - 0s 13ms/step - loss: 0.0086\n",
      "Epoch 70/100\n",
      "23/23 [==============================] - 0s 13ms/step - loss: 0.0091\n",
      "Epoch 71/100\n",
      "23/23 [==============================] - 0s 13ms/step - loss: 0.0093\n",
      "Epoch 72/100\n",
      "23/23 [==============================] - 0s 14ms/step - loss: 0.0088\n",
      "Epoch 73/100\n",
      "23/23 [==============================] - 0s 13ms/step - loss: 0.0084\n",
      "Epoch 74/100\n",
      "23/23 [==============================] - 0s 13ms/step - loss: 0.0094\n",
      "Epoch 75/100\n",
      "23/23 [==============================] - 0s 14ms/step - loss: 0.0091\n",
      "Epoch 76/100\n",
      "23/23 [==============================] - 0s 14ms/step - loss: 0.0095\n",
      "Epoch 77/100\n",
      "23/23 [==============================] - 0s 15ms/step - loss: 0.0089\n",
      "Epoch 78/100\n",
      "23/23 [==============================] - 0s 16ms/step - loss: 0.0098\n",
      "Epoch 79/100\n",
      "23/23 [==============================] - 0s 15ms/step - loss: 0.0089\n",
      "Epoch 80/100\n",
      "23/23 [==============================] - 0s 14ms/step - loss: 0.0106\n",
      "Epoch 81/100\n",
      "23/23 [==============================] - 0s 15ms/step - loss: 0.0105\n",
      "Epoch 82/100\n",
      "23/23 [==============================] - 0s 14ms/step - loss: 0.0090\n",
      "Epoch 83/100\n",
      "23/23 [==============================] - 0s 13ms/step - loss: 0.0087\n",
      "Epoch 84/100\n",
      "23/23 [==============================] - 0s 13ms/step - loss: 0.0084\n",
      "Epoch 85/100\n",
      "23/23 [==============================] - 0s 14ms/step - loss: 0.0090\n",
      "Epoch 86/100\n",
      "23/23 [==============================] - 0s 14ms/step - loss: 0.0086\n",
      "Epoch 87/100\n",
      "23/23 [==============================] - 0s 13ms/step - loss: 0.0080\n",
      "Epoch 88/100\n",
      "23/23 [==============================] - 0s 16ms/step - loss: 0.0085\n",
      "Epoch 89/100\n",
      "23/23 [==============================] - 0s 13ms/step - loss: 0.0080\n",
      "Epoch 90/100\n",
      "23/23 [==============================] - 0s 14ms/step - loss: 0.0080\n",
      "Epoch 91/100\n",
      "23/23 [==============================] - 0s 14ms/step - loss: 0.0082\n",
      "Epoch 92/100\n",
      "23/23 [==============================] - 0s 13ms/step - loss: 0.0085\n",
      "Epoch 93/100\n",
      "23/23 [==============================] - 0s 13ms/step - loss: 0.0083\n",
      "Epoch 94/100\n",
      "23/23 [==============================] - 0s 14ms/step - loss: 0.0083\n",
      "Epoch 95/100\n",
      "23/23 [==============================] - 0s 13ms/step - loss: 0.0079\n",
      "Epoch 96/100\n",
      "23/23 [==============================] - 0s 13ms/step - loss: 0.0080\n",
      "Epoch 97/100\n",
      "23/23 [==============================] - 0s 14ms/step - loss: 0.0076\n",
      "Epoch 98/100\n",
      "23/23 [==============================] - 0s 13ms/step - loss: 0.0076\n",
      "Epoch 99/100\n",
      "23/23 [==============================] - 0s 13ms/step - loss: 0.0083\n",
      "Epoch 100/100\n",
      "23/23 [==============================] - 0s 14ms/step - loss: 0.0077\n"
     ]
    },
    {
     "data": {
      "text/plain": [
       "<tensorflow.python.keras.callbacks.History at 0x7f2990b356a0>"
      ]
     },
     "execution_count": 152,
     "metadata": {
      "tags": []
     },
     "output_type": "execute_result"
    }
   ],
   "source": [
    "model = Sequential()\n",
    "#Adding the first LSTM layer and some Dropout regularisation\n",
    "model.add(LSTM(units = 50, return_sequences = True, input_shape = (X_train.shape[1], 1)))\n",
    "model.add(Dropout(0.5))\n",
    "# Adding a second LSTM layer and some Dropout regularisation\n",
    "model.add(LSTM(units = 50, return_sequences = True))\n",
    "model.add(Dropout(0.5))\n",
    "# Adding a third LSTM layer and some Dropout regularisation\n",
    "model.add(LSTM(units = 50, return_sequences = True))\n",
    "model.add(Dropout(0.5))\n",
    "# Adding a fourth LSTM layer and some Dropout regularisation\n",
    "model.add(LSTM(units = 50))\n",
    "model.add(Dropout(0.5))\n",
    "# Adding the output layer\n",
    "model.add(Dense(units = 1))\n",
    "\n",
    "# Compiling the RNN\n",
    "model.compile(optimizer = 'adam', loss = 'mean_squared_error')\n",
    "\n",
    "# Fitting the RNN to the Training set\n",
    "model.fit(X_train, y_train, epochs = 100, batch_size = 32)"
   ]
  },
  {
   "cell_type": "code",
   "execution_count": 153,
   "metadata": {
    "id": "V8syt6IOY0Z6",
    "outputId": "82ae6c9c-7f1e-48f0-cc76-9e7b9df9e235",
    "colab": {
     "base_uri": "https://localhost:8080/",
     "height": 52.0
    }
   },
   "outputs": [
    {
     "name": "stdout",
     "output_type": "stream",
     "text": [
      "(521, 1)\n",
      "(521, 60, 1)\n"
     ]
    }
   ],
   "source": [
    "# Getting the predicted stock price\n",
    "dataset_train = df.iloc[:800, 1:2]\n",
    "dataset_test = df.iloc[800:, 1:2]\n",
    "dataset_test1 = dataset_test[7:]\n",
    "print(dataset_test1.shape)\n",
    "dataset_total = pd.concat((dataset_train, dataset_test), axis = 0)\n",
    "inputs = dataset_total[len(dataset_total) - len(dataset_test) - 60:].values\n",
    "inputs = inputs.reshape(-1,1)\n",
    "inputs = sc.transform(inputs)\n",
    "X_test = []\n",
    "for i in range(60+7, 588):\n",
    "    X_test.append(inputs[i-60:i, 0])\n",
    "X_test = np.array(X_test)\n",
    "X_test = np.reshape(X_test, (X_test.shape[0], X_test.shape[1], 1))\n",
    "print(X_test.shape)"
   ]
  },
  {
   "cell_type": "markdown",
   "metadata": {
    "id": "iZRZdTnzY0Z9"
   },
   "source": [
    "Make predictions using the test set"
   ]
  },
  {
   "cell_type": "code",
   "execution_count": 154,
   "metadata": {
    "id": "onKnRRQBY0Z-"
   },
   "outputs": [],
   "source": [
    "predicted_stock_price = model.predict(X_test)\n",
    "predicted_stock_price = sc.inverse_transform(predicted_stock_price)"
   ]
  },
  {
   "cell_type": "markdown",
   "metadata": {
    "id": "EfV4cnuFY0aG"
   },
   "source": [
    "Visualize the results"
   ]
  },
  {
   "cell_type": "code",
   "execution_count": 155,
   "metadata": {
    "id": "A9tbXCiJY0aH",
    "outputId": "6cf990ba-7594-4d5e-bb81-b8d1ea439b6c",
    "colab": {
     "base_uri": "https://localhost:8080/",
     "height": 513.0
    }
   },
   "outputs": [
    {
     "data": {
      "image/png": "[encoded data removed]",
      "text/plain": [
       "<Figure size 864x576 with 1 Axes>"
      ]
     },
     "metadata": {
      "tags": [],
      "needs_background": "light"
     },
     "output_type": "display_data"
    }
   ],
   "source": [
    "# Visualising the results\n",
    "fig = plt.figure(figsize=(12,8))\n",
    "plt.plot(df.loc[800+7:, 'Date'],dataset_test1.values, color = 'red', label = 'Real TESLA Stock Price')\n",
    "plt.plot(df.loc[800+7:, 'Date'],predicted_stock_price, color = 'blue', label = 'Predicted TESLA Stock Price')\n",
    "plt.xticks(np.arange(0,528,50))\n",
    "plt.title('TESLA Stock Price Prediction')\n",
    "plt.xlabel('Time')\n",
    "plt.ylabel('TESLA Stock Price')\n",
    "plt.legend()\n",
    "plt.show()"
   ]
  },
  {
   "cell_type": "markdown",
   "metadata": {
    "id": "maUtL5KyZrEi"
   },
   "source": [
    "## Lag: 14, Hidden Layers: 4, Dropout Rate: 0.5"
   ]
  },
  {
   "cell_type": "markdown",
   "metadata": {
    "id": "43lnlOFHZrEl"
   },
   "source": [
    "14 day"
   ]
  },
  {
   "cell_type": "code",
   "execution_count": 118,
   "metadata": {
    "id": "CkBneDW_ZrEn",
    "outputId": "073f54b8-b2d8-4be7-d63c-8393c94a70a8",
    "colab": {
     "base_uri": "https://localhost:8080/",
     "height": 35.0
    }
   },
   "outputs": [
    {
     "data": {
      "text/plain": [
       "(726, 60, 1)"
      ]
     },
     "execution_count": 118,
     "metadata": {
      "tags": []
     },
     "output_type": "execute_result"
    }
   ],
   "source": [
    "# Feature Scaling\n",
    "sc = MinMaxScaler(feature_range = (0, 1))\n",
    "training_set_scaled = sc.fit_transform(training_set)\n",
    "# Creating a data structure with 60 time-steps and 1 output\n",
    "X_train = []\n",
    "y_train = []\n",
    "for i in range(60, 800-14):\n",
    "    X_train.append(training_set_scaled[i-60:i, 0])\n",
    "    y_train.append(training_set_scaled[i+13, 0])\n",
    "X_train, y_train = np.array(X_train), np.array(y_train)\n",
    "X_train = np.reshape(X_train, (X_train.shape[0], X_train.shape[1], 1))\n",
    "X_train.shape"
   ]
  },
  {
   "cell_type": "markdown",
   "metadata": {
    "id": "EOkaIZWEZrEv"
   },
   "source": [
    "Build LSTM mode, with 50 neurons and 4 layers, droupout rate = 0.5"
   ]
  },
  {
   "cell_type": "code",
   "execution_count": 119,
   "metadata": {
    "id": "hEer9yTQZrEw",
    "outputId": "746ce3c5-a09a-48af-f0c0-6c08229d8684",
    "colab": {
     "base_uri": "https://localhost:8080/",
     "height": 1000.0
    }
   },
   "outputs": [
    {
     "name": "stdout",
     "output_type": "stream",
     "text": [
      "Epoch 1/100\n",
      "23/23 [==============================] - 0s 17ms/step - loss: 0.0962\n",
      "Epoch 2/100\n",
      "23/23 [==============================] - 0s 13ms/step - loss: 0.0339\n",
      "Epoch 3/100\n",
      "23/23 [==============================] - 0s 14ms/step - loss: 0.0278\n",
      "Epoch 4/100\n",
      "23/23 [==============================] - 0s 13ms/step - loss: 0.0251\n",
      "Epoch 5/100\n",
      "23/23 [==============================] - 0s 14ms/step - loss: 0.0247\n",
      "Epoch 6/100\n",
      "23/23 [==============================] - 0s 13ms/step - loss: 0.0257\n",
      "Epoch 7/100\n",
      "23/23 [==============================] - 0s 14ms/step - loss: 0.0236\n",
      "Epoch 8/100\n",
      "23/23 [==============================] - 0s 15ms/step - loss: 0.0234\n",
      "Epoch 9/100\n",
      "23/23 [==============================] - 0s 15ms/step - loss: 0.0259\n",
      "Epoch 10/100\n",
      "23/23 [==============================] - 0s 16ms/step - loss: 0.0244\n",
      "Epoch 11/100\n",
      "23/23 [==============================] - 0s 16ms/step - loss: 0.0236\n",
      "Epoch 12/100\n",
      "23/23 [==============================] - 0s 15ms/step - loss: 0.0241\n",
      "Epoch 13/100\n",
      "23/23 [==============================] - 0s 16ms/step - loss: 0.0257\n",
      "Epoch 14/100\n",
      "23/23 [==============================] - 0s 13ms/step - loss: 0.0235\n",
      "Epoch 15/100\n",
      "23/23 [==============================] - 0s 15ms/step - loss: 0.0222\n",
      "Epoch 16/100\n",
      "23/23 [==============================] - 0s 13ms/step - loss: 0.0217\n",
      "Epoch 17/100\n",
      "23/23 [==============================] - 0s 13ms/step - loss: 0.0241\n",
      "Epoch 18/100\n",
      "23/23 [==============================] - 0s 13ms/step - loss: 0.0221\n",
      "Epoch 19/100\n",
      "23/23 [==============================] - 0s 14ms/step - loss: 0.0220\n",
      "Epoch 20/100\n",
      "23/23 [==============================] - 0s 14ms/step - loss: 0.0208\n",
      "Epoch 21/100\n",
      "23/23 [==============================] - 0s 13ms/step - loss: 0.0230\n",
      "Epoch 22/100\n",
      "23/23 [==============================] - 0s 14ms/step - loss: 0.0211\n",
      "Epoch 23/100\n",
      "23/23 [==============================] - 0s 15ms/step - loss: 0.0213\n",
      "Epoch 24/100\n",
      "23/23 [==============================] - 0s 16ms/step - loss: 0.0217\n",
      "Epoch 25/100\n",
      "23/23 [==============================] - 0s 15ms/step - loss: 0.0207\n",
      "Epoch 26/100\n",
      "23/23 [==============================] - 0s 16ms/step - loss: 0.0210\n",
      "Epoch 27/100\n",
      "23/23 [==============================] - 0s 14ms/step - loss: 0.0194\n",
      "Epoch 28/100\n",
      "23/23 [==============================] - 0s 13ms/step - loss: 0.0186\n",
      "Epoch 29/100\n",
      "23/23 [==============================] - 0s 13ms/step - loss: 0.0182\n",
      "Epoch 30/100\n",
      "23/23 [==============================] - 0s 13ms/step - loss: 0.0192\n",
      "Epoch 31/100\n",
      "23/23 [==============================] - 0s 13ms/step - loss: 0.0185\n",
      "Epoch 32/100\n",
      "23/23 [==============================] - 0s 14ms/step - loss: 0.0185\n",
      "Epoch 33/100\n",
      "23/23 [==============================] - 0s 14ms/step - loss: 0.0176\n",
      "Epoch 34/100\n",
      "23/23 [==============================] - 0s 14ms/step - loss: 0.0182\n",
      "Epoch 35/100\n",
      "23/23 [==============================] - 0s 16ms/step - loss: 0.0173\n",
      "Epoch 36/100\n",
      "23/23 [==============================] - 0s 15ms/step - loss: 0.0163\n",
      "Epoch 37/100\n",
      "23/23 [==============================] - 0s 15ms/step - loss: 0.0160\n",
      "Epoch 38/100\n",
      "23/23 [==============================] - 0s 13ms/step - loss: 0.0159\n",
      "Epoch 39/100\n",
      "23/23 [==============================] - 0s 14ms/step - loss: 0.0176\n",
      "Epoch 40/100\n",
      "23/23 [==============================] - 0s 14ms/step - loss: 0.0151\n",
      "Epoch 41/100\n",
      "23/23 [==============================] - 0s 15ms/step - loss: 0.0157\n",
      "Epoch 42/100\n",
      "23/23 [==============================] - 0s 14ms/step - loss: 0.0139\n",
      "Epoch 43/100\n",
      "23/23 [==============================] - 0s 16ms/step - loss: 0.0143\n",
      "Epoch 44/100\n",
      "23/23 [==============================] - 0s 15ms/step - loss: 0.0138\n",
      "Epoch 45/100\n",
      "23/23 [==============================] - 0s 15ms/step - loss: 0.0147\n",
      "Epoch 46/100\n",
      "23/23 [==============================] - 0s 13ms/step - loss: 0.0135\n",
      "Epoch 47/100\n",
      "23/23 [==============================] - 0s 13ms/step - loss: 0.0149\n",
      "Epoch 48/100\n",
      "23/23 [==============================] - 0s 15ms/step - loss: 0.0138\n",
      "Epoch 49/100\n",
      "23/23 [==============================] - 0s 13ms/step - loss: 0.0123\n",
      "Epoch 50/100\n",
      "23/23 [==============================] - 0s 13ms/step - loss: 0.0142\n",
      "Epoch 51/100\n",
      "23/23 [==============================] - 0s 14ms/step - loss: 0.0120\n",
      "Epoch 52/100\n",
      "23/23 [==============================] - 0s 16ms/step - loss: 0.0129\n",
      "Epoch 53/100\n",
      "23/23 [==============================] - 0s 14ms/step - loss: 0.0120\n",
      "Epoch 54/100\n",
      "23/23 [==============================] - 0s 14ms/step - loss: 0.0129\n",
      "Epoch 55/100\n",
      "23/23 [==============================] - 0s 14ms/step - loss: 0.0125\n",
      "Epoch 56/100\n",
      "23/23 [==============================] - 0s 13ms/step - loss: 0.0127\n",
      "Epoch 57/100\n",
      "23/23 [==============================] - 0s 14ms/step - loss: 0.0126\n",
      "Epoch 58/100\n",
      "23/23 [==============================] - 0s 16ms/step - loss: 0.0121\n",
      "Epoch 59/100\n",
      "23/23 [==============================] - 0s 14ms/step - loss: 0.0121\n",
      "Epoch 60/100\n",
      "23/23 [==============================] - 0s 14ms/step - loss: 0.0126\n",
      "Epoch 61/100\n",
      "23/23 [==============================] - 0s 15ms/step - loss: 0.0126\n",
      "Epoch 62/100\n",
      "23/23 [==============================] - 0s 13ms/step - loss: 0.0124\n",
      "Epoch 63/100\n",
      "23/23 [==============================] - 0s 16ms/step - loss: 0.0111\n",
      "Epoch 64/100\n",
      "23/23 [==============================] - 0s 15ms/step - loss: 0.0116\n",
      "Epoch 65/100\n",
      "23/23 [==============================] - 0s 15ms/step - loss: 0.0117\n",
      "Epoch 66/100\n",
      "23/23 [==============================] - 0s 15ms/step - loss: 0.0115\n",
      "Epoch 67/100\n",
      "23/23 [==============================] - 0s 14ms/step - loss: 0.0109\n",
      "Epoch 68/100\n",
      "23/23 [==============================] - 0s 13ms/step - loss: 0.0115\n",
      "Epoch 69/100\n",
      "23/23 [==============================] - 0s 13ms/step - loss: 0.0095\n",
      "Epoch 70/100\n",
      "23/23 [==============================] - 0s 13ms/step - loss: 0.0100\n",
      "Epoch 71/100\n",
      "23/23 [==============================] - 0s 14ms/step - loss: 0.0106\n",
      "Epoch 72/100\n",
      "23/23 [==============================] - 0s 13ms/step - loss: 0.0100\n",
      "Epoch 73/100\n",
      "23/23 [==============================] - 0s 15ms/step - loss: 0.0100\n",
      "Epoch 74/100\n",
      "23/23 [==============================] - 0s 14ms/step - loss: 0.0100\n",
      "Epoch 75/100\n",
      "23/23 [==============================] - 0s 13ms/step - loss: 0.0100\n",
      "Epoch 76/100\n",
      "23/23 [==============================] - 0s 13ms/step - loss: 0.0102\n",
      "Epoch 77/100\n",
      "23/23 [==============================] - 0s 15ms/step - loss: 0.0096\n",
      "Epoch 78/100\n",
      "23/23 [==============================] - 0s 14ms/step - loss: 0.0091\n",
      "Epoch 79/100\n",
      "23/23 [==============================] - 0s 13ms/step - loss: 0.0095\n",
      "Epoch 80/100\n",
      "23/23 [==============================] - 0s 14ms/step - loss: 0.0095\n",
      "Epoch 81/100\n",
      "23/23 [==============================] - 0s 14ms/step - loss: 0.0081\n",
      "Epoch 82/100\n",
      "23/23 [==============================] - 0s 14ms/step - loss: 0.0087\n",
      "Epoch 83/100\n",
      "23/23 [==============================] - 0s 13ms/step - loss: 0.0089\n",
      "Epoch 84/100\n",
      "23/23 [==============================] - 0s 16ms/step - loss: 0.0098\n",
      "Epoch 85/100\n",
      "23/23 [==============================] - 0s 16ms/step - loss: 0.0094\n",
      "Epoch 86/100\n",
      "23/23 [==============================] - 0s 15ms/step - loss: 0.0089\n",
      "Epoch 87/100\n",
      "23/23 [==============================] - 0s 14ms/step - loss: 0.0086\n",
      "Epoch 88/100\n",
      "23/23 [==============================] - 0s 13ms/step - loss: 0.0088\n",
      "Epoch 89/100\n",
      "23/23 [==============================] - 0s 14ms/step - loss: 0.0087\n",
      "Epoch 90/100\n",
      "23/23 [==============================] - 0s 14ms/step - loss: 0.0085\n",
      "Epoch 91/100\n",
      "23/23 [==============================] - 0s 13ms/step - loss: 0.0086\n",
      "Epoch 92/100\n",
      "23/23 [==============================] - 0s 14ms/step - loss: 0.0076\n",
      "Epoch 93/100\n",
      "23/23 [==============================] - 0s 13ms/step - loss: 0.0081\n",
      "Epoch 94/100\n",
      "23/23 [==============================] - 0s 13ms/step - loss: 0.0079\n",
      "Epoch 95/100\n",
      "23/23 [==============================] - 0s 15ms/step - loss: 0.0089\n",
      "Epoch 96/100\n",
      "23/23 [==============================] - 0s 16ms/step - loss: 0.0086\n",
      "Epoch 97/100\n",
      "23/23 [==============================] - 0s 16ms/step - loss: 0.0084\n",
      "Epoch 98/100\n",
      "23/23 [==============================] - 0s 14ms/step - loss: 0.0082\n",
      "Epoch 99/100\n",
      "23/23 [==============================] - 0s 13ms/step - loss: 0.0071\n",
      "Epoch 100/100\n",
      "23/23 [==============================] - 0s 14ms/step - loss: 0.0075\n"
     ]
    },
    {
     "data": {
      "text/plain": [
       "<tensorflow.python.keras.callbacks.History at 0x7f2994e456d8>"
      ]
     },
     "execution_count": 119,
     "metadata": {
      "tags": []
     },
     "output_type": "execute_result"
    }
   ],
   "source": [
    "model = Sequential()\n",
    "#Adding the first LSTM layer and some Dropout regularisation\n",
    "model.add(LSTM(units = 50, return_sequences = True, input_shape = (X_train.shape[1], 1)))\n",
    "model.add(Dropout(0.5))\n",
    "# Adding a second LSTM layer and some Dropout regularisation\n",
    "model.add(LSTM(units = 50, return_sequences = True))\n",
    "model.add(Dropout(0.5))\n",
    "# Adding a third LSTM layer and some Dropout regularisation\n",
    "model.add(LSTM(units = 50, return_sequences = True))\n",
    "model.add(Dropout(0.5))\n",
    "# Adding a fourth LSTM layer and some Dropout regularisation\n",
    "model.add(LSTM(units = 50))\n",
    "model.add(Dropout(0.5))\n",
    "# Adding the output layer\n",
    "model.add(Dense(units = 1))\n",
    "\n",
    "# Compiling the RNN\n",
    "model.compile(optimizer = 'adam', loss = 'mean_squared_error')\n",
    "\n",
    "# Fitting the RNN to the Training set\n",
    "model.fit(X_train, y_train, epochs = 100, batch_size = 32)"
   ]
  },
  {
   "cell_type": "code",
   "execution_count": 147,
   "metadata": {
    "id": "nQKx-DVoZrE2",
    "outputId": "b7d46336-0f61-40ea-a5b8-51128ba08058",
    "colab": {
     "base_uri": "https://localhost:8080/",
     "height": 69.0
    }
   },
   "outputs": [
    {
     "name": "stdout",
     "output_type": "stream",
     "text": [
      "(528, 1)\n",
      "(514, 1)\n",
      "(514, 60, 1)\n"
     ]
    }
   ],
   "source": [
    "# Getting the predicted stock price\n",
    "dataset_train = df.iloc[:800, 1:2]\n",
    "dataset_test = df.iloc[800:, 1:2]\n",
    "dataset_test1 = dataset_test[14:]\n",
    "print(dataset_test.shape)\n",
    "print(dataset_test1.shape)\n",
    "dataset_total = pd.concat((dataset_train, dataset_test), axis = 0)\n",
    "inputs = dataset_total[len(dataset_total) - len(dataset_test) - 60:].values\n",
    "inputs = inputs.reshape(-1,1)\n",
    "inputs = sc.transform(inputs)\n",
    "X_test = []\n",
    "for i in range(60+14, 588):\n",
    "    X_test.append(inputs[i-60:i, 0])\n",
    "X_test = np.array(X_test)\n",
    "X_test = np.reshape(X_test, (X_test.shape[0], X_test.shape[1], 1))\n",
    "print(X_test.shape)"
   ]
  },
  {
   "cell_type": "markdown",
   "metadata": {
    "id": "SfQWTpoeZrE8"
   },
   "source": [
    "Make predictions using the test set"
   ]
  },
  {
   "cell_type": "code",
   "execution_count": 148,
   "metadata": {
    "id": "3EHRLKjzZrE9"
   },
   "outputs": [],
   "source": [
    "predicted_stock_price = model.predict(X_test)\n",
    "predicted_stock_price = sc.inverse_transform(predicted_stock_price)"
   ]
  },
  {
   "cell_type": "markdown",
   "metadata": {
    "id": "uUGABYXPZrFC"
   },
   "source": [
    "Visualize the results"
   ]
  },
  {
   "cell_type": "code",
   "execution_count": 149,
   "metadata": {
    "id": "HtdCYbamZrFC",
    "outputId": "c597ea97-529e-43fb-b641-876b6c10ca18",
    "colab": {
     "base_uri": "https://localhost:8080/",
     "height": 513.0
    }
   },
   "outputs": [
    {
     "data": {
      "image/png": "[encoded data removed]",
      "text/plain": [
       "<Figure size 864x576 with 1 Axes>"
      ]
     },
     "metadata": {
      "tags": [],
      "needs_background": "light"
     },
     "output_type": "display_data"
    }
   ],
   "source": [
    "# Visualising the results\n",
    "fig = plt.figure(figsize=(12,8))\n",
    "plt.plot(df.loc[800+14:, 'Date'],dataset_test1.values, color = 'red', label = 'Real TESLA Stock Price')\n",
    "plt.plot(df.loc[800+14:, 'Date'],predicted_stock_price, color = 'blue', label = 'Predicted TESLA Stock Price')\n",
    "plt.xticks(np.arange(0,528,50))\n",
    "plt.title('TESLA Stock Price Prediction')\n",
    "plt.xlabel('Time')\n",
    "plt.ylabel('TESLA Stock Price')\n",
    "plt.legend()\n",
    "plt.show()"
   ]
  }
 ],
 "metadata": {
  "colab": {
   "name": "HW3.ipynb",
   "provenance": [],
   "collapsed_sections": []
  },
  "kernelspec": {
   "name": "python3",
   "display_name": "Python 3"
  },
  "accelerator": "GPU"
 },
 "nbformat": 4,
 "nbformat_minor": 0
}
